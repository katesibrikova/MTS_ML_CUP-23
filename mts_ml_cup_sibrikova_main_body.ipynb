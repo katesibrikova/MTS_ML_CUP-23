{
 "cells": [
  {
   "cell_type": "markdown",
   "id": "228c906e",
   "metadata": {},
   "source": [
    "# Подготовка параметров и подбор модели для финального предсказания"
   ]
  },
  {
   "cell_type": "markdown",
   "id": "dcb994c7",
   "metadata": {},
   "source": [
    "**Задача соревнования**\n",
    "\n",
    "Определение пола и возраста владельца HTTP cookie по истории активности пользователя в интернете на основе синтетических данных.\n",
    "\n",
    "В моем распоряжении находится база данных в которой хранится информация об активности 400к+ пользователей на уровне даты+времени суток. \n",
    "\n",
    "Поскольку поставленная задача классификации - определить пол и возраст пользователя, то для формирования рабочего датасета я аггрегирую данные на уровне пользователя: user_id + [параметры/характеристики, полученные из данных]\n",
    "\n",
    "В данном ноутбуке я составляю таблицу с параметрами для каждого пользователя (его основной регион пребывания, основная модель устройства и пр), а так же добавляю данные по посещаемости сайтов-кластеров (эту задачу я выполнила ранее - см в см.mts_ml_cup_sibrikova_url_claster.ipynb) \n",
    "\n",
    "Далее Полученные данные разбиваю на обучающую и тестовую выборку и произвожу поиск наилучшей модели для поставленной задачи (Параллельно тестируя несколько вариантов кластеризации сайтов и подходы к определению возраста - задачей классификации или регрессией с последующим бакетированием на необходимые возрастные подгруппы)\n",
    "\n",
    "Используемые модели: Linear Regression, Logistic Regression, Random Forest classifier+regression, Catboost Classifier+regressor,  а так же LGBM classifier+regressor. Некоторые из типов моделей показывали крайне неудовлетворительный результат или долго рассчитывались, поэтому при тестах на разных кластеризациях сайтов были использованы выборочно. \n",
    "\n",
    "Итоговый этап работы над проектом находится тут MTS_ML_CUP_sibrikova_public_submition) - для моделей с наилучшими показателями произвожу подбор гиперпараметров и дальнейшее предсказание на конкурсном тесте. "
   ]
  },
  {
   "cell_type": "markdown",
   "id": "7fee82b3",
   "metadata": {},
   "source": [
    "## Импорт необходимых библиотек"
   ]
  },
  {
   "cell_type": "code",
   "execution_count": 2,
   "id": "05646152",
   "metadata": {},
   "outputs": [],
   "source": [
    "import sys\n",
    "import os\n",
    "import warnings\n",
    "os.environ['OPENBLAS_NUM_THREADS'] = '1'"
   ]
  },
  {
   "cell_type": "code",
   "execution_count": 3,
   "id": "408a09d7",
   "metadata": {},
   "outputs": [],
   "source": [
    "import pandas as pd\n",
    "import numpy as np\n",
    "import time\n",
    "import pyarrow.parquet as pq\n",
    "import pyarrow as pa\n",
    "import scipy\n",
    "import implicit\n",
    "import bisect\n",
    "import sklearn.metrics as m\n",
    "from catboost import CatBoostClassifier, CatBoostRegressor, Pool\n",
    "from sklearn.model_selection import train_test_split\n",
    "from sklearn.calibration import calibration_curve, CalibratedClassifierCV"
   ]
  },
  {
   "cell_type": "code",
   "execution_count": 4,
   "id": "9af5ca7c",
   "metadata": {},
   "outputs": [],
   "source": [
    "import seaborn as sns\n",
    "import matplotlib.pyplot as plt\n",
    "import plotly.express as px"
   ]
  },
  {
   "cell_type": "code",
   "execution_count": 5,
   "id": "19c7b9b6",
   "metadata": {},
   "outputs": [],
   "source": [
    "from sklearn.preprocessing import StandardScaler, OneHotEncoder,OrdinalEncoder"
   ]
  },
  {
   "cell_type": "code",
   "execution_count": 6,
   "id": "ea9d2131",
   "metadata": {},
   "outputs": [],
   "source": [
    "from sklearn.linear_model import LogisticRegression,LinearRegression\n",
    "from sklearn.ensemble import RandomForestClassifier,RandomForestRegressor\n",
    "import lightgbm as lgb\n",
    "\n",
    "warnings.simplefilter(action='ignore', category=pd.errors.PerformanceWarning)"
   ]
  },
  {
   "cell_type": "markdown",
   "id": "b2cfa8b9",
   "metadata": {},
   "source": [
    "## Загрузка внешних файлов"
   ]
  },
  {
   "cell_type": "code",
   "execution_count": 7,
   "id": "be820949",
   "metadata": {},
   "outputs": [],
   "source": [
    "# путь к папке с файлу данных\n",
    "LOCAL_DATA_PATH = './context_data'\n",
    "\n",
    "# параметр\n",
    "SPLIT_SEED = 42\n",
    "\n",
    "# Основной датасет\n",
    "DATA_FILE = 'competition_data_final_pqt'\n",
    "\n",
    "# таргеты\n",
    "TARGET_FILE = 'public_train.pqt'\n",
    "\n",
    "# ID клиентов по которым делаем сабмит\n",
    "SUBMISSION_FILE = 'submission.csv'"
   ]
  },
  {
   "cell_type": "code",
   "execution_count": 8,
   "id": "bfbe3efa",
   "metadata": {},
   "outputs": [
    {
     "name": "stdout",
     "output_type": "stream",
     "text": [
      "CPU times: user 1min 30s, sys: 34.2 s, total: 2min 5s\n",
      "Wall time: 12.2 s\n"
     ]
    }
   ],
   "source": [
    "%%time\n",
    "# ID клиентов для сабмита\n",
    "id_to_submit = pd.read_csv(f'{LOCAL_DATA_PATH}/{SUBMISSION_FILE}')\n",
    "\n",
    "# Таргеты\n",
    "targets = pq.read_table(f'{LOCAL_DATA_PATH}/{TARGET_FILE}')\n",
    "\n",
    "# Основной датасет\n",
    "data = pq.read_table(f'{LOCAL_DATA_PATH}/{DATA_FILE}')"
   ]
  },
  {
   "cell_type": "code",
   "execution_count": 9,
   "id": "91139ca4",
   "metadata": {},
   "outputs": [
    {
     "data": {
      "text/html": [
       "<div>\n",
       "<style scoped>\n",
       "    .dataframe tbody tr th:only-of-type {\n",
       "        vertical-align: middle;\n",
       "    }\n",
       "\n",
       "    .dataframe tbody tr th {\n",
       "        vertical-align: top;\n",
       "    }\n",
       "\n",
       "    .dataframe thead tr th {\n",
       "        text-align: left;\n",
       "    }\n",
       "</style>\n",
       "<table border=\"1\" class=\"dataframe\">\n",
       "  <thead>\n",
       "    <tr>\n",
       "      <th></th>\n",
       "      <th>field</th>\n",
       "      <th>type</th>\n",
       "    </tr>\n",
       "  </thead>\n",
       "  <tbody>\n",
       "    <tr>\n",
       "      <th>0</th>\n",
       "      <td>region_name</td>\n",
       "      <td>string</td>\n",
       "    </tr>\n",
       "    <tr>\n",
       "      <th>1</th>\n",
       "      <td>city_name</td>\n",
       "      <td>string</td>\n",
       "    </tr>\n",
       "    <tr>\n",
       "      <th>2</th>\n",
       "      <td>cpe_manufacturer_name</td>\n",
       "      <td>string</td>\n",
       "    </tr>\n",
       "    <tr>\n",
       "      <th>3</th>\n",
       "      <td>cpe_model_name</td>\n",
       "      <td>string</td>\n",
       "    </tr>\n",
       "    <tr>\n",
       "      <th>4</th>\n",
       "      <td>url_host</td>\n",
       "      <td>string</td>\n",
       "    </tr>\n",
       "    <tr>\n",
       "      <th>5</th>\n",
       "      <td>cpe_type_cd</td>\n",
       "      <td>string</td>\n",
       "    </tr>\n",
       "    <tr>\n",
       "      <th>6</th>\n",
       "      <td>cpe_model_os_type</td>\n",
       "      <td>string</td>\n",
       "    </tr>\n",
       "    <tr>\n",
       "      <th>7</th>\n",
       "      <td>price</td>\n",
       "      <td>double</td>\n",
       "    </tr>\n",
       "    <tr>\n",
       "      <th>8</th>\n",
       "      <td>date</td>\n",
       "      <td>date32[day]</td>\n",
       "    </tr>\n",
       "    <tr>\n",
       "      <th>9</th>\n",
       "      <td>part_of_day</td>\n",
       "      <td>string</td>\n",
       "    </tr>\n",
       "    <tr>\n",
       "      <th>10</th>\n",
       "      <td>request_cnt</td>\n",
       "      <td>int64</td>\n",
       "    </tr>\n",
       "    <tr>\n",
       "      <th>11</th>\n",
       "      <td>user_id</td>\n",
       "      <td>int64</td>\n",
       "    </tr>\n",
       "  </tbody>\n",
       "</table>\n",
       "</div>"
      ],
      "text/plain": [
       "                    field         type\n",
       "0             region_name       string\n",
       "1               city_name       string\n",
       "2   cpe_manufacturer_name       string\n",
       "3          cpe_model_name       string\n",
       "4                url_host       string\n",
       "5             cpe_type_cd       string\n",
       "6       cpe_model_os_type       string\n",
       "7                   price       double\n",
       "8                    date  date32[day]\n",
       "9             part_of_day       string\n",
       "10            request_cnt        int64\n",
       "11                user_id        int64"
      ]
     },
     "execution_count": 9,
     "metadata": {},
     "output_type": "execute_result"
    }
   ],
   "source": [
    "#посмотрим струкрутру исходного файла\n",
    "pd.DataFrame([(z.name, z.type) for z in data.schema], columns = [['field', 'type']])"
   ]
  },
  {
   "cell_type": "markdown",
   "id": "b944119d",
   "metadata": {},
   "source": [
    "## Подготовка признаков уровня user_id"
   ]
  },
  {
   "cell_type": "markdown",
   "id": "83738edc",
   "metadata": {},
   "source": [
    "### reg_main - reg_count"
   ]
  },
  {
   "cell_type": "code",
   "execution_count": 10,
   "id": "b11021d8",
   "metadata": {},
   "outputs": [],
   "source": [
    "#аггрегируем нужные поля из исходного датасета\n",
    "reg_user = data.select(['user_id', 'region_name', 'request_cnt']).\\\n",
    "    group_by(['user_id', 'region_name']).aggregate([('request_cnt', \"sum\")])"
   ]
  },
  {
   "cell_type": "code",
   "execution_count": 11,
   "id": "16db4f96",
   "metadata": {},
   "outputs": [],
   "source": [
    "#для удобства переведем в pdDataframe\n",
    "reg_user=reg_user.to_pandas()"
   ]
  },
  {
   "cell_type": "code",
   "execution_count": 12,
   "id": "ffd424f2",
   "metadata": {},
   "outputs": [],
   "source": [
    "reg_user= reg_user.sort_values(by=['user_id','request_cnt_sum'],ascending=False,ignore_index=True)"
   ]
  },
  {
   "cell_type": "code",
   "execution_count": 13,
   "id": "fdb09511",
   "metadata": {},
   "outputs": [],
   "source": [
    "#cоставим таблицу с кол-вом регионовдля юзера и соединим с таблицой с самым популярным регионом для каждого юзера\n",
    "info_user=reg_user.groupby(['user_id',]).agg({'request_cnt_sum':'count'}).join(\\\n",
    "    reg_user.groupby(['user_id']).agg({'region_name':'first'}))"
   ]
  },
  {
   "cell_type": "code",
   "execution_count": 14,
   "id": "f86830b6",
   "metadata": {},
   "outputs": [],
   "source": [
    "info_user=pd.DataFrame(info_user)"
   ]
  },
  {
   "cell_type": "code",
   "execution_count": 15,
   "id": "81fc08e0",
   "metadata": {
    "scrolled": true
   },
   "outputs": [
    {
     "data": {
      "text/html": [
       "<div>\n",
       "<style scoped>\n",
       "    .dataframe tbody tr th:only-of-type {\n",
       "        vertical-align: middle;\n",
       "    }\n",
       "\n",
       "    .dataframe tbody tr th {\n",
       "        vertical-align: top;\n",
       "    }\n",
       "\n",
       "    .dataframe thead th {\n",
       "        text-align: right;\n",
       "    }\n",
       "</style>\n",
       "<table border=\"1\" class=\"dataframe\">\n",
       "  <thead>\n",
       "    <tr style=\"text-align: right;\">\n",
       "      <th></th>\n",
       "      <th>reg_count</th>\n",
       "      <th>reg_main</th>\n",
       "    </tr>\n",
       "    <tr>\n",
       "      <th>user_id</th>\n",
       "      <th></th>\n",
       "      <th></th>\n",
       "    </tr>\n",
       "  </thead>\n",
       "  <tbody>\n",
       "    <tr>\n",
       "      <th>0</th>\n",
       "      <td>1</td>\n",
       "      <td>Москва</td>\n",
       "    </tr>\n",
       "    <tr>\n",
       "      <th>1</th>\n",
       "      <td>3</td>\n",
       "      <td>Москва</td>\n",
       "    </tr>\n",
       "    <tr>\n",
       "      <th>2</th>\n",
       "      <td>1</td>\n",
       "      <td>Республика Коми</td>\n",
       "    </tr>\n",
       "    <tr>\n",
       "      <th>3</th>\n",
       "      <td>1</td>\n",
       "      <td>Воронежская область</td>\n",
       "    </tr>\n",
       "    <tr>\n",
       "      <th>4</th>\n",
       "      <td>5</td>\n",
       "      <td>Краснодарский край</td>\n",
       "    </tr>\n",
       "  </tbody>\n",
       "</table>\n",
       "</div>"
      ],
      "text/plain": [
       "         reg_count             reg_main\n",
       "user_id                                \n",
       "0                1               Москва\n",
       "1                3               Москва\n",
       "2                1      Республика Коми\n",
       "3                1  Воронежская область\n",
       "4                5   Краснодарский край"
      ]
     },
     "execution_count": 15,
     "metadata": {},
     "output_type": "execute_result"
    }
   ],
   "source": [
    "info_user.columns=['reg_count','reg_main']\n",
    "info_user.head()"
   ]
  },
  {
   "cell_type": "code",
   "execution_count": 16,
   "id": "a640b6bb",
   "metadata": {},
   "outputs": [],
   "source": [
    "del reg_user"
   ]
  },
  {
   "cell_type": "markdown",
   "id": "6cd29153",
   "metadata": {},
   "source": [
    "Для остальных категориальных переменных произведем аналогичные преобразования и соединим таблицы по user_id"
   ]
  },
  {
   "cell_type": "markdown",
   "id": "bae76262",
   "metadata": {},
   "source": [
    "### cpe_manufacturer_name"
   ]
  },
  {
   "cell_type": "code",
   "execution_count": 17,
   "id": "a50eb9f5",
   "metadata": {},
   "outputs": [],
   "source": [
    "reg_user = data.select(['user_id', 'cpe_manufacturer_name', 'request_cnt']).\\\n",
    "    group_by(['user_id', 'cpe_manufacturer_name']).aggregate([('request_cnt', \"sum\")])"
   ]
  },
  {
   "cell_type": "code",
   "execution_count": 18,
   "id": "645d9f24",
   "metadata": {},
   "outputs": [],
   "source": [
    "reg_user=reg_user.to_pandas()\n",
    "\n",
    "reg_user= reg_user.sort_values(by=['user_id','request_cnt_sum'],ascending=False,ignore_index=True)"
   ]
  },
  {
   "cell_type": "code",
   "execution_count": 19,
   "id": "f4e09b4e",
   "metadata": {},
   "outputs": [],
   "source": [
    "reg_user = reg_user.groupby(['user_id',]).agg({'request_cnt_sum':'count'}).join(\\\n",
    "    reg_user.groupby(['user_id']).agg({'cpe_manufacturer_name':'first'}))"
   ]
  },
  {
   "cell_type": "code",
   "execution_count": 20,
   "id": "c8ded10b",
   "metadata": {},
   "outputs": [],
   "source": [
    "reg_user = reg_user.drop('request_cnt_sum',axis=1)"
   ]
  },
  {
   "cell_type": "code",
   "execution_count": 21,
   "id": "4630a397",
   "metadata": {},
   "outputs": [],
   "source": [
    "info_user=info_user.join(reg_user)"
   ]
  },
  {
   "cell_type": "code",
   "execution_count": 22,
   "id": "758bfdfb",
   "metadata": {},
   "outputs": [
    {
     "data": {
      "text/html": [
       "<div>\n",
       "<style scoped>\n",
       "    .dataframe tbody tr th:only-of-type {\n",
       "        vertical-align: middle;\n",
       "    }\n",
       "\n",
       "    .dataframe tbody tr th {\n",
       "        vertical-align: top;\n",
       "    }\n",
       "\n",
       "    .dataframe thead th {\n",
       "        text-align: right;\n",
       "    }\n",
       "</style>\n",
       "<table border=\"1\" class=\"dataframe\">\n",
       "  <thead>\n",
       "    <tr style=\"text-align: right;\">\n",
       "      <th></th>\n",
       "      <th>reg_count</th>\n",
       "      <th>reg_main</th>\n",
       "      <th>cpe_manufacturer_name</th>\n",
       "    </tr>\n",
       "    <tr>\n",
       "      <th>user_id</th>\n",
       "      <th></th>\n",
       "      <th></th>\n",
       "      <th></th>\n",
       "    </tr>\n",
       "  </thead>\n",
       "  <tbody>\n",
       "    <tr>\n",
       "      <th>0</th>\n",
       "      <td>1</td>\n",
       "      <td>Москва</td>\n",
       "      <td>Samsung</td>\n",
       "    </tr>\n",
       "    <tr>\n",
       "      <th>1</th>\n",
       "      <td>3</td>\n",
       "      <td>Москва</td>\n",
       "      <td>Xiaomi</td>\n",
       "    </tr>\n",
       "    <tr>\n",
       "      <th>2</th>\n",
       "      <td>1</td>\n",
       "      <td>Республика Коми</td>\n",
       "      <td>Huawei</td>\n",
       "    </tr>\n",
       "    <tr>\n",
       "      <th>3</th>\n",
       "      <td>1</td>\n",
       "      <td>Воронежская область</td>\n",
       "      <td>Huawei Device Company Limited</td>\n",
       "    </tr>\n",
       "    <tr>\n",
       "      <th>4</th>\n",
       "      <td>5</td>\n",
       "      <td>Краснодарский край</td>\n",
       "      <td>Huawei</td>\n",
       "    </tr>\n",
       "  </tbody>\n",
       "</table>\n",
       "</div>"
      ],
      "text/plain": [
       "         reg_count             reg_main          cpe_manufacturer_name\n",
       "user_id                                                               \n",
       "0                1               Москва                        Samsung\n",
       "1                3               Москва                         Xiaomi\n",
       "2                1      Республика Коми                         Huawei\n",
       "3                1  Воронежская область  Huawei Device Company Limited\n",
       "4                5   Краснодарский край                         Huawei"
      ]
     },
     "execution_count": 22,
     "metadata": {},
     "output_type": "execute_result"
    }
   ],
   "source": [
    "info_user.head()"
   ]
  },
  {
   "cell_type": "code",
   "execution_count": 23,
   "id": "7d257f8a",
   "metadata": {},
   "outputs": [],
   "source": [
    "del reg_user"
   ]
  },
  {
   "cell_type": "markdown",
   "id": "fb12d36d",
   "metadata": {},
   "source": [
    "### cpe_type_cd"
   ]
  },
  {
   "cell_type": "code",
   "execution_count": 24,
   "id": "715b8025",
   "metadata": {},
   "outputs": [],
   "source": [
    "reg_user = data.select(['user_id', 'cpe_type_cd', 'request_cnt']).\\\n",
    "    group_by(['user_id', 'cpe_type_cd']).aggregate([('request_cnt', \"sum\")]).to_pandas()\n"
   ]
  },
  {
   "cell_type": "code",
   "execution_count": 25,
   "id": "ed2f560c",
   "metadata": {},
   "outputs": [],
   "source": [
    "reg_user = reg_user.sort_values(by=['user_id','request_cnt_sum'],ascending=False,ignore_index=True)"
   ]
  },
  {
   "cell_type": "code",
   "execution_count": 26,
   "id": "be57b446",
   "metadata": {},
   "outputs": [],
   "source": [
    "reg_user = reg_user.groupby(['user_id',]).agg({'request_cnt_sum':'count'}).join(\\\n",
    "    reg_user.groupby(['user_id']).agg({'cpe_type_cd':'first'}))"
   ]
  },
  {
   "cell_type": "code",
   "execution_count": 27,
   "id": "4829b57b",
   "metadata": {},
   "outputs": [],
   "source": [
    "reg_user=reg_user.drop('request_cnt_sum',axis=1)"
   ]
  },
  {
   "cell_type": "code",
   "execution_count": 28,
   "id": "1012d89f",
   "metadata": {},
   "outputs": [],
   "source": [
    "info_user=info_user.join(reg_user)"
   ]
  },
  {
   "cell_type": "code",
   "execution_count": 29,
   "id": "ac617ac9",
   "metadata": {},
   "outputs": [
    {
     "data": {
      "text/html": [
       "<div>\n",
       "<style scoped>\n",
       "    .dataframe tbody tr th:only-of-type {\n",
       "        vertical-align: middle;\n",
       "    }\n",
       "\n",
       "    .dataframe tbody tr th {\n",
       "        vertical-align: top;\n",
       "    }\n",
       "\n",
       "    .dataframe thead th {\n",
       "        text-align: right;\n",
       "    }\n",
       "</style>\n",
       "<table border=\"1\" class=\"dataframe\">\n",
       "  <thead>\n",
       "    <tr style=\"text-align: right;\">\n",
       "      <th></th>\n",
       "      <th>reg_count</th>\n",
       "      <th>reg_main</th>\n",
       "      <th>cpe_manufacturer_name</th>\n",
       "      <th>cpe_type_cd</th>\n",
       "    </tr>\n",
       "    <tr>\n",
       "      <th>user_id</th>\n",
       "      <th></th>\n",
       "      <th></th>\n",
       "      <th></th>\n",
       "      <th></th>\n",
       "    </tr>\n",
       "  </thead>\n",
       "  <tbody>\n",
       "    <tr>\n",
       "      <th>0</th>\n",
       "      <td>1</td>\n",
       "      <td>Москва</td>\n",
       "      <td>Samsung</td>\n",
       "      <td>smartphone</td>\n",
       "    </tr>\n",
       "    <tr>\n",
       "      <th>1</th>\n",
       "      <td>3</td>\n",
       "      <td>Москва</td>\n",
       "      <td>Xiaomi</td>\n",
       "      <td>smartphone</td>\n",
       "    </tr>\n",
       "    <tr>\n",
       "      <th>2</th>\n",
       "      <td>1</td>\n",
       "      <td>Республика Коми</td>\n",
       "      <td>Huawei</td>\n",
       "      <td>smartphone</td>\n",
       "    </tr>\n",
       "    <tr>\n",
       "      <th>3</th>\n",
       "      <td>1</td>\n",
       "      <td>Воронежская область</td>\n",
       "      <td>Huawei Device Company Limited</td>\n",
       "      <td>smartphone</td>\n",
       "    </tr>\n",
       "    <tr>\n",
       "      <th>4</th>\n",
       "      <td>5</td>\n",
       "      <td>Краснодарский край</td>\n",
       "      <td>Huawei</td>\n",
       "      <td>smartphone</td>\n",
       "    </tr>\n",
       "  </tbody>\n",
       "</table>\n",
       "</div>"
      ],
      "text/plain": [
       "         reg_count             reg_main          cpe_manufacturer_name  \\\n",
       "user_id                                                                  \n",
       "0                1               Москва                        Samsung   \n",
       "1                3               Москва                         Xiaomi   \n",
       "2                1      Республика Коми                         Huawei   \n",
       "3                1  Воронежская область  Huawei Device Company Limited   \n",
       "4                5   Краснодарский край                         Huawei   \n",
       "\n",
       "        cpe_type_cd  \n",
       "user_id              \n",
       "0        smartphone  \n",
       "1        smartphone  \n",
       "2        smartphone  \n",
       "3        smartphone  \n",
       "4        smartphone  "
      ]
     },
     "execution_count": 29,
     "metadata": {},
     "output_type": "execute_result"
    }
   ],
   "source": [
    "info_user.head()"
   ]
  },
  {
   "cell_type": "code",
   "execution_count": 30,
   "id": "57023ce0",
   "metadata": {},
   "outputs": [],
   "source": [
    "del reg_user"
   ]
  },
  {
   "cell_type": "markdown",
   "id": "7061b35f",
   "metadata": {},
   "source": [
    "### cpe_model_os_type"
   ]
  },
  {
   "cell_type": "code",
   "execution_count": 31,
   "id": "427b32cf",
   "metadata": {},
   "outputs": [],
   "source": [
    "reg_user = data.select(['user_id', 'cpe_model_os_type', 'request_cnt']).\\\n",
    "    group_by(['user_id', 'cpe_model_os_type']).aggregate([('request_cnt', \"sum\")]).to_pandas()"
   ]
  },
  {
   "cell_type": "code",
   "execution_count": 32,
   "id": "f1789bd6",
   "metadata": {},
   "outputs": [],
   "source": [
    "reg_user = reg_user.sort_values(by=['user_id','request_cnt_sum'],ascending=False,ignore_index=True)"
   ]
  },
  {
   "cell_type": "code",
   "execution_count": 33,
   "id": "425db777",
   "metadata": {},
   "outputs": [],
   "source": [
    "reg_user = reg_user.groupby(['user_id',]).agg({'request_cnt_sum':'count'}).join(\\\n",
    "    reg_user.groupby(['user_id']).agg({'cpe_model_os_type':'first'}))"
   ]
  },
  {
   "cell_type": "code",
   "execution_count": 34,
   "id": "368577d0",
   "metadata": {},
   "outputs": [],
   "source": [
    "reg_user=reg_user.drop('request_cnt_sum',axis=1)"
   ]
  },
  {
   "cell_type": "code",
   "execution_count": 35,
   "id": "c166dbb0",
   "metadata": {},
   "outputs": [],
   "source": [
    "info_user=info_user.join(reg_user)"
   ]
  },
  {
   "cell_type": "code",
   "execution_count": 36,
   "id": "bd44abfe",
   "metadata": {},
   "outputs": [
    {
     "data": {
      "text/html": [
       "<div>\n",
       "<style scoped>\n",
       "    .dataframe tbody tr th:only-of-type {\n",
       "        vertical-align: middle;\n",
       "    }\n",
       "\n",
       "    .dataframe tbody tr th {\n",
       "        vertical-align: top;\n",
       "    }\n",
       "\n",
       "    .dataframe thead th {\n",
       "        text-align: right;\n",
       "    }\n",
       "</style>\n",
       "<table border=\"1\" class=\"dataframe\">\n",
       "  <thead>\n",
       "    <tr style=\"text-align: right;\">\n",
       "      <th></th>\n",
       "      <th>reg_count</th>\n",
       "      <th>reg_main</th>\n",
       "      <th>cpe_manufacturer_name</th>\n",
       "      <th>cpe_type_cd</th>\n",
       "      <th>cpe_model_os_type</th>\n",
       "    </tr>\n",
       "    <tr>\n",
       "      <th>user_id</th>\n",
       "      <th></th>\n",
       "      <th></th>\n",
       "      <th></th>\n",
       "      <th></th>\n",
       "      <th></th>\n",
       "    </tr>\n",
       "  </thead>\n",
       "  <tbody>\n",
       "    <tr>\n",
       "      <th>0</th>\n",
       "      <td>1</td>\n",
       "      <td>Москва</td>\n",
       "      <td>Samsung</td>\n",
       "      <td>smartphone</td>\n",
       "      <td>Android</td>\n",
       "    </tr>\n",
       "    <tr>\n",
       "      <th>1</th>\n",
       "      <td>3</td>\n",
       "      <td>Москва</td>\n",
       "      <td>Xiaomi</td>\n",
       "      <td>smartphone</td>\n",
       "      <td>Android</td>\n",
       "    </tr>\n",
       "    <tr>\n",
       "      <th>2</th>\n",
       "      <td>1</td>\n",
       "      <td>Республика Коми</td>\n",
       "      <td>Huawei</td>\n",
       "      <td>smartphone</td>\n",
       "      <td>Android</td>\n",
       "    </tr>\n",
       "    <tr>\n",
       "      <th>3</th>\n",
       "      <td>1</td>\n",
       "      <td>Воронежская область</td>\n",
       "      <td>Huawei Device Company Limited</td>\n",
       "      <td>smartphone</td>\n",
       "      <td>Android</td>\n",
       "    </tr>\n",
       "    <tr>\n",
       "      <th>4</th>\n",
       "      <td>5</td>\n",
       "      <td>Краснодарский край</td>\n",
       "      <td>Huawei</td>\n",
       "      <td>smartphone</td>\n",
       "      <td>Android</td>\n",
       "    </tr>\n",
       "  </tbody>\n",
       "</table>\n",
       "</div>"
      ],
      "text/plain": [
       "         reg_count             reg_main          cpe_manufacturer_name  \\\n",
       "user_id                                                                  \n",
       "0                1               Москва                        Samsung   \n",
       "1                3               Москва                         Xiaomi   \n",
       "2                1      Республика Коми                         Huawei   \n",
       "3                1  Воронежская область  Huawei Device Company Limited   \n",
       "4                5   Краснодарский край                         Huawei   \n",
       "\n",
       "        cpe_type_cd cpe_model_os_type  \n",
       "user_id                                \n",
       "0        smartphone           Android  \n",
       "1        smartphone           Android  \n",
       "2        smartphone           Android  \n",
       "3        smartphone           Android  \n",
       "4        smartphone           Android  "
      ]
     },
     "execution_count": 36,
     "metadata": {},
     "output_type": "execute_result"
    }
   ],
   "source": [
    "info_user.head()"
   ]
  },
  {
   "cell_type": "code",
   "execution_count": 37,
   "id": "504c1474",
   "metadata": {},
   "outputs": [],
   "source": [
    "del reg_user"
   ]
  },
  {
   "cell_type": "markdown",
   "id": "cb947ae8",
   "metadata": {},
   "source": [
    "### cpe_model_name + price"
   ]
  },
  {
   "cell_type": "code",
   "execution_count": 38,
   "id": "6647aaba",
   "metadata": {},
   "outputs": [],
   "source": [
    "reg_user = data.select(['user_id', 'cpe_manufacturer_name','cpe_model_name', 'price','request_cnt']).\\\n",
    "    group_by(['user_id', 'cpe_manufacturer_name','cpe_model_name','price']).aggregate([('request_cnt', \"sum\")]).to_pandas()\n"
   ]
  },
  {
   "cell_type": "code",
   "execution_count": 39,
   "id": "2e565480",
   "metadata": {},
   "outputs": [],
   "source": [
    "price_per_model = reg_user.groupby('cpe_model_name')['price'].mean()\n",
    "price_per_manuf = reg_user.groupby('cpe_manufacturer_name')['price'].mean()"
   ]
  },
  {
   "cell_type": "code",
   "execution_count": 40,
   "id": "dcf8da5b",
   "metadata": {},
   "outputs": [],
   "source": [
    "#reg_user.isna().sum()"
   ]
  },
  {
   "cell_type": "code",
   "execution_count": 41,
   "id": "f14ddb88",
   "metadata": {},
   "outputs": [],
   "source": [
    "for model in price_per_model.index:\n",
    "    reg_user.loc[reg_user['cpe_model_name']==model]=\\\n",
    "        reg_user.loc[reg_user['cpe_model_name']==model].\\\n",
    "            fillna(price_per_model.loc[model])"
   ]
  },
  {
   "cell_type": "code",
   "execution_count": 42,
   "id": "6faef855",
   "metadata": {},
   "outputs": [],
   "source": [
    "#reg_user.isna().sum()"
   ]
  },
  {
   "cell_type": "code",
   "execution_count": 43,
   "id": "af40efac",
   "metadata": {},
   "outputs": [],
   "source": [
    "for manuf in price_per_manuf.index:\n",
    "    reg_user.loc[reg_user['cpe_manufacturer_name']==manuf]=\\\n",
    "        reg_user.loc[reg_user['cpe_manufacturer_name']==manuf].\\\n",
    "            fillna(price_per_manuf.loc[manuf])"
   ]
  },
  {
   "cell_type": "code",
   "execution_count": 44,
   "id": "9ce83920",
   "metadata": {},
   "outputs": [],
   "source": [
    "#reg_user.isna().sum()"
   ]
  },
  {
   "cell_type": "code",
   "execution_count": 45,
   "id": "bdc50568",
   "metadata": {},
   "outputs": [],
   "source": [
    "mean_price = reg_user.groupby('cpe_model_name')['price'].mean()\n",
    "mean_price=mean_price.median()\n",
    "reg_user=reg_user.fillna(mean_price)"
   ]
  },
  {
   "cell_type": "code",
   "execution_count": 46,
   "id": "9ca61f6b",
   "metadata": {},
   "outputs": [],
   "source": [
    "#reg_user.isna().sum()"
   ]
  },
  {
   "cell_type": "code",
   "execution_count": 47,
   "id": "f279c22d",
   "metadata": {},
   "outputs": [],
   "source": [
    "reg_user=reg_user.groupby(['user_id','cpe_model_name'])['price'].mean()"
   ]
  },
  {
   "cell_type": "code",
   "execution_count": 48,
   "id": "50e39a7e",
   "metadata": {},
   "outputs": [],
   "source": [
    "reg_user=reg_user.reset_index()"
   ]
  },
  {
   "cell_type": "code",
   "execution_count": 49,
   "id": "5e87b2be",
   "metadata": {},
   "outputs": [],
   "source": [
    "reg_user=reg_user.set_index('user_id')"
   ]
  },
  {
   "cell_type": "code",
   "execution_count": 50,
   "id": "9ff91520",
   "metadata": {},
   "outputs": [],
   "source": [
    "info_user=info_user.join(reg_user)"
   ]
  },
  {
   "cell_type": "code",
   "execution_count": 51,
   "id": "6efd3a31",
   "metadata": {},
   "outputs": [
    {
     "data": {
      "text/html": [
       "<div>\n",
       "<style scoped>\n",
       "    .dataframe tbody tr th:only-of-type {\n",
       "        vertical-align: middle;\n",
       "    }\n",
       "\n",
       "    .dataframe tbody tr th {\n",
       "        vertical-align: top;\n",
       "    }\n",
       "\n",
       "    .dataframe thead th {\n",
       "        text-align: right;\n",
       "    }\n",
       "</style>\n",
       "<table border=\"1\" class=\"dataframe\">\n",
       "  <thead>\n",
       "    <tr style=\"text-align: right;\">\n",
       "      <th></th>\n",
       "      <th>reg_count</th>\n",
       "      <th>reg_main</th>\n",
       "      <th>cpe_manufacturer_name</th>\n",
       "      <th>cpe_type_cd</th>\n",
       "      <th>cpe_model_os_type</th>\n",
       "      <th>cpe_model_name</th>\n",
       "      <th>price</th>\n",
       "    </tr>\n",
       "    <tr>\n",
       "      <th>user_id</th>\n",
       "      <th></th>\n",
       "      <th></th>\n",
       "      <th></th>\n",
       "      <th></th>\n",
       "      <th></th>\n",
       "      <th></th>\n",
       "      <th></th>\n",
       "    </tr>\n",
       "  </thead>\n",
       "  <tbody>\n",
       "    <tr>\n",
       "      <th>0</th>\n",
       "      <td>1</td>\n",
       "      <td>Москва</td>\n",
       "      <td>Samsung</td>\n",
       "      <td>smartphone</td>\n",
       "      <td>Android</td>\n",
       "      <td>Galaxy J1 2016 LTE Dual</td>\n",
       "      <td>2990.000000</td>\n",
       "    </tr>\n",
       "    <tr>\n",
       "      <th>1</th>\n",
       "      <td>3</td>\n",
       "      <td>Москва</td>\n",
       "      <td>Xiaomi</td>\n",
       "      <td>smartphone</td>\n",
       "      <td>Android</td>\n",
       "      <td>Mi 9</td>\n",
       "      <td>33401.428571</td>\n",
       "    </tr>\n",
       "    <tr>\n",
       "      <th>2</th>\n",
       "      <td>1</td>\n",
       "      <td>Республика Коми</td>\n",
       "      <td>Huawei</td>\n",
       "      <td>smartphone</td>\n",
       "      <td>Android</td>\n",
       "      <td>Honor 9 Lite</td>\n",
       "      <td>5915.000000</td>\n",
       "    </tr>\n",
       "    <tr>\n",
       "      <th>3</th>\n",
       "      <td>1</td>\n",
       "      <td>Воронежская область</td>\n",
       "      <td>Huawei Device Company Limited</td>\n",
       "      <td>smartphone</td>\n",
       "      <td>Android</td>\n",
       "      <td>P Smart 2021</td>\n",
       "      <td>13990.000000</td>\n",
       "    </tr>\n",
       "    <tr>\n",
       "      <th>4</th>\n",
       "      <td>5</td>\n",
       "      <td>Краснодарский край</td>\n",
       "      <td>Huawei</td>\n",
       "      <td>smartphone</td>\n",
       "      <td>Android</td>\n",
       "      <td>Nova 3</td>\n",
       "      <td>12990.000000</td>\n",
       "    </tr>\n",
       "  </tbody>\n",
       "</table>\n",
       "</div>"
      ],
      "text/plain": [
       "         reg_count             reg_main          cpe_manufacturer_name  \\\n",
       "user_id                                                                  \n",
       "0                1               Москва                        Samsung   \n",
       "1                3               Москва                         Xiaomi   \n",
       "2                1      Республика Коми                         Huawei   \n",
       "3                1  Воронежская область  Huawei Device Company Limited   \n",
       "4                5   Краснодарский край                         Huawei   \n",
       "\n",
       "        cpe_type_cd cpe_model_os_type           cpe_model_name         price  \n",
       "user_id                                                                       \n",
       "0        smartphone           Android  Galaxy J1 2016 LTE Dual   2990.000000  \n",
       "1        smartphone           Android                     Mi 9  33401.428571  \n",
       "2        smartphone           Android             Honor 9 Lite   5915.000000  \n",
       "3        smartphone           Android             P Smart 2021  13990.000000  \n",
       "4        smartphone           Android                   Nova 3  12990.000000  "
      ]
     },
     "execution_count": 51,
     "metadata": {},
     "output_type": "execute_result"
    }
   ],
   "source": [
    "info_user.head()"
   ]
  },
  {
   "cell_type": "code",
   "execution_count": 52,
   "id": "b937ffbb",
   "metadata": {},
   "outputs": [],
   "source": [
    "del reg_user"
   ]
  },
  {
   "cell_type": "code",
   "execution_count": 53,
   "id": "20f22885",
   "metadata": {},
   "outputs": [],
   "source": [
    "del price_per_model,price_per_manuf"
   ]
  },
  {
   "cell_type": "markdown",
   "id": "b17cad18",
   "metadata": {},
   "source": [
    "### url_host -clustered"
   ]
  },
  {
   "cell_type": "code",
   "execution_count": 54,
   "id": "a80346d5",
   "metadata": {},
   "outputs": [
    {
     "name": "stderr",
     "output_type": "stream",
     "text": [
      "/tmp/ipykernel_19277/1861979497.py:2: DtypeWarning: Columns (2,3,4,5) have mixed types. Specify dtype option on import or set low_memory=False.\n",
      "  url_cluster=pd.read_csv('url_clusters.csv')\n"
     ]
    }
   ],
   "source": [
    "#откроем файл с заранее выполненой кластеризацией url-ов\n",
    "url_cluster=pd.read_csv('url_clusters.csv')"
   ]
  },
  {
   "cell_type": "code",
   "execution_count": 55,
   "id": "3bf73412",
   "metadata": {},
   "outputs": [
    {
     "data": {
      "text/plain": [
       "Index(['url', 'is_low_usage', 'kmeans_50', 'kmeans_150', 'kmeans_300',\n",
       "       'kmeans_500'],\n",
       "      dtype='object')"
      ]
     },
     "execution_count": 55,
     "metadata": {},
     "output_type": "execute_result"
    }
   ],
   "source": [
    "url_cluster.columns"
   ]
  },
  {
   "cell_type": "code",
   "execution_count": 56,
   "id": "f9ffee12",
   "metadata": {},
   "outputs": [
    {
     "name": "stdout",
     "output_type": "stream",
     "text": [
      "CPU times: user 35.7 s, sys: 4.35 s, total: 40.1 s\n",
      "Wall time: 43.7 s\n"
     ]
    }
   ],
   "source": [
    "%%time\n",
    "df = data.select(['user_id', 'url_host', 'request_cnt']).\\\n",
    "    group_by(['user_id', 'url_host',]).aggregate([('request_cnt', \"sum\")]).to_pandas()"
   ]
  },
  {
   "cell_type": "code",
   "execution_count": 57,
   "id": "cf7e52f1",
   "metadata": {},
   "outputs": [],
   "source": [
    "df = df.sort_values(by=['user_id','url_host'])"
   ]
  },
  {
   "cell_type": "code",
   "execution_count": 58,
   "id": "f9689824",
   "metadata": {},
   "outputs": [
    {
     "data": {
      "text/html": [
       "<div>\n",
       "<style scoped>\n",
       "    .dataframe tbody tr th:only-of-type {\n",
       "        vertical-align: middle;\n",
       "    }\n",
       "\n",
       "    .dataframe tbody tr th {\n",
       "        vertical-align: top;\n",
       "    }\n",
       "\n",
       "    .dataframe thead th {\n",
       "        text-align: right;\n",
       "    }\n",
       "</style>\n",
       "<table border=\"1\" class=\"dataframe\">\n",
       "  <thead>\n",
       "    <tr style=\"text-align: right;\">\n",
       "      <th></th>\n",
       "      <th>request_cnt_sum</th>\n",
       "      <th>user_id</th>\n",
       "      <th>url_host</th>\n",
       "    </tr>\n",
       "  </thead>\n",
       "  <tbody>\n",
       "    <tr>\n",
       "      <th>17842783</th>\n",
       "      <td>1</td>\n",
       "      <td>0</td>\n",
       "      <td>ad.adriver.ru</td>\n",
       "    </tr>\n",
       "    <tr>\n",
       "      <th>17842749</th>\n",
       "      <td>6</td>\n",
       "      <td>0</td>\n",
       "      <td>ad.mail.ru</td>\n",
       "    </tr>\n",
       "    <tr>\n",
       "      <th>17842737</th>\n",
       "      <td>5</td>\n",
       "      <td>0</td>\n",
       "      <td>ads.adfox.ru</td>\n",
       "    </tr>\n",
       "    <tr>\n",
       "      <th>17842748</th>\n",
       "      <td>2</td>\n",
       "      <td>0</td>\n",
       "      <td>ads.betweendigital.com</td>\n",
       "    </tr>\n",
       "    <tr>\n",
       "      <th>17842734</th>\n",
       "      <td>9</td>\n",
       "      <td>0</td>\n",
       "      <td>avatars.mds.yandex.net</td>\n",
       "    </tr>\n",
       "  </tbody>\n",
       "</table>\n",
       "</div>"
      ],
      "text/plain": [
       "          request_cnt_sum  user_id                url_host\n",
       "17842783                1        0           ad.adriver.ru\n",
       "17842749                6        0              ad.mail.ru\n",
       "17842737                5        0            ads.adfox.ru\n",
       "17842748                2        0  ads.betweendigital.com\n",
       "17842734                9        0  avatars.mds.yandex.net"
      ]
     },
     "execution_count": 58,
     "metadata": {},
     "output_type": "execute_result"
    }
   ],
   "source": [
    "df.head()"
   ]
  },
  {
   "cell_type": "code",
   "execution_count": 59,
   "id": "d6e39acb",
   "metadata": {},
   "outputs": [],
   "source": [
    "df.columns=['request_cnt_sum', 'user_id', 'url']"
   ]
  },
  {
   "cell_type": "code",
   "execution_count": 60,
   "id": "6431754e",
   "metadata": {},
   "outputs": [],
   "source": [
    "#на основе urlдобавим информацию о кластере\n",
    "df2=df.merge(url_cluster[['url', 'is_low_usage', 'kmeans_50', 'kmeans_150', 'kmeans_300',\n",
    "       'kmeans_500']], on = 'url', how = 'left')"
   ]
  },
  {
   "cell_type": "code",
   "execution_count": 61,
   "id": "e3a9e83c",
   "metadata": {},
   "outputs": [],
   "source": [
    "del df"
   ]
  },
  {
   "cell_type": "code",
   "execution_count": 62,
   "id": "b369c0c9",
   "metadata": {},
   "outputs": [],
   "source": [
    "del url_cluster"
   ]
  },
  {
   "cell_type": "markdown",
   "id": "b90364ba",
   "metadata": {},
   "source": [
    "### Обработка признака посещаемости сайтов с низкой посещаемостью"
   ]
  },
  {
   "cell_type": "markdown",
   "id": "d27d008a",
   "metadata": {},
   "source": [
    "Так как не все сайты удалось спарсить, я их выделила в отдельную группу. Как правило эти сайты имеют низкую популярность среди пользователей, поэтому с целью снизить признаковое пострансво я сфомрирую для них разреженные матрицы и с помощью implicit.approximate_als.FaissAlternatingLeastSquares сфомрирую 150 факторов для признаков посещаемости сайта-по времени суток"
   ]
  },
  {
   "cell_type": "code",
   "execution_count": 63,
   "id": "c69891a0",
   "metadata": {},
   "outputs": [],
   "source": [
    "df2_low =df2.loc[df2['is_low_usage']==True,['user_id','url','request_cnt_sum']]"
   ]
  },
  {
   "cell_type": "code",
   "execution_count": 64,
   "id": "32e38469",
   "metadata": {},
   "outputs": [
    {
     "data": {
      "text/html": [
       "<div>\n",
       "<style scoped>\n",
       "    .dataframe tbody tr th:only-of-type {\n",
       "        vertical-align: middle;\n",
       "    }\n",
       "\n",
       "    .dataframe tbody tr th {\n",
       "        vertical-align: top;\n",
       "    }\n",
       "\n",
       "    .dataframe thead th {\n",
       "        text-align: right;\n",
       "    }\n",
       "</style>\n",
       "<table border=\"1\" class=\"dataframe\">\n",
       "  <thead>\n",
       "    <tr style=\"text-align: right;\">\n",
       "      <th></th>\n",
       "      <th>user_id</th>\n",
       "      <th>url</th>\n",
       "      <th>request_cnt_sum</th>\n",
       "    </tr>\n",
       "  </thead>\n",
       "  <tbody>\n",
       "    <tr>\n",
       "      <th>9</th>\n",
       "      <td>0</td>\n",
       "      <td>employmentcenter.ru</td>\n",
       "      <td>1</td>\n",
       "    </tr>\n",
       "    <tr>\n",
       "      <th>14</th>\n",
       "      <td>0</td>\n",
       "      <td>gorodrabot.ru</td>\n",
       "      <td>2</td>\n",
       "    </tr>\n",
       "    <tr>\n",
       "      <th>15</th>\n",
       "      <td>0</td>\n",
       "      <td>gotovim-doma.ru</td>\n",
       "      <td>1</td>\n",
       "    </tr>\n",
       "    <tr>\n",
       "      <th>19</th>\n",
       "      <td>0</td>\n",
       "      <td>jobfilter.ru</td>\n",
       "      <td>1</td>\n",
       "    </tr>\n",
       "    <tr>\n",
       "      <th>20</th>\n",
       "      <td>0</td>\n",
       "      <td>jobinmoscow.com.ru</td>\n",
       "      <td>1</td>\n",
       "    </tr>\n",
       "  </tbody>\n",
       "</table>\n",
       "</div>"
      ],
      "text/plain": [
       "    user_id                  url  request_cnt_sum\n",
       "9         0  employmentcenter.ru                1\n",
       "14        0        gorodrabot.ru                2\n",
       "15        0      gotovim-doma.ru                1\n",
       "19        0         jobfilter.ru                1\n",
       "20        0   jobinmoscow.com.ru                1"
      ]
     },
     "execution_count": 64,
     "metadata": {},
     "output_type": "execute_result"
    }
   ],
   "source": [
    "df2_low.head()"
   ]
  },
  {
   "cell_type": "code",
   "execution_count": 65,
   "id": "58de75c9",
   "metadata": {},
   "outputs": [],
   "source": [
    "#получу уникальные id всех имеющися пользователей\n",
    "unique_users=pd.DataFrame(info_user.index)"
   ]
  },
  {
   "cell_type": "code",
   "execution_count": 66,
   "id": "4392c773",
   "metadata": {},
   "outputs": [],
   "source": [
    "#добавляю их в получившуюся таблицу и затем заполню пропуски  для кол-во посещений 0, а сайт возь любой из уже имеющися\n",
    "df2_low = df2_low.merge(unique_users['user_id'],on='user_id',how='outer')\n",
    "df2_low['request_cnt_sum']=df2_low['request_cnt_sum'].fillna(0)\n",
    "df2_low['url']=df2_low['url'].fillna('employmentcenter.ru')"
   ]
  },
  {
   "cell_type": "code",
   "execution_count": null,
   "id": "27b7dadb",
   "metadata": {},
   "outputs": [],
   "source": []
  },
  {
   "cell_type": "code",
   "execution_count": null,
   "id": "bdfd8c78",
   "metadata": {},
   "outputs": [],
   "source": []
  },
  {
   "cell_type": "code",
   "execution_count": 67,
   "id": "de6086ec",
   "metadata": {},
   "outputs": [
    {
     "data": {
      "text/html": [
       "<div>\n",
       "<style scoped>\n",
       "    .dataframe tbody tr th:only-of-type {\n",
       "        vertical-align: middle;\n",
       "    }\n",
       "\n",
       "    .dataframe tbody tr th {\n",
       "        vertical-align: top;\n",
       "    }\n",
       "\n",
       "    .dataframe thead tr th {\n",
       "        text-align: left;\n",
       "    }\n",
       "</style>\n",
       "<table border=\"1\" class=\"dataframe\">\n",
       "  <thead>\n",
       "    <tr>\n",
       "      <th></th>\n",
       "      <th>field</th>\n",
       "      <th>type</th>\n",
       "    </tr>\n",
       "  </thead>\n",
       "  <tbody>\n",
       "    <tr>\n",
       "      <th>0</th>\n",
       "      <td>user_id</td>\n",
       "      <td>int64</td>\n",
       "    </tr>\n",
       "    <tr>\n",
       "      <th>1</th>\n",
       "      <td>url</td>\n",
       "      <td>string</td>\n",
       "    </tr>\n",
       "    <tr>\n",
       "      <th>2</th>\n",
       "      <td>request_cnt_sum</td>\n",
       "      <td>double</td>\n",
       "    </tr>\n",
       "    <tr>\n",
       "      <th>3</th>\n",
       "      <td>__index_level_0__</td>\n",
       "      <td>int64</td>\n",
       "    </tr>\n",
       "  </tbody>\n",
       "</table>\n",
       "</div>"
      ],
      "text/plain": [
       "               field    type\n",
       "0            user_id   int64\n",
       "1                url  string\n",
       "2    request_cnt_sum  double\n",
       "3  __index_level_0__   int64"
      ]
     },
     "execution_count": 67,
     "metadata": {},
     "output_type": "execute_result"
    }
   ],
   "source": [
    "df2_low = pa.table(df2_low)\n",
    "pd.DataFrame([(z.name, z.type) for z in df2_low.schema], columns = [['field', 'type']])"
   ]
  },
  {
   "cell_type": "code",
   "execution_count": 68,
   "id": "bad962d2",
   "metadata": {},
   "outputs": [
    {
     "name": "stdout",
     "output_type": "stream",
     "text": [
      "74061 urls\n",
      "415317 users\n"
     ]
    }
   ],
   "source": [
    "#создам словари для сочетаний сайт и юзеров\n",
    "\n",
    "url_set = set(df2_low.select(['url']).to_pandas()['url'])\n",
    "print(f'{len(url_set)} urls')\n",
    "url_dict = {url: idurl for url, idurl in zip(url_set, range(len(url_set)))}\n",
    "usr_set = set(df2_low.select(['user_id']).to_pandas()['user_id'])\n",
    "print(f'{len(usr_set)} users')\n",
    "usr_dict = {usr: user_id for usr, user_id in zip(usr_set, range(len(usr_set)))}"
   ]
  },
  {
   "cell_type": "code",
   "execution_count": 69,
   "id": "89d03cae",
   "metadata": {},
   "outputs": [
    {
     "name": "stdout",
     "output_type": "stream",
     "text": [
      "CPU times: user 2.01 s, sys: 190 ms, total: 2.2 s\n",
      "Wall time: 2.4 s\n"
     ]
    }
   ],
   "source": [
    "%%time\n",
    "\n",
    "values = np.array(df2_low.select(['request_cnt_sum']).to_pandas()['request_cnt_sum'])\n",
    "rows = np.array(df2_low.select(['user_id']).to_pandas()['user_id'].map(usr_dict))\n",
    "cols = np.array(df2_low.select(['url']).to_pandas()['url'].map(url_dict))\n",
    "mat = scipy.sparse.coo_matrix((values, (rows, cols)), shape=(rows.max() + 1, cols.max() + 1))\n",
    "#создаю множества для значений, строк и столбцов и формирую матрицу разреженную"
   ]
  },
  {
   "cell_type": "code",
   "execution_count": 70,
   "id": "c9aec7e3",
   "metadata": {},
   "outputs": [
    {
     "name": "stderr",
     "output_type": "stream",
     "text": [
      "/home/admin/anaconda3/lib/python3.9/site-packages/implicit/utils.py:33: UserWarning: Intel MKL BLAS detected. Its highly recommend to set the environment variable 'export MKL_NUM_THREADS=1' to disable its internal multithreading\n",
      "  warnings.warn(\n",
      "/home/admin/anaconda3/lib/python3.9/site-packages/implicit/utils.py:138: ParameterWarning: Method expects CSR input, and was passed coo_matrix instead. Converting to CSR took 0.35564565658569336 seconds\n",
      "  warnings.warn(\n"
     ]
    },
    {
     "data": {
      "application/vnd.jupyter.widget-view+json": {
       "model_id": "61965e6adc934c11bd4f45fe1137d1f5",
       "version_major": 2,
       "version_minor": 0
      },
      "text/plain": [
       "  0%|          | 0/30 [00:00<?, ?it/s]"
      ]
     },
     "metadata": {},
     "output_type": "display_data"
    }
   ],
   "source": [
    "# снижаю признаковое пространство до 150\n",
    "als = implicit.approximate_als.FaissAlternatingLeastSquares(factors = 150, iterations = 30, use_gpu = False, \\\n",
    "       calculate_training_loss = False, regularization = 0.1)\n",
    "als.fit(mat)\n",
    "\n",
    "u_factors = als.model.user_factors \n",
    "d_factors = als.model.item_factors\n",
    "\n",
    "inv_usr_map = {v: k for k, v in usr_dict.items()}\n",
    "usr_emb = pd.DataFrame(u_factors)\n",
    "usr_emb['user_id'] = usr_emb.index.map(inv_usr_map)"
   ]
  },
  {
   "cell_type": "code",
   "execution_count": null,
   "id": "60f85b77",
   "metadata": {},
   "outputs": [],
   "source": []
  },
  {
   "cell_type": "code",
   "execution_count": 71,
   "id": "34e9ef14",
   "metadata": {},
   "outputs": [],
   "source": [
    "#получаем матрицу посещений малопосещаемых сайтов пользователями\n",
    "usr_low=usr_emb.set_index('user_id')"
   ]
  },
  {
   "cell_type": "code",
   "execution_count": 72,
   "id": "c55796ed",
   "metadata": {},
   "outputs": [],
   "source": [
    "#перемиенуем столбцы\n",
    "dic={}\n",
    "for i in usr_low.columns:\n",
    "    dic[i]=str(i)+\"low\""
   ]
  },
  {
   "cell_type": "code",
   "execution_count": 73,
   "id": "ac3ff86b",
   "metadata": {},
   "outputs": [],
   "source": [
    "usr_low=usr_low.rename(columns=dic)"
   ]
  },
  {
   "cell_type": "code",
   "execution_count": 74,
   "id": "32551000",
   "metadata": {},
   "outputs": [],
   "source": [
    "#добавим получившиеся признаки в общую таблицу признаков\n",
    "info_user=info_user.join(usr_low)"
   ]
  },
  {
   "cell_type": "code",
   "execution_count": 75,
   "id": "e676bce0",
   "metadata": {
    "scrolled": true
   },
   "outputs": [
    {
     "data": {
      "text/html": [
       "<div>\n",
       "<style scoped>\n",
       "    .dataframe tbody tr th:only-of-type {\n",
       "        vertical-align: middle;\n",
       "    }\n",
       "\n",
       "    .dataframe tbody tr th {\n",
       "        vertical-align: top;\n",
       "    }\n",
       "\n",
       "    .dataframe thead th {\n",
       "        text-align: right;\n",
       "    }\n",
       "</style>\n",
       "<table border=\"1\" class=\"dataframe\">\n",
       "  <thead>\n",
       "    <tr style=\"text-align: right;\">\n",
       "      <th></th>\n",
       "      <th>reg_count</th>\n",
       "      <th>reg_main</th>\n",
       "      <th>cpe_manufacturer_name</th>\n",
       "      <th>cpe_type_cd</th>\n",
       "      <th>cpe_model_os_type</th>\n",
       "      <th>cpe_model_name</th>\n",
       "      <th>price</th>\n",
       "      <th>0low</th>\n",
       "      <th>1low</th>\n",
       "      <th>2low</th>\n",
       "      <th>...</th>\n",
       "      <th>140low</th>\n",
       "      <th>141low</th>\n",
       "      <th>142low</th>\n",
       "      <th>143low</th>\n",
       "      <th>144low</th>\n",
       "      <th>145low</th>\n",
       "      <th>146low</th>\n",
       "      <th>147low</th>\n",
       "      <th>148low</th>\n",
       "      <th>149low</th>\n",
       "    </tr>\n",
       "    <tr>\n",
       "      <th>user_id</th>\n",
       "      <th></th>\n",
       "      <th></th>\n",
       "      <th></th>\n",
       "      <th></th>\n",
       "      <th></th>\n",
       "      <th></th>\n",
       "      <th></th>\n",
       "      <th></th>\n",
       "      <th></th>\n",
       "      <th></th>\n",
       "      <th></th>\n",
       "      <th></th>\n",
       "      <th></th>\n",
       "      <th></th>\n",
       "      <th></th>\n",
       "      <th></th>\n",
       "      <th></th>\n",
       "      <th></th>\n",
       "      <th></th>\n",
       "      <th></th>\n",
       "      <th></th>\n",
       "    </tr>\n",
       "  </thead>\n",
       "  <tbody>\n",
       "    <tr>\n",
       "      <th>0</th>\n",
       "      <td>1</td>\n",
       "      <td>Москва</td>\n",
       "      <td>Samsung</td>\n",
       "      <td>smartphone</td>\n",
       "      <td>Android</td>\n",
       "      <td>Galaxy J1 2016 LTE Dual</td>\n",
       "      <td>2990.000000</td>\n",
       "      <td>-0.046409</td>\n",
       "      <td>-0.178324</td>\n",
       "      <td>0.071651</td>\n",
       "      <td>...</td>\n",
       "      <td>-0.011594</td>\n",
       "      <td>-0.171913</td>\n",
       "      <td>-0.077253</td>\n",
       "      <td>-0.067693</td>\n",
       "      <td>-0.009521</td>\n",
       "      <td>-0.049413</td>\n",
       "      <td>0.153522</td>\n",
       "      <td>0.056872</td>\n",
       "      <td>0.102366</td>\n",
       "      <td>0.009024</td>\n",
       "    </tr>\n",
       "    <tr>\n",
       "      <th>1</th>\n",
       "      <td>3</td>\n",
       "      <td>Москва</td>\n",
       "      <td>Xiaomi</td>\n",
       "      <td>smartphone</td>\n",
       "      <td>Android</td>\n",
       "      <td>Mi 9</td>\n",
       "      <td>33401.428571</td>\n",
       "      <td>-0.219280</td>\n",
       "      <td>0.113869</td>\n",
       "      <td>0.234526</td>\n",
       "      <td>...</td>\n",
       "      <td>0.185535</td>\n",
       "      <td>0.040139</td>\n",
       "      <td>0.242046</td>\n",
       "      <td>-0.157605</td>\n",
       "      <td>0.108859</td>\n",
       "      <td>-0.083552</td>\n",
       "      <td>-0.158932</td>\n",
       "      <td>-0.075543</td>\n",
       "      <td>-0.093775</td>\n",
       "      <td>0.183241</td>\n",
       "    </tr>\n",
       "    <tr>\n",
       "      <th>2</th>\n",
       "      <td>1</td>\n",
       "      <td>Республика Коми</td>\n",
       "      <td>Huawei</td>\n",
       "      <td>smartphone</td>\n",
       "      <td>Android</td>\n",
       "      <td>Honor 9 Lite</td>\n",
       "      <td>5915.000000</td>\n",
       "      <td>-0.121608</td>\n",
       "      <td>0.018752</td>\n",
       "      <td>0.011818</td>\n",
       "      <td>...</td>\n",
       "      <td>0.055805</td>\n",
       "      <td>-0.007707</td>\n",
       "      <td>0.018519</td>\n",
       "      <td>-0.030663</td>\n",
       "      <td>-0.053377</td>\n",
       "      <td>0.015479</td>\n",
       "      <td>-0.017513</td>\n",
       "      <td>0.014654</td>\n",
       "      <td>-0.047422</td>\n",
       "      <td>-0.020332</td>\n",
       "    </tr>\n",
       "    <tr>\n",
       "      <th>3</th>\n",
       "      <td>1</td>\n",
       "      <td>Воронежская область</td>\n",
       "      <td>Huawei Device Company Limited</td>\n",
       "      <td>smartphone</td>\n",
       "      <td>Android</td>\n",
       "      <td>P Smart 2021</td>\n",
       "      <td>13990.000000</td>\n",
       "      <td>0.000095</td>\n",
       "      <td>-0.000183</td>\n",
       "      <td>0.000436</td>\n",
       "      <td>...</td>\n",
       "      <td>-0.000746</td>\n",
       "      <td>0.000074</td>\n",
       "      <td>-0.000001</td>\n",
       "      <td>0.000792</td>\n",
       "      <td>-0.000135</td>\n",
       "      <td>-0.000095</td>\n",
       "      <td>-0.000227</td>\n",
       "      <td>0.000715</td>\n",
       "      <td>-0.000026</td>\n",
       "      <td>-0.000290</td>\n",
       "    </tr>\n",
       "    <tr>\n",
       "      <th>4</th>\n",
       "      <td>5</td>\n",
       "      <td>Краснодарский край</td>\n",
       "      <td>Huawei</td>\n",
       "      <td>smartphone</td>\n",
       "      <td>Android</td>\n",
       "      <td>Nova 3</td>\n",
       "      <td>12990.000000</td>\n",
       "      <td>0.074125</td>\n",
       "      <td>0.046849</td>\n",
       "      <td>-0.016433</td>\n",
       "      <td>...</td>\n",
       "      <td>-0.049166</td>\n",
       "      <td>-0.027304</td>\n",
       "      <td>-0.032236</td>\n",
       "      <td>0.081305</td>\n",
       "      <td>-0.025955</td>\n",
       "      <td>-0.199342</td>\n",
       "      <td>-0.006012</td>\n",
       "      <td>0.082552</td>\n",
       "      <td>0.053362</td>\n",
       "      <td>-0.032763</td>\n",
       "    </tr>\n",
       "  </tbody>\n",
       "</table>\n",
       "<p>5 rows × 157 columns</p>\n",
       "</div>"
      ],
      "text/plain": [
       "         reg_count             reg_main          cpe_manufacturer_name  \\\n",
       "user_id                                                                  \n",
       "0                1               Москва                        Samsung   \n",
       "1                3               Москва                         Xiaomi   \n",
       "2                1      Республика Коми                         Huawei   \n",
       "3                1  Воронежская область  Huawei Device Company Limited   \n",
       "4                5   Краснодарский край                         Huawei   \n",
       "\n",
       "        cpe_type_cd cpe_model_os_type           cpe_model_name         price  \\\n",
       "user_id                                                                        \n",
       "0        smartphone           Android  Galaxy J1 2016 LTE Dual   2990.000000   \n",
       "1        smartphone           Android                     Mi 9  33401.428571   \n",
       "2        smartphone           Android             Honor 9 Lite   5915.000000   \n",
       "3        smartphone           Android             P Smart 2021  13990.000000   \n",
       "4        smartphone           Android                   Nova 3  12990.000000   \n",
       "\n",
       "             0low      1low      2low  ...    140low    141low    142low  \\\n",
       "user_id                                ...                                 \n",
       "0       -0.046409 -0.178324  0.071651  ... -0.011594 -0.171913 -0.077253   \n",
       "1       -0.219280  0.113869  0.234526  ...  0.185535  0.040139  0.242046   \n",
       "2       -0.121608  0.018752  0.011818  ...  0.055805 -0.007707  0.018519   \n",
       "3        0.000095 -0.000183  0.000436  ... -0.000746  0.000074 -0.000001   \n",
       "4        0.074125  0.046849 -0.016433  ... -0.049166 -0.027304 -0.032236   \n",
       "\n",
       "           143low    144low    145low    146low    147low    148low    149low  \n",
       "user_id                                                                        \n",
       "0       -0.067693 -0.009521 -0.049413  0.153522  0.056872  0.102366  0.009024  \n",
       "1       -0.157605  0.108859 -0.083552 -0.158932 -0.075543 -0.093775  0.183241  \n",
       "2       -0.030663 -0.053377  0.015479 -0.017513  0.014654 -0.047422 -0.020332  \n",
       "3        0.000792 -0.000135 -0.000095 -0.000227  0.000715 -0.000026 -0.000290  \n",
       "4        0.081305 -0.025955 -0.199342 -0.006012  0.082552  0.053362 -0.032763  \n",
       "\n",
       "[5 rows x 157 columns]"
      ]
     },
     "execution_count": 75,
     "metadata": {},
     "output_type": "execute_result"
    }
   ],
   "source": [
    "info_user.head()"
   ]
  },
  {
   "cell_type": "code",
   "execution_count": 76,
   "id": "7a9ad4af",
   "metadata": {},
   "outputs": [],
   "source": [
    "info_user.to_parquet('info_user.parquet')"
   ]
  },
  {
   "cell_type": "code",
   "execution_count": 77,
   "id": "1277cbc9",
   "metadata": {},
   "outputs": [],
   "source": [
    "del usr_low,df2_low"
   ]
  },
  {
   "cell_type": "markdown",
   "id": "8183b016",
   "metadata": {},
   "source": [
    "### Обработка признака посещаемости кластеризованных сайтов + сайтов с высокой посещаемостью"
   ]
  },
  {
   "cell_type": "code",
   "execution_count": 78,
   "id": "8f13bc4c",
   "metadata": {},
   "outputs": [],
   "source": [
    "df2_high =df2.loc[df2['is_low_usage']==False,['user_id','url','request_cnt_sum','kmeans_50', 'kmeans_150', 'kmeans_300',\n",
    "       'kmeans_500']]"
   ]
  },
  {
   "cell_type": "code",
   "execution_count": 79,
   "id": "0b78fc4d",
   "metadata": {},
   "outputs": [],
   "source": [
    "del df2"
   ]
  },
  {
   "cell_type": "markdown",
   "id": "f484b9ec",
   "metadata": {},
   "source": [
    "#### Добавление данных на 50 кластеров"
   ]
  },
  {
   "cell_type": "code",
   "execution_count": 80,
   "id": "e4525616",
   "metadata": {},
   "outputs": [],
   "source": [
    "#создаю талицу с посещаемостью пользователями сайтов кластеризованных \n",
    "df2_high_50=df2_high.groupby(['user_id','kmeans_50'])['request_cnt_sum'].sum()\n",
    "df2_high_50=pd.DataFrame(df2_high_50)\n",
    "df2_high_50=df2_high_50.reset_index()\n",
    "df2_high_50['kmeans_50']=df2_high_50['kmeans_50'].astype('str')\n",
    "df2_high_50.columns=['user_id', 'url', 'request_cnt_sum']\n",
    "df2_high_50.to_parquet('df2_high_50.parquet')"
   ]
  },
  {
   "cell_type": "code",
   "execution_count": null,
   "id": "caf81b8f",
   "metadata": {},
   "outputs": [],
   "source": []
  },
  {
   "cell_type": "code",
   "execution_count": 81,
   "id": "99336916",
   "metadata": {},
   "outputs": [],
   "source": [
    "\n",
    "\n",
    "df2_high_50 =pa.table(df2_high_50)"
   ]
  },
  {
   "cell_type": "code",
   "execution_count": 82,
   "id": "a43e37ee",
   "metadata": {},
   "outputs": [
    {
     "name": "stdout",
     "output_type": "stream",
     "text": [
      "550 urls\n",
      "415274 users\n"
     ]
    }
   ],
   "source": [
    "#добавляем словари\n",
    "url_set = set(df2_high_50.select(['url']).to_pandas()['url'])\n",
    "print(f'{len(url_set)} urls')\n",
    "url_dict = {url: idurl for url, idurl in zip(url_set, range(len(url_set)))}\n",
    "usr_set = set(df2_high_50.select(['user_id']).to_pandas()['user_id'])\n",
    "print(f'{len(usr_set)} users')\n",
    "usr_dict = {usr: user_id for usr, user_id in zip(usr_set, range(len(usr_set)))}"
   ]
  },
  {
   "cell_type": "code",
   "execution_count": 83,
   "id": "69da3eff",
   "metadata": {},
   "outputs": [
    {
     "name": "stdout",
     "output_type": "stream",
     "text": [
      "CPU times: user 3.96 s, sys: 572 ms, total: 4.54 s\n",
      "Wall time: 4.79 s\n"
     ]
    }
   ],
   "source": [
    "%%time\n",
    "values = np.array(df2_high_50.select(['request_cnt_sum']).to_pandas()['request_cnt_sum'])\n",
    "rows = np.array(df2_high_50.select(['user_id']).to_pandas()['user_id'].map(usr_dict))\n",
    "cols = np.array(df2_high_50.select(['url']).to_pandas()['url'].map(url_dict))\n",
    "mat = scipy.sparse.coo_matrix((values, (rows, cols)), shape=(rows.max() + 1, cols.max() + 1))\n",
    "mat = pd.DataFrame.sparse.from_spmatrix(mat)\n",
    "#Составлем разреженную матрицу и переводим в dataframe"
   ]
  },
  {
   "cell_type": "code",
   "execution_count": 84,
   "id": "887edb76",
   "metadata": {},
   "outputs": [],
   "source": [
    "#переименовываю столбцы по принципу №кластреа+high\n",
    "dic={}\n",
    "for i in mat.columns:\n",
    "    dic[i]=str(i)+'high'\n",
    "\n",
    "mat=mat.rename(columns=dic)"
   ]
  },
  {
   "cell_type": "code",
   "execution_count": 85,
   "id": "112c25c8",
   "metadata": {},
   "outputs": [],
   "source": [
    "mat.index=\\\n",
    "np.array(df2_high_50.select(['user_id']).to_pandas()['user_id'].unique())"
   ]
  },
  {
   "cell_type": "code",
   "execution_count": 86,
   "id": "e068fdc4",
   "metadata": {},
   "outputs": [
    {
     "name": "stdout",
     "output_type": "stream",
     "text": [
      "<class 'pandas.core.frame.DataFrame'>\n",
      "Int64Index: 415317 entries, 0 to 415316\n",
      "Columns: 157 entries, reg_count to 149low\n",
      "dtypes: float32(150), float64(1), int64(1), object(5)\n",
      "memory usage: 279.1+ MB\n"
     ]
    }
   ],
   "source": [
    "info_user.info()"
   ]
  },
  {
   "cell_type": "code",
   "execution_count": 87,
   "id": "68190007",
   "metadata": {},
   "outputs": [],
   "source": [
    "#добавляем полученную информацию по пользователям в основную таблицу\n",
    "info_user50=info_user.join(mat)\n",
    "info_user50=info_user50.fillna(0)"
   ]
  },
  {
   "cell_type": "code",
   "execution_count": 88,
   "id": "40767cb6",
   "metadata": {},
   "outputs": [
    {
     "name": "stdout",
     "output_type": "stream",
     "text": [
      "<class 'pandas.core.frame.DataFrame'>\n",
      "Int64Index: 415317 entries, 0 to 415316\n",
      "Columns: 707 entries, reg_count to 549high\n",
      "dtypes: Sparse[float64, 0](550), float32(150), float64(1), int64(1), object(5)\n",
      "memory usage: 564.5+ MB\n"
     ]
    }
   ],
   "source": [
    "info_user50.info()"
   ]
  },
  {
   "cell_type": "markdown",
   "id": "8ef54b74",
   "metadata": {},
   "source": [
    "Сделаем аналогичные операции и для варинатов со 150-300-500 кластерами"
   ]
  },
  {
   "cell_type": "markdown",
   "id": "3c17ce91",
   "metadata": {},
   "source": [
    "#### Добавление данных на 150 кластеров"
   ]
  },
  {
   "cell_type": "code",
   "execution_count": null,
   "id": "14d85b65",
   "metadata": {},
   "outputs": [],
   "source": []
  },
  {
   "cell_type": "code",
   "execution_count": 89,
   "id": "563d8f66",
   "metadata": {},
   "outputs": [],
   "source": [
    "#создаю талицу с посещаемостью пользователями сайтов кластеризованных \n",
    "df2_high_150=df2_high.groupby(['user_id','kmeans_150'])['request_cnt_sum'].sum()\n",
    "df2_high_150=pd.DataFrame(df2_high_150)\n",
    "df2_high_150=df2_high_150.reset_index()\n",
    "df2_high_150['kmeans_150']=df2_high_150['kmeans_150'].astype('str')\n",
    "df2_high_150.columns=['user_id', 'url', 'request_cnt_sum']\n",
    "df2_high_150.to_parquet('df2_high_150.parquet')"
   ]
  },
  {
   "cell_type": "code",
   "execution_count": null,
   "id": "1979c9b9",
   "metadata": {},
   "outputs": [],
   "source": []
  },
  {
   "cell_type": "code",
   "execution_count": 90,
   "id": "7f529c51",
   "metadata": {},
   "outputs": [],
   "source": [
    "\n",
    "\n",
    "df2_high_150 =pa.table(df2_high_150)"
   ]
  },
  {
   "cell_type": "code",
   "execution_count": 91,
   "id": "0facad40",
   "metadata": {},
   "outputs": [
    {
     "name": "stdout",
     "output_type": "stream",
     "text": [
      "649 urls\n",
      "415274 users\n"
     ]
    }
   ],
   "source": [
    "#добавляем словари\n",
    "url_set = set(df2_high_150.select(['url']).to_pandas()['url'])\n",
    "print(f'{len(url_set)} urls')\n",
    "url_dict = {url: idurl for url, idurl in zip(url_set, range(len(url_set)))}\n",
    "usr_set = set(df2_high_150.select(['user_id']).to_pandas()['user_id'])\n",
    "print(f'{len(usr_set)} users')\n",
    "usr_dict = {usr: user_id for usr, user_id in zip(usr_set, range(len(usr_set)))}"
   ]
  },
  {
   "cell_type": "code",
   "execution_count": 92,
   "id": "913f2d73",
   "metadata": {},
   "outputs": [
    {
     "name": "stdout",
     "output_type": "stream",
     "text": [
      "CPU times: user 3.96 s, sys: 669 ms, total: 4.62 s\n",
      "Wall time: 5.02 s\n"
     ]
    }
   ],
   "source": [
    "%%time\n",
    "values = np.array(df2_high_150.select(['request_cnt_sum']).to_pandas()['request_cnt_sum'])\n",
    "rows = np.array(df2_high_150.select(['user_id']).to_pandas()['user_id'].map(usr_dict))\n",
    "cols = np.array(df2_high_150.select(['url']).to_pandas()['url'].map(url_dict))\n",
    "mat = scipy.sparse.coo_matrix((values, (rows, cols)), shape=(rows.max() + 1, cols.max() + 1))\n",
    "mat = pd.DataFrame.sparse.from_spmatrix(mat)\n",
    "#Составлем разреженную матрицу и переводим в dataframe"
   ]
  },
  {
   "cell_type": "code",
   "execution_count": 93,
   "id": "8415aa6c",
   "metadata": {},
   "outputs": [],
   "source": [
    "#переименовываю столбцы по принципу №кластреа+high\n",
    "dic={}\n",
    "for i in mat.columns:\n",
    "    dic[i]=str(i)+'high'\n",
    "\n",
    "mat=mat.rename(columns=dic)"
   ]
  },
  {
   "cell_type": "code",
   "execution_count": 94,
   "id": "c4b01265",
   "metadata": {},
   "outputs": [],
   "source": [
    "mat.index=\\\n",
    "np.array(df2_high_150.select(['user_id']).to_pandas()['user_id'].unique())"
   ]
  },
  {
   "cell_type": "code",
   "execution_count": 95,
   "id": "81bb0c84",
   "metadata": {},
   "outputs": [
    {
     "name": "stdout",
     "output_type": "stream",
     "text": [
      "<class 'pandas.core.frame.DataFrame'>\n",
      "Int64Index: 415317 entries, 0 to 415316\n",
      "Columns: 157 entries, reg_count to 149low\n",
      "dtypes: float32(150), float64(1), int64(1), object(5)\n",
      "memory usage: 279.1+ MB\n"
     ]
    }
   ],
   "source": [
    "info_user.info()"
   ]
  },
  {
   "cell_type": "code",
   "execution_count": 96,
   "id": "0758046e",
   "metadata": {},
   "outputs": [],
   "source": [
    "#добавляем полученную информацию по пользователям в основную таблицу\n",
    "info_user150=info_user.join(mat)\n",
    "info_user150=info_user150.fillna(0)"
   ]
  },
  {
   "cell_type": "code",
   "execution_count": 97,
   "id": "f415b4eb",
   "metadata": {},
   "outputs": [
    {
     "name": "stdout",
     "output_type": "stream",
     "text": [
      "<class 'pandas.core.frame.DataFrame'>\n",
      "Int64Index: 415317 entries, 0 to 415316\n",
      "Columns: 806 entries, reg_count to 648high\n",
      "dtypes: Sparse[float64, 0](649), float32(150), float64(1), int64(1), object(5)\n",
      "memory usage: 564.8+ MB\n"
     ]
    }
   ],
   "source": [
    "info_user150.info()"
   ]
  },
  {
   "cell_type": "markdown",
   "id": "1a43d74f",
   "metadata": {},
   "source": [
    "#### Добавление данных на 300 кластеров"
   ]
  },
  {
   "cell_type": "code",
   "execution_count": null,
   "id": "a43d4f4e",
   "metadata": {},
   "outputs": [],
   "source": []
  },
  {
   "cell_type": "code",
   "execution_count": 98,
   "id": "e2ce086a",
   "metadata": {},
   "outputs": [],
   "source": [
    "#создаю талицу с посещаемостью пользователями сайтов кластеризованных \n",
    "df2_high_300=df2_high.groupby(['user_id','kmeans_300'])['request_cnt_sum'].sum()\n",
    "df2_high_300=pd.DataFrame(df2_high_300)\n",
    "df2_high_300=df2_high_300.reset_index()\n",
    "df2_high_300['kmeans_300']=df2_high_300['kmeans_300'].astype('str')\n",
    "df2_high_300.columns=['user_id', 'url', 'request_cnt_sum']\n",
    "df2_high_300.to_parquet('df2_high_300.parquet')"
   ]
  },
  {
   "cell_type": "code",
   "execution_count": null,
   "id": "12009e19",
   "metadata": {},
   "outputs": [],
   "source": []
  },
  {
   "cell_type": "code",
   "execution_count": 99,
   "id": "209bdc54",
   "metadata": {},
   "outputs": [],
   "source": [
    "\n",
    "\n",
    "df2_high_300 =pa.table(df2_high_300)"
   ]
  },
  {
   "cell_type": "code",
   "execution_count": 100,
   "id": "5b8a8b84",
   "metadata": {},
   "outputs": [
    {
     "name": "stdout",
     "output_type": "stream",
     "text": [
      "799 urls\n",
      "415274 users\n"
     ]
    }
   ],
   "source": [
    "#добавляем словари\n",
    "url_set = set(df2_high_300.select(['url']).to_pandas()['url'])\n",
    "print(f'{len(url_set)} urls')\n",
    "url_dict = {url: idurl for url, idurl in zip(url_set, range(len(url_set)))}\n",
    "usr_set = set(df2_high_300.select(['user_id']).to_pandas()['user_id'])\n",
    "print(f'{len(usr_set)} users')\n",
    "usr_dict = {usr: user_id for usr, user_id in zip(usr_set, range(len(usr_set)))}"
   ]
  },
  {
   "cell_type": "code",
   "execution_count": 101,
   "id": "63c04c1e",
   "metadata": {},
   "outputs": [
    {
     "name": "stdout",
     "output_type": "stream",
     "text": [
      "CPU times: user 3.88 s, sys: 599 ms, total: 4.48 s\n",
      "Wall time: 4.74 s\n"
     ]
    }
   ],
   "source": [
    "%%time\n",
    "values = np.array(df2_high_300.select(['request_cnt_sum']).to_pandas()['request_cnt_sum'])\n",
    "rows = np.array(df2_high_300.select(['user_id']).to_pandas()['user_id'].map(usr_dict))\n",
    "cols = np.array(df2_high_300.select(['url']).to_pandas()['url'].map(url_dict))\n",
    "mat = scipy.sparse.coo_matrix((values, (rows, cols)), shape=(rows.max() + 1, cols.max() + 1))\n",
    "mat = pd.DataFrame.sparse.from_spmatrix(mat)\n",
    "#Составлем разреженную матрицу и переводим в dataframe"
   ]
  },
  {
   "cell_type": "code",
   "execution_count": 102,
   "id": "22d841ab",
   "metadata": {},
   "outputs": [],
   "source": [
    "#переименовываю столбцы по принципу №кластреа+high\n",
    "dic={}\n",
    "for i in mat.columns:\n",
    "    dic[i]=str(i)+'high'\n",
    "\n",
    "mat=mat.rename(columns=dic)"
   ]
  },
  {
   "cell_type": "code",
   "execution_count": 103,
   "id": "ca060ab9",
   "metadata": {},
   "outputs": [],
   "source": [
    "mat.index=\\\n",
    "np.array(df2_high_300.select(['user_id']).to_pandas()['user_id'].unique())"
   ]
  },
  {
   "cell_type": "code",
   "execution_count": 104,
   "id": "eeb8af9c",
   "metadata": {},
   "outputs": [
    {
     "name": "stdout",
     "output_type": "stream",
     "text": [
      "<class 'pandas.core.frame.DataFrame'>\n",
      "Int64Index: 415317 entries, 0 to 415316\n",
      "Columns: 157 entries, reg_count to 149low\n",
      "dtypes: float32(150), float64(1), int64(1), object(5)\n",
      "memory usage: 279.1+ MB\n"
     ]
    }
   ],
   "source": [
    "info_user.info()"
   ]
  },
  {
   "cell_type": "code",
   "execution_count": 105,
   "id": "2ed4aa39",
   "metadata": {},
   "outputs": [],
   "source": [
    "#добавляем полученную информацию по пользователям в основную таблицу\n",
    "info_user300=info_user.join(mat)\n",
    "info_user300=info_user300.fillna(0)"
   ]
  },
  {
   "cell_type": "code",
   "execution_count": 106,
   "id": "06d7e1d8",
   "metadata": {},
   "outputs": [
    {
     "name": "stdout",
     "output_type": "stream",
     "text": [
      "<class 'pandas.core.frame.DataFrame'>\n",
      "Int64Index: 415317 entries, 0 to 415316\n",
      "Columns: 956 entries, reg_count to 798high\n",
      "dtypes: Sparse[float64, 0](799), float32(150), float64(1), int64(1), object(5)\n",
      "memory usage: 565.1+ MB\n"
     ]
    }
   ],
   "source": [
    "info_user300.info()"
   ]
  },
  {
   "cell_type": "markdown",
   "id": "064aa57e",
   "metadata": {},
   "source": [
    "#### Добавление данных на 500 кластеров"
   ]
  },
  {
   "cell_type": "code",
   "execution_count": null,
   "id": "2af96d7e",
   "metadata": {},
   "outputs": [],
   "source": []
  },
  {
   "cell_type": "code",
   "execution_count": 107,
   "id": "7537e5a0",
   "metadata": {},
   "outputs": [],
   "source": [
    "#создаю талицу с посещаемостью пользователями сайтов кластеризованных \n",
    "df2_high_500=df2_high.groupby(['user_id','kmeans_500'])['request_cnt_sum'].sum()\n",
    "df2_high_500=pd.DataFrame(df2_high_500)\n",
    "df2_high_500=df2_high_500.reset_index()\n",
    "df2_high_500['kmeans_500']=df2_high_500['kmeans_500'].astype('str')\n",
    "df2_high_500.columns=['user_id', 'url', 'request_cnt_sum']\n",
    "df2_high_500.to_parquet('df2_high_500.parquet')"
   ]
  },
  {
   "cell_type": "code",
   "execution_count": null,
   "id": "f142435d",
   "metadata": {},
   "outputs": [],
   "source": []
  },
  {
   "cell_type": "code",
   "execution_count": 108,
   "id": "b3ec54a6",
   "metadata": {},
   "outputs": [],
   "source": [
    "\n",
    "\n",
    "df2_high_500 =pa.table(df2_high_500)"
   ]
  },
  {
   "cell_type": "code",
   "execution_count": 109,
   "id": "5884b4bb",
   "metadata": {},
   "outputs": [
    {
     "name": "stdout",
     "output_type": "stream",
     "text": [
      "987 urls\n",
      "415274 users\n"
     ]
    }
   ],
   "source": [
    "#добавляем словари\n",
    "url_set = set(df2_high_500.select(['url']).to_pandas()['url'])\n",
    "print(f'{len(url_set)} urls')\n",
    "url_dict = {url: idurl for url, idurl in zip(url_set, range(len(url_set)))}\n",
    "usr_set = set(df2_high_500.select(['user_id']).to_pandas()['user_id'])\n",
    "print(f'{len(usr_set)} users')\n",
    "usr_dict = {usr: user_id for usr, user_id in zip(usr_set, range(len(usr_set)))}"
   ]
  },
  {
   "cell_type": "code",
   "execution_count": 110,
   "id": "f5a10b14",
   "metadata": {},
   "outputs": [
    {
     "name": "stdout",
     "output_type": "stream",
     "text": [
      "CPU times: user 3.96 s, sys: 620 ms, total: 4.58 s\n",
      "Wall time: 4.93 s\n"
     ]
    }
   ],
   "source": [
    "%%time\n",
    "values = np.array(df2_high_500.select(['request_cnt_sum']).to_pandas()['request_cnt_sum'])\n",
    "rows = np.array(df2_high_500.select(['user_id']).to_pandas()['user_id'].map(usr_dict))\n",
    "cols = np.array(df2_high_500.select(['url']).to_pandas()['url'].map(url_dict))\n",
    "mat = scipy.sparse.coo_matrix((values, (rows, cols)), shape=(rows.max() + 1, cols.max() + 1))\n",
    "mat = pd.DataFrame.sparse.from_spmatrix(mat)\n",
    "#Составлем разреженную матрицу и переводим в dataframe"
   ]
  },
  {
   "cell_type": "code",
   "execution_count": 111,
   "id": "f01abfe5",
   "metadata": {},
   "outputs": [],
   "source": [
    "#переименовываю столбцы по принципу №кластреа+high\n",
    "dic={}\n",
    "for i in mat.columns:\n",
    "    dic[i]=str(i)+'high'\n",
    "\n",
    "mat=mat.rename(columns=dic)"
   ]
  },
  {
   "cell_type": "code",
   "execution_count": 112,
   "id": "c9144c9f",
   "metadata": {},
   "outputs": [],
   "source": [
    "mat.index=\\\n",
    "np.array(df2_high_500.select(['user_id']).to_pandas()['user_id'].unique())"
   ]
  },
  {
   "cell_type": "code",
   "execution_count": 113,
   "id": "54f9b2f5",
   "metadata": {},
   "outputs": [
    {
     "name": "stdout",
     "output_type": "stream",
     "text": [
      "<class 'pandas.core.frame.DataFrame'>\n",
      "Int64Index: 415317 entries, 0 to 415316\n",
      "Columns: 157 entries, reg_count to 149low\n",
      "dtypes: float32(150), float64(1), int64(1), object(5)\n",
      "memory usage: 279.1+ MB\n"
     ]
    }
   ],
   "source": [
    "info_user.info()"
   ]
  },
  {
   "cell_type": "code",
   "execution_count": 114,
   "id": "d2a4ab48",
   "metadata": {},
   "outputs": [],
   "source": [
    "#добавляем полученную информацию по пользователям в основную таблицу\n",
    "info_user500=info_user.join(mat)\n",
    "info_user500=info_user500.fillna(0)"
   ]
  },
  {
   "cell_type": "code",
   "execution_count": 115,
   "id": "a101a0d2",
   "metadata": {},
   "outputs": [
    {
     "name": "stdout",
     "output_type": "stream",
     "text": [
      "<class 'pandas.core.frame.DataFrame'>\n",
      "Int64Index: 415317 entries, 0 to 415316\n",
      "Columns: 1144 entries, reg_count to 986high\n",
      "dtypes: Sparse[float64, 0](987), float32(150), float64(1), int64(1), object(5)\n",
      "memory usage: 565.4+ MB\n"
     ]
    }
   ],
   "source": [
    "info_user500.info()"
   ]
  },
  {
   "cell_type": "code",
   "execution_count": 116,
   "id": "6ec91811",
   "metadata": {},
   "outputs": [],
   "source": [
    "del df2_high_500,df2_high"
   ]
  },
  {
   "cell_type": "code",
   "execution_count": 117,
   "id": "b857edc3",
   "metadata": {},
   "outputs": [],
   "source": [
    "del df2_high_50,df2_high_150,df2_high_300"
   ]
  },
  {
   "cell_type": "code",
   "execution_count": 118,
   "id": "6259e20c",
   "metadata": {},
   "outputs": [],
   "source": [
    "del mat,dic,values,rows,cols"
   ]
  },
  {
   "cell_type": "code",
   "execution_count": 119,
   "id": "1b76393d",
   "metadata": {},
   "outputs": [],
   "source": [
    "del info_user"
   ]
  },
  {
   "cell_type": "code",
   "execution_count": null,
   "id": "6fbd96c3",
   "metadata": {},
   "outputs": [],
   "source": []
  },
  {
   "cell_type": "code",
   "execution_count": null,
   "id": "d62f128d",
   "metadata": {},
   "outputs": [],
   "source": []
  },
  {
   "cell_type": "code",
   "execution_count": null,
   "id": "c969a8b9",
   "metadata": {},
   "outputs": [],
   "source": []
  },
  {
   "cell_type": "markdown",
   "id": "73b57bb3",
   "metadata": {},
   "source": [
    "## Тестирование данных с 50-и кластерный вариантом"
   ]
  },
  {
   "cell_type": "markdown",
   "id": "61118052",
   "metadata": {},
   "source": [
    "### *Подготовка данных*"
   ]
  },
  {
   "cell_type": "code",
   "execution_count": 120,
   "id": "624b2434",
   "metadata": {},
   "outputs": [],
   "source": [
    "usr_targets = targets.to_pandas()\n",
    "info_user50 = info_user50.reset_index()"
   ]
  },
  {
   "cell_type": "code",
   "execution_count": null,
   "id": "b1bd280f",
   "metadata": {},
   "outputs": [],
   "source": []
  },
  {
   "cell_type": "code",
   "execution_count": null,
   "id": "26e4e6db",
   "metadata": {},
   "outputs": [],
   "source": []
  },
  {
   "cell_type": "code",
   "execution_count": 121,
   "id": "4d2390da",
   "metadata": {},
   "outputs": [],
   "source": [
    "df = usr_targets.merge(info_user50, how = 'inner', on = ['user_id'])\n",
    "df_train=df[df['is_male'] != 'NA']\n",
    "df_train=df_train.dropna()\n",
    "df_train['is_male'] = df_train['is_male'].astype('int')"
   ]
  },
  {
   "cell_type": "code",
   "execution_count": 122,
   "id": "aeb67607",
   "metadata": {},
   "outputs": [],
   "source": [
    "categorical = ['reg_main','cpe_manufacturer_name','cpe_type_cd','cpe_model_os_type','cpe_model_name']"
   ]
  },
  {
   "cell_type": "code",
   "execution_count": 123,
   "id": "35c48ce4",
   "metadata": {},
   "outputs": [],
   "source": [
    "numerical = []\n",
    "for i in df_train.columns:\n",
    "    if i not in [*categorical,'age','is_male','user_id']:\n",
    "        numerical.append(i)"
   ]
  },
  {
   "cell_type": "code",
   "execution_count": null,
   "id": "ce8b5495",
   "metadata": {},
   "outputs": [],
   "source": []
  },
  {
   "cell_type": "markdown",
   "id": "88acc459",
   "metadata": {},
   "source": [
    "## Подготовка выборок для дальнейшего подбора моделей"
   ]
  },
  {
   "cell_type": "code",
   "execution_count": 124,
   "id": "cd96486a",
   "metadata": {},
   "outputs": [],
   "source": [
    "\n",
    "df_train=df_train.drop(['user_id'],axis=1)"
   ]
  },
  {
   "cell_type": "code",
   "execution_count": 125,
   "id": "17c45a06",
   "metadata": {},
   "outputs": [],
   "source": [
    "train, test = train_test_split(df_train,test_size = 0.25,random_state=12345)"
   ]
  },
  {
   "cell_type": "code",
   "execution_count": 126,
   "id": "2abc7e8f",
   "metadata": {},
   "outputs": [],
   "source": [
    "train_traget_age = train['age']\n",
    "train_traget_is_male = train['is_male']\n",
    "\n",
    "test_traget_age = test['age']\n",
    "test_traget_is_male = test['is_male']\n",
    "\n",
    "train_features= train.drop(['age','is_male',],axis=1)\n",
    "test_features= test.drop(['age','is_male'],axis=1)"
   ]
  },
  {
   "cell_type": "code",
   "execution_count": null,
   "id": "defd7f82",
   "metadata": {},
   "outputs": [],
   "source": [
    "\n"
   ]
  },
  {
   "cell_type": "code",
   "execution_count": 127,
   "id": "e2c443ca",
   "metadata": {},
   "outputs": [],
   "source": [
    "def age_bucket(x):\n",
    "    return bisect.bisect_left([18,25,35,45,55,65], x)\n",
    "train_traget_age_buck = train_traget_age.map(age_bucket)\n",
    "test_traget_age_buck = test_traget_age.map(age_bucket)"
   ]
  },
  {
   "cell_type": "code",
   "execution_count": 128,
   "id": "ae485d4f",
   "metadata": {},
   "outputs": [],
   "source": [
    "#Данные для обучения финальной модели\n",
    "df_train_target_age=df_train['age']\n",
    "df_train_target_is_male = df_train['is_male']\n",
    "df_train_target_age_buck=df_train_target_age.map(age_bucket)\n",
    "\n",
    "df_train_features=df_train.drop(['age','is_male',],axis=1)"
   ]
  },
  {
   "cell_type": "code",
   "execution_count": 129,
   "id": "b6b33120",
   "metadata": {
    "scrolled": true
   },
   "outputs": [],
   "source": [
    "#train_features.head()"
   ]
  },
  {
   "cell_type": "code",
   "execution_count": 130,
   "id": "bb7ee68f",
   "metadata": {},
   "outputs": [],
   "source": [
    "#test_features.head()"
   ]
  },
  {
   "cell_type": "markdown",
   "id": "8d505e87",
   "metadata": {},
   "source": [
    "***standart scaler***"
   ]
  },
  {
   "cell_type": "code",
   "execution_count": 131,
   "id": "7b22da18",
   "metadata": {},
   "outputs": [
    {
     "name": "stderr",
     "output_type": "stream",
     "text": [
      "/home/admin/anaconda3/lib/python3.9/site-packages/sklearn/utils/validation.py:624: UserWarning: pandas.DataFrame with sparse columns found.It will be converted to a dense numpy array.\n",
      "  warnings.warn(\n",
      "/home/admin/anaconda3/lib/python3.9/site-packages/sklearn/utils/validation.py:624: UserWarning: pandas.DataFrame with sparse columns found.It will be converted to a dense numpy array.\n",
      "  warnings.warn(\n",
      "/home/admin/anaconda3/lib/python3.9/site-packages/sklearn/utils/validation.py:624: UserWarning: pandas.DataFrame with sparse columns found.It will be converted to a dense numpy array.\n",
      "  warnings.warn(\n"
     ]
    }
   ],
   "source": [
    "scaler = StandardScaler()\n",
    "scaler.fit(train_features[numerical])\n",
    "train_features[numerical]=scaler.transform(train_features[numerical])\n",
    "test_features[numerical]=scaler.transform(test_features[numerical])\n",
    "\n"
   ]
  },
  {
   "cell_type": "code",
   "execution_count": null,
   "id": "979f72d0",
   "metadata": {},
   "outputs": [],
   "source": []
  },
  {
   "cell_type": "code",
   "execution_count": 132,
   "id": "9e02e8c8",
   "metadata": {},
   "outputs": [],
   "source": [
    "#train_features.head()"
   ]
  },
  {
   "cell_type": "code",
   "execution_count": 133,
   "id": "f79784c7",
   "metadata": {},
   "outputs": [],
   "source": [
    "#test_features.head()"
   ]
  },
  {
   "cell_type": "code",
   "execution_count": null,
   "id": "ff85daae",
   "metadata": {},
   "outputs": [],
   "source": []
  },
  {
   "cell_type": "markdown",
   "id": "fffdb3be",
   "metadata": {},
   "source": [
    "***OHE***"
   ]
  },
  {
   "cell_type": "code",
   "execution_count": 134,
   "id": "215f052f",
   "metadata": {},
   "outputs": [],
   "source": [
    "train_features_ohe=train_features.copy()\n",
    "test_features_ohe=test_features.copy()\n",
    "df_train_features_ohe = df_train_features.copy()\n"
   ]
  },
  {
   "cell_type": "code",
   "execution_count": 135,
   "id": "c974f3b5",
   "metadata": {},
   "outputs": [
    {
     "name": "stderr",
     "output_type": "stream",
     "text": [
      "/home/admin/anaconda3/lib/python3.9/site-packages/sklearn/preprocessing/_encoders.py:170: UserWarning: Found unknown categories in columns [4] during transform. These unknown categories will be encoded as all zeros\n",
      "  warnings.warn(\n"
     ]
    }
   ],
   "source": [
    "\n",
    "\n",
    "ohe=OneHotEncoder(drop='first',handle_unknown='ignore')\n",
    "ohe.fit(train_features[categorical])\n",
    "\n",
    "train_features_ohe[ohe.get_feature_names_out()]=ohe.transform(train_features_ohe[categorical]).toarray()\n",
    "train_features_ohe=train_features_ohe.drop(categorical,axis=1)\n",
    "\n",
    "\n",
    "test_features_ohe[ohe.get_feature_names_out()]=ohe.transform(test_features_ohe[categorical]).toarray()\n",
    "test_features_ohe=test_features_ohe.drop(categorical,axis=1)"
   ]
  },
  {
   "cell_type": "code",
   "execution_count": null,
   "id": "4d46fd75",
   "metadata": {},
   "outputs": [],
   "source": []
  },
  {
   "cell_type": "code",
   "execution_count": 136,
   "id": "9064afb4",
   "metadata": {},
   "outputs": [],
   "source": [
    "#train_features_ohe.head()"
   ]
  },
  {
   "cell_type": "code",
   "execution_count": 137,
   "id": "9eb1fc4a",
   "metadata": {},
   "outputs": [],
   "source": [
    "#test_features_ohe.head()"
   ]
  },
  {
   "cell_type": "code",
   "execution_count": null,
   "id": "df71b82f",
   "metadata": {},
   "outputs": [],
   "source": []
  },
  {
   "cell_type": "code",
   "execution_count": null,
   "id": "fe34dc78",
   "metadata": {},
   "outputs": [],
   "source": []
  },
  {
   "cell_type": "markdown",
   "id": "aa0d007e",
   "metadata": {},
   "source": [
    "***OE***"
   ]
  },
  {
   "cell_type": "code",
   "execution_count": null,
   "id": "43d02af7",
   "metadata": {},
   "outputs": [],
   "source": []
  },
  {
   "cell_type": "code",
   "execution_count": 138,
   "id": "bef5ddb3",
   "metadata": {},
   "outputs": [],
   "source": [
    "train_features_oe=train_features.copy()\n",
    "test_features_oe=test_features.copy()\n",
    "df_train_features_oe = df_train_features.copy()\n"
   ]
  },
  {
   "cell_type": "code",
   "execution_count": 139,
   "id": "730454d4",
   "metadata": {},
   "outputs": [],
   "source": [
    "#oe=OrdinalEncoder()\n",
    "#oe.fit(df_train_features_oe[categorical])\n",
    "#df_train_features_oe[categorical]=oe.transform(df_train_features_oe[categorical])\n",
    "\n",
    "\n"
   ]
  },
  {
   "cell_type": "code",
   "execution_count": 140,
   "id": "873ce1d6",
   "metadata": {},
   "outputs": [],
   "source": [
    "oe=OrdinalEncoder(handle_unknown='use_encoded_value', unknown_value=-1)\n",
    "oe.fit(train_features_oe[categorical])\n",
    "train_features_oe[categorical]=oe.transform(train_features_oe[categorical])\n",
    "test_features_oe[categorical]=oe.transform(test_features_oe[categorical])"
   ]
  },
  {
   "cell_type": "code",
   "execution_count": null,
   "id": "6f025bac",
   "metadata": {},
   "outputs": [],
   "source": []
  },
  {
   "cell_type": "code",
   "execution_count": 141,
   "id": "14b5a034",
   "metadata": {},
   "outputs": [],
   "source": [
    "#train_features_oe.head()"
   ]
  },
  {
   "cell_type": "code",
   "execution_count": 142,
   "id": "4e5e9130",
   "metadata": {},
   "outputs": [],
   "source": [
    "#test_features_oe.head()"
   ]
  },
  {
   "cell_type": "code",
   "execution_count": null,
   "id": "3612e093",
   "metadata": {},
   "outputs": [],
   "source": []
  },
  {
   "cell_type": "code",
   "execution_count": null,
   "id": "c16aabaa",
   "metadata": {},
   "outputs": [],
   "source": []
  },
  {
   "cell_type": "markdown",
   "id": "9885bea9",
   "metadata": {},
   "source": [
    "# Подбор модели определения пола пользователя"
   ]
  },
  {
   "cell_type": "markdown",
   "id": "08779852",
   "metadata": {},
   "source": [
    "***Logistic regression***"
   ]
  },
  {
   "cell_type": "code",
   "execution_count": 143,
   "id": "26a55a49",
   "metadata": {},
   "outputs": [
    {
     "name": "stderr",
     "output_type": "stream",
     "text": [
      "/home/admin/anaconda3/lib/python3.9/site-packages/sklearn/linear_model/_logistic.py:814: ConvergenceWarning: lbfgs failed to converge (status=1):\n",
      "STOP: TOTAL NO. of ITERATIONS REACHED LIMIT.\n",
      "\n",
      "Increase the number of iterations (max_iter) or scale the data as shown in:\n",
      "    https://scikit-learn.org/stable/modules/preprocessing.html\n",
      "Please also refer to the documentation for alternative solver options:\n",
      "    https://scikit-learn.org/stable/modules/linear_model.html#logistic-regression\n",
      "  n_iter_i = _check_optimize_result(\n"
     ]
    },
    {
     "name": "stdout",
     "output_type": "stream",
     "text": [
      "GINI по полу 0.674\n",
      "CPU times: user 2min 55s, sys: 12.9 s, total: 3min 8s\n",
      "Wall time: 19.7 s\n"
     ]
    }
   ],
   "source": [
    "%%time\n",
    "model = LogisticRegression(random_state=12345)\n",
    "model.fit(train_features_ohe,train_traget_is_male)\n",
    "predict_proba=model.predict_proba(test_features_ohe)[:,1]\n",
    "gini_logs_gender=2 * m.roc_auc_score(test_traget_is_male, predict_proba)\n",
    "logs_params_gender=\"\"\n",
    "print(f'GINI по полу {gini_logs_gender - 1:2.3f}')"
   ]
  },
  {
   "cell_type": "markdown",
   "id": "40e651a1",
   "metadata": {},
   "source": [
    "***RandomForestClassifier***"
   ]
  },
  {
   "cell_type": "code",
   "execution_count": 144,
   "id": "c206b61e",
   "metadata": {},
   "outputs": [
    {
     "name": "stdout",
     "output_type": "stream",
     "text": [
      "GINI по полу 0.639\n",
      "CPU times: user 4min 53s, sys: 4.09 s, total: 4min 57s\n",
      "Wall time: 5min 24s\n"
     ]
    }
   ],
   "source": [
    "%%time\n",
    "model = RandomForestClassifier(random_state=12345)\n",
    "model.fit(train_features_oe,train_traget_is_male)\n",
    "predict_proba=model.predict_proba(test_features_oe)[:,1]\n",
    "gini_RF_gender=2 * m.roc_auc_score(test_traget_is_male, predict_proba)\n",
    "RF_params_gender=\"\"\n",
    "print(f'GINI по полу {gini_RF_gender - 1:2.3f}')"
   ]
  },
  {
   "cell_type": "markdown",
   "id": "7a07d0d7",
   "metadata": {},
   "source": [
    "***CatBoost***"
   ]
  },
  {
   "cell_type": "code",
   "execution_count": 145,
   "id": "73832792",
   "metadata": {},
   "outputs": [],
   "source": [
    "train_features_oe[categorical]=train_features_oe[categorical].astype(str)"
   ]
  },
  {
   "cell_type": "code",
   "execution_count": 146,
   "id": "e22599ff",
   "metadata": {},
   "outputs": [],
   "source": [
    "test_features_oe[categorical]=test_features_oe[categorical].astype(str)"
   ]
  },
  {
   "cell_type": "code",
   "execution_count": 147,
   "id": "07b6e191",
   "metadata": {},
   "outputs": [
    {
     "name": "stdout",
     "output_type": "stream",
     "text": [
      "GINI по полу 0.738\n",
      "CPU times: user 23min 53s, sys: 1min 12s, total: 25min 5s\n",
      "Wall time: 2min 6s\n"
     ]
    }
   ],
   "source": [
    "%%time\n",
    "model = CatBoostClassifier()\n",
    "model.fit(train_features_oe,train_traget_is_male, verbose = False,cat_features=categorical)\n",
    "predict_proba=model.predict_proba(test_features_oe)[:,1]\n",
    "gini_CB_gender=2 * m.roc_auc_score(test_traget_is_male, predict_proba)\n",
    "CB_params_gender=\"\"\n",
    "print(f'GINI по полу {gini_CB_gender - 1:2.3f}')"
   ]
  },
  {
   "cell_type": "code",
   "execution_count": null,
   "id": "d775ebf5",
   "metadata": {},
   "outputs": [],
   "source": []
  },
  {
   "cell_type": "markdown",
   "id": "df2be42e",
   "metadata": {},
   "source": [
    "***LightGBM***"
   ]
  },
  {
   "cell_type": "code",
   "execution_count": 148,
   "id": "210343c7",
   "metadata": {},
   "outputs": [],
   "source": [
    "train_features_oe[categorical]=train_features_oe[categorical].astype('category')"
   ]
  },
  {
   "cell_type": "code",
   "execution_count": 149,
   "id": "7067942e",
   "metadata": {},
   "outputs": [],
   "source": [
    "test_features_oe[categorical]=test_features_oe[categorical].astype('category')"
   ]
  },
  {
   "cell_type": "code",
   "execution_count": 150,
   "id": "c1fddda2",
   "metadata": {},
   "outputs": [
    {
     "name": "stderr",
     "output_type": "stream",
     "text": [
      "/home/admin/anaconda3/lib/python3.9/site-packages/lightgbm/sklearn.py:736: UserWarning: 'verbose' argument is deprecated and will be removed in a future release of LightGBM. Pass 'log_evaluation()' callback via 'callbacks' argument instead.\n",
      "  _log_warning(\"'verbose' argument is deprecated and will be removed in a future release of LightGBM. \"\n"
     ]
    },
    {
     "name": "stdout",
     "output_type": "stream",
     "text": [
      "GINI по полу 0.695\n",
      "CPU times: user 2min 28s, sys: 8.16 s, total: 2min 36s\n",
      "Wall time: 24.4 s\n"
     ]
    }
   ],
   "source": [
    "%%time\n",
    "model = lgb.LGBMClassifier()\n",
    "model.fit(train_features_oe,train_traget_is_male, verbose = False)\n",
    "predict_proba=model.predict_proba(test_features_oe)[:,1]\n",
    "gini_LGB_gender=2 * m.roc_auc_score(test_traget_is_male, predict_proba)\n",
    "LGB_params_gender=\"\"\n",
    "print(f'GINI по полу {gini_LGB_gender - 1:2.3f}')"
   ]
  },
  {
   "cell_type": "code",
   "execution_count": null,
   "id": "9c39d79a",
   "metadata": {},
   "outputs": [],
   "source": []
  },
  {
   "cell_type": "markdown",
   "id": "b8155552",
   "metadata": {},
   "source": [
    "# Подбор модели определения возраста пользователя (bucketed)"
   ]
  },
  {
   "cell_type": "code",
   "execution_count": null,
   "id": "72980c1c",
   "metadata": {},
   "outputs": [],
   "source": []
  },
  {
   "cell_type": "markdown",
   "id": "6f1386d7",
   "metadata": {},
   "source": [
    "***Logistic regression***"
   ]
  },
  {
   "cell_type": "code",
   "execution_count": 151,
   "id": "fb0610cd",
   "metadata": {},
   "outputs": [
    {
     "name": "stderr",
     "output_type": "stream",
     "text": [
      "/home/admin/anaconda3/lib/python3.9/site-packages/sklearn/linear_model/_logistic.py:814: ConvergenceWarning: lbfgs failed to converge (status=1):\n",
      "STOP: TOTAL NO. of ITERATIONS REACHED LIMIT.\n",
      "\n",
      "Increase the number of iterations (max_iter) or scale the data as shown in:\n",
      "    https://scikit-learn.org/stable/modules/preprocessing.html\n",
      "Please also refer to the documentation for alternative solver options:\n",
      "    https://scikit-learn.org/stable/modules/linear_model.html#logistic-regression\n",
      "  n_iter_i = _check_optimize_result(\n"
     ]
    },
    {
     "data": {
      "text/plain": [
       "LogisticRegression(random_state=12345)"
      ]
     },
     "execution_count": 151,
     "metadata": {},
     "output_type": "execute_result"
    }
   ],
   "source": [
    "model = LogisticRegression(random_state=12345)\n",
    "model.fit(train_features_ohe,train_traget_age_buck)\n"
   ]
  },
  {
   "cell_type": "code",
   "execution_count": 152,
   "id": "1f42d00a",
   "metadata": {},
   "outputs": [
    {
     "name": "stdout",
     "output_type": "stream",
     "text": [
      "              precision    recall  f1-score   support\n",
      "\n",
      "         <18       0.07      0.01      0.02       210\n",
      "       18-25       0.56      0.25      0.34      7966\n",
      "       25-34       0.46      0.63      0.53     21340\n",
      "       35-44       0.38      0.55      0.45     19093\n",
      "       45-54       0.38      0.14      0.20     10183\n",
      "       55-65       0.44      0.13      0.20      5934\n",
      "         65+       0.28      0.03      0.05      1356\n",
      "\n",
      "    accuracy                           0.42     66082\n",
      "   macro avg       0.37      0.25      0.26     66082\n",
      "weighted avg       0.43      0.42      0.39     66082\n",
      "\n"
     ]
    }
   ],
   "source": [
    "print(m.classification_report(test_traget_age_buck, model.predict(test_features_ohe), \\\n",
    "                            target_names = ['<18', '18-25','25-34', '35-44', '45-54', '55-65', '65+']))"
   ]
  },
  {
   "cell_type": "code",
   "execution_count": null,
   "id": "2aa0c530",
   "metadata": {},
   "outputs": [],
   "source": []
  },
  {
   "cell_type": "markdown",
   "id": "8a674bef",
   "metadata": {},
   "source": [
    "***RandomForestClassifier***"
   ]
  },
  {
   "cell_type": "code",
   "execution_count": 153,
   "id": "2fca66f2",
   "metadata": {},
   "outputs": [
    {
     "name": "stdout",
     "output_type": "stream",
     "text": [
      "CPU times: user 5min 21s, sys: 8.92 s, total: 5min 30s\n",
      "Wall time: 5min 59s\n"
     ]
    },
    {
     "data": {
      "text/plain": [
       "RandomForestClassifier(random_state=12345)"
      ]
     },
     "execution_count": 153,
     "metadata": {},
     "output_type": "execute_result"
    }
   ],
   "source": [
    "%%time\n",
    "model = RandomForestClassifier(random_state=12345)\n",
    "model.fit(train_features_oe,train_traget_age_buck)\n"
   ]
  },
  {
   "cell_type": "code",
   "execution_count": 154,
   "id": "9b55aaf2",
   "metadata": {},
   "outputs": [
    {
     "name": "stdout",
     "output_type": "stream",
     "text": [
      "              precision    recall  f1-score   support\n",
      "\n",
      "         <18       0.00      0.00      0.00       210\n",
      "       18-25       0.54      0.20      0.29      7966\n",
      "       25-34       0.45      0.67      0.54     21340\n",
      "       35-44       0.37      0.47      0.42     19093\n",
      "       45-54       0.32      0.15      0.20     10183\n",
      "       55-65       0.38      0.12      0.18      5934\n",
      "         65+       0.19      0.00      0.01      1356\n",
      "\n",
      "    accuracy                           0.41     66082\n",
      "   macro avg       0.32      0.23      0.23     66082\n",
      "weighted avg       0.40      0.41      0.38     66082\n",
      "\n"
     ]
    },
    {
     "name": "stderr",
     "output_type": "stream",
     "text": [
      "/home/admin/anaconda3/lib/python3.9/site-packages/sklearn/metrics/_classification.py:1318: UndefinedMetricWarning: Precision and F-score are ill-defined and being set to 0.0 in labels with no predicted samples. Use `zero_division` parameter to control this behavior.\n",
      "  _warn_prf(average, modifier, msg_start, len(result))\n",
      "/home/admin/anaconda3/lib/python3.9/site-packages/sklearn/metrics/_classification.py:1318: UndefinedMetricWarning: Precision and F-score are ill-defined and being set to 0.0 in labels with no predicted samples. Use `zero_division` parameter to control this behavior.\n",
      "  _warn_prf(average, modifier, msg_start, len(result))\n",
      "/home/admin/anaconda3/lib/python3.9/site-packages/sklearn/metrics/_classification.py:1318: UndefinedMetricWarning: Precision and F-score are ill-defined and being set to 0.0 in labels with no predicted samples. Use `zero_division` parameter to control this behavior.\n",
      "  _warn_prf(average, modifier, msg_start, len(result))\n"
     ]
    }
   ],
   "source": [
    "print(m.classification_report(test_traget_age_buck, model.predict(test_features_oe), \\\n",
    "                            target_names = ['<18', '18-25','25-34', '35-44', '45-54', '55-65', '65+']))"
   ]
  },
  {
   "cell_type": "code",
   "execution_count": null,
   "id": "532667aa",
   "metadata": {},
   "outputs": [],
   "source": []
  },
  {
   "cell_type": "code",
   "execution_count": null,
   "id": "a4bac258",
   "metadata": {},
   "outputs": [],
   "source": []
  },
  {
   "cell_type": "markdown",
   "id": "659abbee",
   "metadata": {},
   "source": [
    "***CatBoost***"
   ]
  },
  {
   "cell_type": "code",
   "execution_count": 155,
   "id": "8053be93",
   "metadata": {},
   "outputs": [],
   "source": [
    "train_features_oe[categorical]=train_features_oe[categorical].astype(str)"
   ]
  },
  {
   "cell_type": "code",
   "execution_count": 156,
   "id": "6af68ab4",
   "metadata": {},
   "outputs": [],
   "source": [
    "test_features_oe[categorical]=test_features_oe[categorical].astype(str)"
   ]
  },
  {
   "cell_type": "code",
   "execution_count": 157,
   "id": "27f865ae",
   "metadata": {},
   "outputs": [
    {
     "name": "stdout",
     "output_type": "stream",
     "text": [
      "CPU times: user 2h 55min 1s, sys: 7min 3s, total: 3h 2min 4s\n",
      "Wall time: 24min 30s\n"
     ]
    },
    {
     "data": {
      "text/plain": [
       "<catboost.core.CatBoostClassifier at 0x7f61f35befd0>"
      ]
     },
     "execution_count": 157,
     "metadata": {},
     "output_type": "execute_result"
    }
   ],
   "source": [
    "%%time\n",
    "model = CatBoostClassifier()\n",
    "model.fit(train_features_oe,train_traget_age_buck, verbose = False,cat_features=categorical)\n"
   ]
  },
  {
   "cell_type": "code",
   "execution_count": 158,
   "id": "570769e4",
   "metadata": {},
   "outputs": [
    {
     "name": "stdout",
     "output_type": "stream",
     "text": [
      "              precision    recall  f1-score   support\n",
      "\n",
      "         <18       0.00      0.00      0.00       210\n",
      "       18-25       0.57      0.35      0.43      7966\n",
      "       25-34       0.51      0.65      0.57     21340\n",
      "       35-44       0.42      0.54      0.47     19093\n",
      "       45-54       0.40      0.23      0.29     10183\n",
      "       55-65       0.46      0.23      0.31      5934\n",
      "         65+       0.45      0.03      0.05      1356\n",
      "\n",
      "    accuracy                           0.47     66082\n",
      "   macro avg       0.40      0.29      0.30     66082\n",
      "weighted avg       0.47      0.47      0.45     66082\n",
      "\n"
     ]
    }
   ],
   "source": [
    "print(m.classification_report(test_traget_age_buck, model.predict(test_features_oe), \\\n",
    "                            target_names = ['<18', '18-25','25-34', '35-44', '45-54', '55-65', '65+']))"
   ]
  },
  {
   "cell_type": "code",
   "execution_count": null,
   "id": "053f09e9",
   "metadata": {},
   "outputs": [],
   "source": []
  },
  {
   "cell_type": "code",
   "execution_count": null,
   "id": "ccea6447",
   "metadata": {},
   "outputs": [],
   "source": []
  },
  {
   "cell_type": "markdown",
   "id": "5095de6a",
   "metadata": {},
   "source": [
    "***LightGBM***"
   ]
  },
  {
   "cell_type": "code",
   "execution_count": 159,
   "id": "2ba1401a",
   "metadata": {},
   "outputs": [],
   "source": [
    "train_features_oe[categorical]=train_features_oe[categorical].astype('category')"
   ]
  },
  {
   "cell_type": "code",
   "execution_count": 160,
   "id": "2f1027dc",
   "metadata": {},
   "outputs": [],
   "source": [
    "test_features_oe[categorical]=test_features_oe[categorical].astype('category')"
   ]
  },
  {
   "cell_type": "code",
   "execution_count": 161,
   "id": "a6c2cad0",
   "metadata": {},
   "outputs": [
    {
     "name": "stderr",
     "output_type": "stream",
     "text": [
      "/home/admin/anaconda3/lib/python3.9/site-packages/lightgbm/sklearn.py:736: UserWarning: 'verbose' argument is deprecated and will be removed in a future release of LightGBM. Pass 'log_evaluation()' callback via 'callbacks' argument instead.\n",
      "  _log_warning(\"'verbose' argument is deprecated and will be removed in a future release of LightGBM. \"\n"
     ]
    },
    {
     "data": {
      "text/plain": [
       "LGBMClassifier()"
      ]
     },
     "execution_count": 161,
     "metadata": {},
     "output_type": "execute_result"
    }
   ],
   "source": [
    "model = lgb.LGBMClassifier()\n",
    "model.fit(train_features_oe,train_traget_age_buck, verbose = False)\n"
   ]
  },
  {
   "cell_type": "code",
   "execution_count": 162,
   "id": "8c159943",
   "metadata": {},
   "outputs": [
    {
     "name": "stdout",
     "output_type": "stream",
     "text": [
      "              precision    recall  f1-score   support\n",
      "\n",
      "         <18       0.02      0.01      0.02       210\n",
      "       18-25       0.55      0.34      0.42      7966\n",
      "       25-34       0.48      0.65      0.55     21340\n",
      "       35-44       0.40      0.49      0.44     19093\n",
      "       45-54       0.36      0.21      0.26     10183\n",
      "       55-65       0.40      0.21      0.27      5934\n",
      "         65+       0.29      0.04      0.08      1356\n",
      "\n",
      "    accuracy                           0.44     66082\n",
      "   macro avg       0.36      0.28      0.29     66082\n",
      "weighted avg       0.44      0.44      0.42     66082\n",
      "\n"
     ]
    }
   ],
   "source": [
    "print(m.classification_report(test_traget_age_buck, model.predict(test_features_oe), \\\n",
    "                            target_names = ['<18', '18-25','25-34', '35-44', '45-54', '55-65', '65+']))"
   ]
  },
  {
   "cell_type": "code",
   "execution_count": null,
   "id": "7407f0e8",
   "metadata": {},
   "outputs": [],
   "source": []
  },
  {
   "cell_type": "markdown",
   "id": "b7294347",
   "metadata": {},
   "source": [
    "# Подбор модели определения возраста пользователя (not bucketed)"
   ]
  },
  {
   "cell_type": "markdown",
   "id": "315c564a",
   "metadata": {},
   "source": [
    "***Linear Model***"
   ]
  },
  {
   "cell_type": "code",
   "execution_count": 163,
   "id": "b7fa23a2",
   "metadata": {},
   "outputs": [],
   "source": [
    "model = LinearRegression()\n",
    "model.fit(train_features_ohe,train_traget_age)\n",
    "predict = pd.DataFrame(model.predict(test_features_ohe))\n"
   ]
  },
  {
   "cell_type": "code",
   "execution_count": 164,
   "id": "ee8e61ea",
   "metadata": {
    "scrolled": true
   },
   "outputs": [
    {
     "name": "stdout",
     "output_type": "stream",
     "text": [
      "              precision    recall  f1-score   support\n",
      "\n",
      "         <18       0.00      0.00      0.00       210\n",
      "       18-25       0.46      0.06      0.11      7966\n",
      "       25-34       0.48      0.31      0.37     21340\n",
      "       35-44       0.34      0.79      0.48     19093\n",
      "       45-54       0.33      0.20      0.25     10183\n",
      "       55-65       0.45      0.05      0.09      5934\n",
      "         65+       0.23      0.03      0.05      1356\n",
      "\n",
      "    accuracy                           0.37     66082\n",
      "   macro avg       0.33      0.21      0.19     66082\n",
      "weighted avg       0.40      0.37      0.32     66082\n",
      "\n"
     ]
    }
   ],
   "source": [
    "print(m.classification_report(test_traget_age_buck, pd.DataFrame(model.predict(test_features_ohe))[0].map(age_bucket), \\\n",
    "                            target_names = ['<18', '18-25','25-34', '35-44', '45-54', '55-65', '65+']))\n"
   ]
  },
  {
   "cell_type": "code",
   "execution_count": null,
   "id": "3eda00da",
   "metadata": {},
   "outputs": [],
   "source": []
  },
  {
   "cell_type": "code",
   "execution_count": null,
   "id": "ff7e462b",
   "metadata": {},
   "outputs": [],
   "source": []
  },
  {
   "cell_type": "markdown",
   "id": "278f1801",
   "metadata": {},
   "source": [
    "***CatBoost***"
   ]
  },
  {
   "cell_type": "code",
   "execution_count": 165,
   "id": "1ebb296e",
   "metadata": {},
   "outputs": [],
   "source": [
    "train_features_oe[categorical]=train_features_oe[categorical].astype(str)"
   ]
  },
  {
   "cell_type": "code",
   "execution_count": 166,
   "id": "7dbfc421",
   "metadata": {},
   "outputs": [],
   "source": [
    "test_features_oe[categorical]=test_features_oe[categorical].astype(str)"
   ]
  },
  {
   "cell_type": "code",
   "execution_count": 167,
   "id": "c1a8de66",
   "metadata": {},
   "outputs": [
    {
     "name": "stdout",
     "output_type": "stream",
     "text": [
      "CPU times: user 20min 51s, sys: 1min 32s, total: 22min 24s\n",
      "Wall time: 3min 7s\n"
     ]
    },
    {
     "data": {
      "text/plain": [
       "<catboost.core.CatBoostRegressor at 0x7f61f3565a00>"
      ]
     },
     "execution_count": 167,
     "metadata": {},
     "output_type": "execute_result"
    }
   ],
   "source": [
    "%%time\n",
    "model = CatBoostRegressor()\n",
    "model.fit(train_features_oe,train_traget_age, verbose = False,cat_features=categorical)\n"
   ]
  },
  {
   "cell_type": "code",
   "execution_count": 168,
   "id": "a98f503c",
   "metadata": {},
   "outputs": [
    {
     "name": "stdout",
     "output_type": "stream",
     "text": [
      "              precision    recall  f1-score   support\n",
      "\n",
      "         <18       0.00      0.00      0.00       210\n",
      "       18-25       0.65      0.07      0.12      7966\n",
      "       25-34       0.50      0.50      0.50     21340\n",
      "       35-44       0.41      0.65      0.50     19093\n",
      "       45-54       0.35      0.40      0.37     10183\n",
      "       55-65       0.50      0.15      0.22      5934\n",
      "         65+       0.49      0.04      0.07      1356\n",
      "\n",
      "    accuracy                           0.43     66082\n",
      "   macro avg       0.41      0.26      0.25     66082\n",
      "weighted avg       0.47      0.43      0.40     66082\n",
      "\n"
     ]
    }
   ],
   "source": [
    "print(m.classification_report(test_traget_age_buck, pd.DataFrame(model.predict(test_features_oe))[0].map(age_bucket), \\\n",
    "                            target_names = ['<18', '18-25','25-34', '35-44', '45-54', '55-65', '65+']))"
   ]
  },
  {
   "cell_type": "code",
   "execution_count": null,
   "id": "b4195db3",
   "metadata": {},
   "outputs": [],
   "source": []
  },
  {
   "cell_type": "code",
   "execution_count": null,
   "id": "794ae2f5",
   "metadata": {},
   "outputs": [],
   "source": []
  },
  {
   "cell_type": "markdown",
   "id": "57a5d768",
   "metadata": {},
   "source": [
    "***LightGBM***"
   ]
  },
  {
   "cell_type": "code",
   "execution_count": 169,
   "id": "c935148e",
   "metadata": {},
   "outputs": [],
   "source": [
    "train_features_oe[categorical]=train_features_oe[categorical].astype('category')"
   ]
  },
  {
   "cell_type": "code",
   "execution_count": 170,
   "id": "f9d53814",
   "metadata": {},
   "outputs": [],
   "source": [
    "test_features_oe[categorical]=test_features_oe[categorical].astype('category')"
   ]
  },
  {
   "cell_type": "code",
   "execution_count": 171,
   "id": "8ae55c3a",
   "metadata": {},
   "outputs": [
    {
     "name": "stderr",
     "output_type": "stream",
     "text": [
      "/home/admin/anaconda3/lib/python3.9/site-packages/lightgbm/sklearn.py:736: UserWarning: 'verbose' argument is deprecated and will be removed in a future release of LightGBM. Pass 'log_evaluation()' callback via 'callbacks' argument instead.\n",
      "  _log_warning(\"'verbose' argument is deprecated and will be removed in a future release of LightGBM. \"\n"
     ]
    },
    {
     "data": {
      "text/plain": [
       "LGBMRegressor()"
      ]
     },
     "execution_count": 171,
     "metadata": {},
     "output_type": "execute_result"
    }
   ],
   "source": [
    "model = lgb.LGBMRegressor()\n",
    "model.fit(train_features_oe,train_traget_age, verbose = False)\n"
   ]
  },
  {
   "cell_type": "code",
   "execution_count": 172,
   "id": "59dc7a45",
   "metadata": {},
   "outputs": [
    {
     "name": "stdout",
     "output_type": "stream",
     "text": [
      "              precision    recall  f1-score   support\n",
      "\n",
      "         <18       0.00      0.00      0.00       210\n",
      "       18-25       0.69      0.01      0.03      7966\n",
      "       25-34       0.48      0.50      0.49     21340\n",
      "       35-44       0.39      0.63      0.48     19093\n",
      "       45-54       0.33      0.38      0.35     10183\n",
      "       55-65       0.51      0.11      0.18      5934\n",
      "         65+       0.57      0.03      0.06      1356\n",
      "\n",
      "    accuracy                           0.41     66082\n",
      "   macro avg       0.42      0.24      0.23     66082\n",
      "weighted avg       0.46      0.41      0.37     66082\n",
      "\n"
     ]
    },
    {
     "name": "stderr",
     "output_type": "stream",
     "text": [
      "/home/admin/anaconda3/lib/python3.9/site-packages/sklearn/metrics/_classification.py:1318: UndefinedMetricWarning: Precision and F-score are ill-defined and being set to 0.0 in labels with no predicted samples. Use `zero_division` parameter to control this behavior.\n",
      "  _warn_prf(average, modifier, msg_start, len(result))\n",
      "/home/admin/anaconda3/lib/python3.9/site-packages/sklearn/metrics/_classification.py:1318: UndefinedMetricWarning: Precision and F-score are ill-defined and being set to 0.0 in labels with no predicted samples. Use `zero_division` parameter to control this behavior.\n",
      "  _warn_prf(average, modifier, msg_start, len(result))\n",
      "/home/admin/anaconda3/lib/python3.9/site-packages/sklearn/metrics/_classification.py:1318: UndefinedMetricWarning: Precision and F-score are ill-defined and being set to 0.0 in labels with no predicted samples. Use `zero_division` parameter to control this behavior.\n",
      "  _warn_prf(average, modifier, msg_start, len(result))\n"
     ]
    }
   ],
   "source": [
    "print(m.classification_report(test_traget_age_buck, pd.DataFrame(model.predict(test_features_oe))[0].map(age_bucket), \\\n",
    "                            target_names = ['<18', '18-25','25-34', '35-44', '45-54', '55-65', '65+']))"
   ]
  },
  {
   "cell_type": "markdown",
   "id": "d2d60529",
   "metadata": {},
   "source": [
    "Поскольку вариант с регрессиями стабильно показывает худший результат - далеея откажусь от него. Так же для остальных моделей я планирую тестировать только логистическую регресии и катбуст как первая - самая быстроая, а вторая модель стабильно показывает наиболее высокие скоры."
   ]
  },
  {
   "cell_type": "markdown",
   "id": "bcc6c70f",
   "metadata": {},
   "source": [
    "## 150-и кластерный вариант"
   ]
  },
  {
   "cell_type": "markdown",
   "id": "a68f7d42",
   "metadata": {},
   "source": [
    "### *Подготовка данных*"
   ]
  },
  {
   "cell_type": "code",
   "execution_count": 173,
   "id": "9abc8df0",
   "metadata": {},
   "outputs": [],
   "source": [
    "info_user150 = info_user150.reset_index()"
   ]
  },
  {
   "cell_type": "code",
   "execution_count": null,
   "id": "52a71dce",
   "metadata": {},
   "outputs": [],
   "source": []
  },
  {
   "cell_type": "code",
   "execution_count": 174,
   "id": "a0889102",
   "metadata": {},
   "outputs": [],
   "source": [
    "df = usr_targets.merge(info_user150, how = 'inner', on = ['user_id'])\n",
    "df_train=df[df['is_male'] != 'NA']\n",
    "df_train=df_train.dropna()\n",
    "df_train['is_male'] = df_train['is_male'].astype('int')"
   ]
  },
  {
   "cell_type": "code",
   "execution_count": null,
   "id": "c6e5ee08",
   "metadata": {},
   "outputs": [],
   "source": []
  },
  {
   "cell_type": "code",
   "execution_count": null,
   "id": "f518b7ce",
   "metadata": {},
   "outputs": [],
   "source": []
  },
  {
   "cell_type": "code",
   "execution_count": null,
   "id": "31855d1f",
   "metadata": {},
   "outputs": [],
   "source": []
  },
  {
   "cell_type": "code",
   "execution_count": 175,
   "id": "408bc66f",
   "metadata": {},
   "outputs": [],
   "source": [
    "categorical = ['reg_main','cpe_manufacturer_name','cpe_type_cd','cpe_model_os_type','cpe_model_name']"
   ]
  },
  {
   "cell_type": "code",
   "execution_count": 176,
   "id": "8fe51286",
   "metadata": {},
   "outputs": [],
   "source": [
    "numerical = []\n",
    "for i in df_train.columns:\n",
    "    if i not in [*categorical,'age','is_male','user_id']:\n",
    "        numerical.append(i)"
   ]
  },
  {
   "cell_type": "code",
   "execution_count": null,
   "id": "671417c7",
   "metadata": {},
   "outputs": [],
   "source": []
  },
  {
   "cell_type": "markdown",
   "id": "4a5903ce",
   "metadata": {},
   "source": [
    "## Подготовка выборок для дальнейшего подбора моделей"
   ]
  },
  {
   "cell_type": "code",
   "execution_count": 177,
   "id": "726eb51a",
   "metadata": {},
   "outputs": [],
   "source": [
    "\n",
    "df_train=df_train.drop(['user_id'],axis=1)"
   ]
  },
  {
   "cell_type": "code",
   "execution_count": 178,
   "id": "5e2a6535",
   "metadata": {},
   "outputs": [],
   "source": [
    "train, test = train_test_split(df_train,test_size = 0.25,random_state=12345)"
   ]
  },
  {
   "cell_type": "code",
   "execution_count": 179,
   "id": "6604e411",
   "metadata": {},
   "outputs": [],
   "source": [
    "train_traget_age = train['age']\n",
    "train_traget_is_male = train['is_male']\n",
    "\n",
    "test_traget_age = test['age']\n",
    "test_traget_is_male = test['is_male']\n",
    "\n",
    "train_features= train.drop(['age','is_male',],axis=1)\n",
    "test_features= test.drop(['age','is_male'],axis=1)"
   ]
  },
  {
   "cell_type": "code",
   "execution_count": null,
   "id": "fca830bd",
   "metadata": {},
   "outputs": [],
   "source": [
    "\n"
   ]
  },
  {
   "cell_type": "code",
   "execution_count": 180,
   "id": "f4567cb8",
   "metadata": {},
   "outputs": [],
   "source": [
    "def age_bucket(x):\n",
    "    return bisect.bisect_left([18,25,35,45,55,65], x)\n",
    "train_traget_age_buck = train_traget_age.map(age_bucket)\n",
    "test_traget_age_buck = test_traget_age.map(age_bucket)"
   ]
  },
  {
   "cell_type": "code",
   "execution_count": 181,
   "id": "6b5271ee",
   "metadata": {},
   "outputs": [],
   "source": [
    "#Данные для обучения финальной модели\n",
    "df_train_target_age=df_train['age']\n",
    "df_train_target_is_male = df_train['is_male']\n",
    "df_train_target_age_buck=df_train_target_age.map(age_bucket)\n",
    "\n",
    "df_train_features=df_train.drop(['age','is_male',],axis=1)"
   ]
  },
  {
   "cell_type": "markdown",
   "id": "b6c59e18",
   "metadata": {},
   "source": [
    "***standart scaler***"
   ]
  },
  {
   "cell_type": "code",
   "execution_count": 182,
   "id": "a84997df",
   "metadata": {},
   "outputs": [
    {
     "name": "stderr",
     "output_type": "stream",
     "text": [
      "/home/admin/anaconda3/lib/python3.9/site-packages/sklearn/utils/validation.py:624: UserWarning: pandas.DataFrame with sparse columns found.It will be converted to a dense numpy array.\n",
      "  warnings.warn(\n",
      "/home/admin/anaconda3/lib/python3.9/site-packages/sklearn/utils/validation.py:624: UserWarning: pandas.DataFrame with sparse columns found.It will be converted to a dense numpy array.\n",
      "  warnings.warn(\n",
      "/home/admin/anaconda3/lib/python3.9/site-packages/sklearn/utils/validation.py:624: UserWarning: pandas.DataFrame with sparse columns found.It will be converted to a dense numpy array.\n",
      "  warnings.warn(\n"
     ]
    }
   ],
   "source": [
    "scaler = StandardScaler()\n",
    "scaler.fit(train_features[numerical])\n",
    "train_features[numerical]=scaler.transform(train_features[numerical])\n",
    "test_features[numerical]=scaler.transform(test_features[numerical])\n",
    "\n"
   ]
  },
  {
   "cell_type": "code",
   "execution_count": null,
   "id": "98c85780",
   "metadata": {},
   "outputs": [],
   "source": []
  },
  {
   "cell_type": "markdown",
   "id": "a073e443",
   "metadata": {},
   "source": [
    "***OHE***"
   ]
  },
  {
   "cell_type": "code",
   "execution_count": 183,
   "id": "10fcda0a",
   "metadata": {},
   "outputs": [],
   "source": [
    "train_features_ohe=train_features.copy()\n",
    "test_features_ohe=test_features.copy()\n",
    "df_train_features_ohe = df_train_features.copy()\n"
   ]
  },
  {
   "cell_type": "code",
   "execution_count": 184,
   "id": "9d462046",
   "metadata": {},
   "outputs": [
    {
     "name": "stderr",
     "output_type": "stream",
     "text": [
      "/home/admin/anaconda3/lib/python3.9/site-packages/sklearn/preprocessing/_encoders.py:170: UserWarning: Found unknown categories in columns [4] during transform. These unknown categories will be encoded as all zeros\n",
      "  warnings.warn(\n"
     ]
    }
   ],
   "source": [
    "#ohe=OneHotEncoder(drop='first')\n",
    "#ohe.fit(df_train_features[categorical])\n",
    "\n",
    "#df_train_features_ohe[ohe.get_feature_names_out()]=ohe.transform(df_train_features_ohe[categorical]).toarray()\n",
    "#df_train_features_ohe=df_train_features_ohe.drop(categorical,axis=1)\n",
    "\n",
    "ohe=OneHotEncoder(drop='first',handle_unknown='ignore')\n",
    "ohe.fit(train_features[categorical])\n",
    "\n",
    "train_features_ohe[ohe.get_feature_names_out()]=ohe.transform(train_features_ohe[categorical]).toarray()\n",
    "train_features_ohe=train_features_ohe.drop(categorical,axis=1)\n",
    "\n",
    "\n",
    "test_features_ohe[ohe.get_feature_names_out()]=ohe.transform(test_features_ohe[categorical]).toarray()\n",
    "test_features_ohe=test_features_ohe.drop(categorical,axis=1)"
   ]
  },
  {
   "cell_type": "markdown",
   "id": "2701e7b8",
   "metadata": {},
   "source": [
    "***OE***"
   ]
  },
  {
   "cell_type": "code",
   "execution_count": null,
   "id": "d26db87d",
   "metadata": {},
   "outputs": [],
   "source": []
  },
  {
   "cell_type": "code",
   "execution_count": 185,
   "id": "e9c08e7b",
   "metadata": {},
   "outputs": [],
   "source": [
    "train_features_oe=train_features.copy()\n",
    "test_features_oe=test_features.copy()\n",
    "df_train_features_oe = df_train_features.copy()\n"
   ]
  },
  {
   "cell_type": "code",
   "execution_count": 186,
   "id": "3456c47b",
   "metadata": {},
   "outputs": [],
   "source": [
    "#oe=OrdinalEncoder()\n",
    "#oe.fit(df_train_features_oe[categorical])\n",
    "#df_train_features_oe[categorical]=oe.transform(df_train_features_oe[categorical])\n",
    "\n",
    "\n"
   ]
  },
  {
   "cell_type": "code",
   "execution_count": 187,
   "id": "73373ac3",
   "metadata": {},
   "outputs": [],
   "source": [
    "oe=OrdinalEncoder(handle_unknown='use_encoded_value', unknown_value=-1)\n",
    "oe.fit(train_features_oe[categorical])\n",
    "train_features_oe[categorical]=oe.transform(train_features_oe[categorical])\n",
    "test_features_oe[categorical]=oe.transform(test_features_oe[categorical])"
   ]
  },
  {
   "cell_type": "code",
   "execution_count": null,
   "id": "d786a01d",
   "metadata": {},
   "outputs": [],
   "source": []
  },
  {
   "cell_type": "code",
   "execution_count": null,
   "id": "82644ee4",
   "metadata": {},
   "outputs": [],
   "source": []
  },
  {
   "cell_type": "code",
   "execution_count": null,
   "id": "b76bb4cf",
   "metadata": {},
   "outputs": [],
   "source": []
  },
  {
   "cell_type": "markdown",
   "id": "922852ae",
   "metadata": {},
   "source": [
    "# Подбор модели определения пола пользователя"
   ]
  },
  {
   "cell_type": "markdown",
   "id": "cd2962de",
   "metadata": {},
   "source": [
    "***Logistic regression***"
   ]
  },
  {
   "cell_type": "code",
   "execution_count": 188,
   "id": "8721fc0b",
   "metadata": {},
   "outputs": [
    {
     "name": "stderr",
     "output_type": "stream",
     "text": [
      "/home/admin/anaconda3/lib/python3.9/site-packages/sklearn/linear_model/_logistic.py:814: ConvergenceWarning: lbfgs failed to converge (status=1):\n",
      "STOP: TOTAL NO. of ITERATIONS REACHED LIMIT.\n",
      "\n",
      "Increase the number of iterations (max_iter) or scale the data as shown in:\n",
      "    https://scikit-learn.org/stable/modules/preprocessing.html\n",
      "Please also refer to the documentation for alternative solver options:\n",
      "    https://scikit-learn.org/stable/modules/linear_model.html#logistic-regression\n",
      "  n_iter_i = _check_optimize_result(\n"
     ]
    },
    {
     "name": "stdout",
     "output_type": "stream",
     "text": [
      "GINI по полу 0.673\n",
      "CPU times: user 3min 37s, sys: 14.3 s, total: 3min 51s\n",
      "Wall time: 35.3 s\n"
     ]
    }
   ],
   "source": [
    "%%time\n",
    "model = LogisticRegression(random_state=12345)\n",
    "model.fit(train_features_ohe,train_traget_is_male)\n",
    "predict_proba=model.predict_proba(test_features_ohe)[:,1]\n",
    "gini_logs_gender=2 * m.roc_auc_score(test_traget_is_male, predict_proba)\n",
    "logs_params_gender=\"\"\n",
    "print(f'GINI по полу {gini_logs_gender - 1:2.3f}')"
   ]
  },
  {
   "cell_type": "markdown",
   "id": "89dc1da1",
   "metadata": {},
   "source": [
    "***CatBoost***"
   ]
  },
  {
   "cell_type": "code",
   "execution_count": 189,
   "id": "fc909699",
   "metadata": {},
   "outputs": [],
   "source": [
    "train_features_oe[categorical]=train_features_oe[categorical].astype(str)"
   ]
  },
  {
   "cell_type": "code",
   "execution_count": 190,
   "id": "a0c2107f",
   "metadata": {},
   "outputs": [],
   "source": [
    "test_features_oe[categorical]=test_features_oe[categorical].astype(str)"
   ]
  },
  {
   "cell_type": "code",
   "execution_count": 191,
   "id": "c9248a5c",
   "metadata": {},
   "outputs": [
    {
     "name": "stdout",
     "output_type": "stream",
     "text": [
      "GINI по полу 0.738\n",
      "CPU times: user 23min 55s, sys: 1min 40s, total: 25min 36s\n",
      "Wall time: 3min 6s\n"
     ]
    }
   ],
   "source": [
    "%%time\n",
    "model = CatBoostClassifier()\n",
    "model.fit(train_features_oe,train_traget_is_male, verbose = False,cat_features=categorical)\n",
    "predict_proba=model.predict_proba(test_features_oe)[:,1]\n",
    "gini_CB_gender=2 * m.roc_auc_score(test_traget_is_male, predict_proba)\n",
    "CB_params_gender=\"\"\n",
    "print(f'GINI по полу {gini_CB_gender - 1:2.3f}')"
   ]
  },
  {
   "cell_type": "code",
   "execution_count": null,
   "id": "6695677e",
   "metadata": {},
   "outputs": [],
   "source": []
  },
  {
   "cell_type": "code",
   "execution_count": null,
   "id": "3d5b148a",
   "metadata": {},
   "outputs": [],
   "source": []
  },
  {
   "cell_type": "markdown",
   "id": "04e3b6b4",
   "metadata": {},
   "source": [
    "# Подбор модели определения возраста пользователя (bucketed)"
   ]
  },
  {
   "cell_type": "code",
   "execution_count": null,
   "id": "e6179c25",
   "metadata": {},
   "outputs": [],
   "source": []
  },
  {
   "cell_type": "markdown",
   "id": "b75777b0",
   "metadata": {},
   "source": [
    "***Logistic regression***"
   ]
  },
  {
   "cell_type": "code",
   "execution_count": 192,
   "id": "120b017d",
   "metadata": {},
   "outputs": [
    {
     "name": "stderr",
     "output_type": "stream",
     "text": [
      "/home/admin/anaconda3/lib/python3.9/site-packages/sklearn/linear_model/_logistic.py:814: ConvergenceWarning: lbfgs failed to converge (status=1):\n",
      "STOP: TOTAL NO. of ITERATIONS REACHED LIMIT.\n",
      "\n",
      "Increase the number of iterations (max_iter) or scale the data as shown in:\n",
      "    https://scikit-learn.org/stable/modules/preprocessing.html\n",
      "Please also refer to the documentation for alternative solver options:\n",
      "    https://scikit-learn.org/stable/modules/linear_model.html#logistic-regression\n",
      "  n_iter_i = _check_optimize_result(\n"
     ]
    },
    {
     "data": {
      "text/plain": [
       "LogisticRegression(random_state=12345)"
      ]
     },
     "execution_count": 192,
     "metadata": {},
     "output_type": "execute_result"
    }
   ],
   "source": [
    "model = LogisticRegression(random_state=12345)\n",
    "model.fit(train_features_ohe,train_traget_age_buck)\n"
   ]
  },
  {
   "cell_type": "code",
   "execution_count": 193,
   "id": "63a0abfd",
   "metadata": {},
   "outputs": [
    {
     "name": "stdout",
     "output_type": "stream",
     "text": [
      "              precision    recall  f1-score   support\n",
      "\n",
      "         <18       0.03      0.00      0.01       210\n",
      "       18-25       0.56      0.24      0.33      7966\n",
      "       25-34       0.46      0.63      0.53     21340\n",
      "       35-44       0.38      0.54      0.44     19093\n",
      "       45-54       0.38      0.14      0.20     10183\n",
      "       55-65       0.44      0.13      0.20      5934\n",
      "         65+       0.26      0.03      0.06      1356\n",
      "\n",
      "    accuracy                           0.42     66082\n",
      "   macro avg       0.36      0.25      0.25     66082\n",
      "weighted avg       0.43      0.42      0.39     66082\n",
      "\n"
     ]
    }
   ],
   "source": [
    "print(m.classification_report(test_traget_age_buck, model.predict(test_features_ohe), \\\n",
    "                            target_names = ['<18', '18-25','25-34', '35-44', '45-54', '55-65', '65+']))"
   ]
  },
  {
   "cell_type": "code",
   "execution_count": null,
   "id": "cb913e2e",
   "metadata": {},
   "outputs": [],
   "source": []
  },
  {
   "cell_type": "markdown",
   "id": "1140c94e",
   "metadata": {},
   "source": [
    "***CatBoost***"
   ]
  },
  {
   "cell_type": "code",
   "execution_count": 194,
   "id": "ea966501",
   "metadata": {},
   "outputs": [],
   "source": [
    "train_features_oe[categorical]=train_features_oe[categorical].astype(str)"
   ]
  },
  {
   "cell_type": "code",
   "execution_count": 195,
   "id": "caebef2a",
   "metadata": {},
   "outputs": [],
   "source": [
    "test_features_oe[categorical]=test_features_oe[categorical].astype(str)"
   ]
  },
  {
   "cell_type": "code",
   "execution_count": 196,
   "id": "e74d6390",
   "metadata": {},
   "outputs": [
    {
     "name": "stdout",
     "output_type": "stream",
     "text": [
      "CPU times: user 2h 56min 32s, sys: 5min 22s, total: 3h 1min 55s\n",
      "Wall time: 14min 56s\n"
     ]
    },
    {
     "data": {
      "text/plain": [
       "<catboost.core.CatBoostClassifier at 0x7f62005231c0>"
      ]
     },
     "execution_count": 196,
     "metadata": {},
     "output_type": "execute_result"
    }
   ],
   "source": [
    "%%time\n",
    "model = CatBoostClassifier()\n",
    "model.fit(train_features_oe,train_traget_age_buck, verbose = False,cat_features=categorical)\n"
   ]
  },
  {
   "cell_type": "code",
   "execution_count": 197,
   "id": "242f15f1",
   "metadata": {},
   "outputs": [
    {
     "name": "stdout",
     "output_type": "stream",
     "text": [
      "              precision    recall  f1-score   support\n",
      "\n",
      "         <18       0.00      0.00      0.00       210\n",
      "       18-25       0.57      0.35      0.43      7966\n",
      "       25-34       0.51      0.66      0.57     21340\n",
      "       35-44       0.42      0.55      0.48     19093\n",
      "       45-54       0.39      0.23      0.29     10183\n",
      "       55-65       0.45      0.23      0.30      5934\n",
      "         65+       0.46      0.02      0.05      1356\n",
      "\n",
      "    accuracy                           0.47     66082\n",
      "   macro avg       0.40      0.29      0.30     66082\n",
      "weighted avg       0.47      0.47      0.45     66082\n",
      "\n"
     ]
    }
   ],
   "source": [
    "print(m.classification_report(test_traget_age_buck, model.predict(test_features_oe), \\\n",
    "                            target_names = ['<18', '18-25','25-34', '35-44', '45-54', '55-65', '65+']))"
   ]
  },
  {
   "cell_type": "code",
   "execution_count": null,
   "id": "c4113b0f",
   "metadata": {},
   "outputs": [],
   "source": []
  },
  {
   "cell_type": "code",
   "execution_count": null,
   "id": "7520e489",
   "metadata": {},
   "outputs": [],
   "source": []
  },
  {
   "cell_type": "code",
   "execution_count": null,
   "id": "b34caf01",
   "metadata": {},
   "outputs": [],
   "source": []
  },
  {
   "cell_type": "markdown",
   "id": "ea3eea0c",
   "metadata": {},
   "source": [
    "### 300-т кластерный вариант"
   ]
  },
  {
   "cell_type": "markdown",
   "id": "a6fa297d",
   "metadata": {},
   "source": [
    "### *Подготовка данных*"
   ]
  },
  {
   "cell_type": "code",
   "execution_count": 198,
   "id": "ba2e221e",
   "metadata": {},
   "outputs": [],
   "source": [
    "#usr_targets = targets.to_pandas()"
   ]
  },
  {
   "cell_type": "code",
   "execution_count": 199,
   "id": "b99f84cd",
   "metadata": {},
   "outputs": [],
   "source": [
    "info_user300 = info_user300.reset_index()\n",
    "df = usr_targets.merge(info_user300, how = 'inner', on = ['user_id'])\n",
    "df_train=df[df['is_male'] != 'NA']\n",
    "df_train=df_train.dropna()\n",
    "df_train['is_male'] = df_train['is_male'].astype('int')"
   ]
  },
  {
   "cell_type": "code",
   "execution_count": null,
   "id": "6a46e49d",
   "metadata": {},
   "outputs": [],
   "source": []
  },
  {
   "cell_type": "code",
   "execution_count": 200,
   "id": "015ff044",
   "metadata": {},
   "outputs": [],
   "source": [
    "categorical = ['reg_main','cpe_manufacturer_name','cpe_type_cd','cpe_model_os_type','cpe_model_name']"
   ]
  },
  {
   "cell_type": "code",
   "execution_count": 201,
   "id": "e37d8207",
   "metadata": {},
   "outputs": [],
   "source": [
    "numerical = []\n",
    "for i in df_train.columns:\n",
    "    if i not in [*categorical,'age','is_male','user_id']:\n",
    "        numerical.append(i)"
   ]
  },
  {
   "cell_type": "code",
   "execution_count": null,
   "id": "865571b3",
   "metadata": {},
   "outputs": [],
   "source": []
  },
  {
   "cell_type": "markdown",
   "id": "654a5dce",
   "metadata": {},
   "source": [
    "## Подготовка выборок для дальнейшего подбора моделей"
   ]
  },
  {
   "cell_type": "code",
   "execution_count": 202,
   "id": "db925aed",
   "metadata": {},
   "outputs": [],
   "source": [
    "\n",
    "df_train=df_train.drop(['user_id'],axis=1)"
   ]
  },
  {
   "cell_type": "code",
   "execution_count": 203,
   "id": "b38db73a",
   "metadata": {},
   "outputs": [],
   "source": [
    "train, test = train_test_split(df_train,test_size = 0.25,random_state=12345)"
   ]
  },
  {
   "cell_type": "code",
   "execution_count": 204,
   "id": "64d02496",
   "metadata": {},
   "outputs": [],
   "source": [
    "train_traget_age = train['age']\n",
    "train_traget_is_male = train['is_male']\n",
    "\n",
    "test_traget_age = test['age']\n",
    "test_traget_is_male = test['is_male']\n",
    "\n",
    "train_features= train.drop(['age','is_male',],axis=1)\n",
    "test_features= test.drop(['age','is_male'],axis=1)"
   ]
  },
  {
   "cell_type": "code",
   "execution_count": null,
   "id": "3d3fa668",
   "metadata": {},
   "outputs": [],
   "source": [
    "\n"
   ]
  },
  {
   "cell_type": "code",
   "execution_count": 205,
   "id": "64f63c5a",
   "metadata": {},
   "outputs": [],
   "source": [
    "def age_bucket(x):\n",
    "    return bisect.bisect_left([18,25,35,45,55,65], x)\n",
    "train_traget_age_buck = train_traget_age.map(age_bucket)\n",
    "test_traget_age_buck = test_traget_age.map(age_bucket)"
   ]
  },
  {
   "cell_type": "code",
   "execution_count": 206,
   "id": "2718a4ab",
   "metadata": {},
   "outputs": [],
   "source": [
    "#Данные для обучения финальной модели\n",
    "df_train_target_age=df_train['age']\n",
    "df_train_target_is_male = df_train['is_male']\n",
    "df_train_target_age_buck=df_train_target_age.map(age_bucket)\n",
    "\n",
    "df_train_features=df_train.drop(['age','is_male',],axis=1)"
   ]
  },
  {
   "cell_type": "markdown",
   "id": "d77b9fb6",
   "metadata": {},
   "source": [
    "***standart scaler***"
   ]
  },
  {
   "cell_type": "code",
   "execution_count": 207,
   "id": "34145bc3",
   "metadata": {},
   "outputs": [
    {
     "name": "stderr",
     "output_type": "stream",
     "text": [
      "/home/admin/anaconda3/lib/python3.9/site-packages/sklearn/utils/validation.py:624: UserWarning: pandas.DataFrame with sparse columns found.It will be converted to a dense numpy array.\n",
      "  warnings.warn(\n",
      "/home/admin/anaconda3/lib/python3.9/site-packages/sklearn/utils/validation.py:624: UserWarning: pandas.DataFrame with sparse columns found.It will be converted to a dense numpy array.\n",
      "  warnings.warn(\n",
      "/home/admin/anaconda3/lib/python3.9/site-packages/sklearn/utils/validation.py:624: UserWarning: pandas.DataFrame with sparse columns found.It will be converted to a dense numpy array.\n",
      "  warnings.warn(\n"
     ]
    }
   ],
   "source": [
    "scaler = StandardScaler()\n",
    "scaler.fit(train_features[numerical])\n",
    "train_features[numerical]=scaler.transform(train_features[numerical])\n",
    "test_features[numerical]=scaler.transform(test_features[numerical])\n",
    "\n"
   ]
  },
  {
   "cell_type": "code",
   "execution_count": null,
   "id": "6c6f6011",
   "metadata": {},
   "outputs": [],
   "source": []
  },
  {
   "cell_type": "markdown",
   "id": "e7bec2a5",
   "metadata": {},
   "source": [
    "***OHE***"
   ]
  },
  {
   "cell_type": "code",
   "execution_count": 208,
   "id": "680fe18a",
   "metadata": {},
   "outputs": [],
   "source": [
    "train_features_ohe=train_features.copy()\n",
    "test_features_ohe=test_features.copy()\n",
    "df_train_features_ohe = df_train_features.copy()\n"
   ]
  },
  {
   "cell_type": "code",
   "execution_count": 209,
   "id": "9415192e",
   "metadata": {},
   "outputs": [
    {
     "name": "stderr",
     "output_type": "stream",
     "text": [
      "/home/admin/anaconda3/lib/python3.9/site-packages/sklearn/preprocessing/_encoders.py:170: UserWarning: Found unknown categories in columns [4] during transform. These unknown categories will be encoded as all zeros\n",
      "  warnings.warn(\n"
     ]
    }
   ],
   "source": [
    "#ohe=OneHotEncoder(drop='first')\n",
    "#ohe.fit(df_train_features[categorical])\n",
    "\n",
    "#df_train_features_ohe[ohe.get_feature_names_out()]=ohe.transform(df_train_features_ohe[categorical]).toarray()\n",
    "#df_train_features_ohe=df_train_features_ohe.drop(categorical,axis=1)\n",
    "\n",
    "ohe=OneHotEncoder(drop='first',handle_unknown='ignore')\n",
    "ohe.fit(train_features[categorical])\n",
    "\n",
    "train_features_ohe[ohe.get_feature_names_out()]=ohe.transform(train_features_ohe[categorical]).toarray()\n",
    "train_features_ohe=train_features_ohe.drop(categorical,axis=1)\n",
    "\n",
    "\n",
    "test_features_ohe[ohe.get_feature_names_out()]=ohe.transform(test_features_ohe[categorical]).toarray()\n",
    "test_features_ohe=test_features_ohe.drop(categorical,axis=1)"
   ]
  },
  {
   "cell_type": "markdown",
   "id": "16d66d0a",
   "metadata": {},
   "source": [
    "***OE***"
   ]
  },
  {
   "cell_type": "code",
   "execution_count": null,
   "id": "778084c9",
   "metadata": {},
   "outputs": [],
   "source": []
  },
  {
   "cell_type": "code",
   "execution_count": 210,
   "id": "0e2e1b31",
   "metadata": {},
   "outputs": [],
   "source": [
    "train_features_oe=train_features.copy()\n",
    "test_features_oe=test_features.copy()\n",
    "df_train_features_oe = df_train_features.copy()\n"
   ]
  },
  {
   "cell_type": "code",
   "execution_count": 211,
   "id": "89d1d11a",
   "metadata": {},
   "outputs": [],
   "source": [
    "#oe=OrdinalEncoder()\n",
    "#oe.fit(df_train_features_oe[categorical])\n",
    "#df_train_features_oe[categorical]=oe.transform(df_train_features_oe[categorical])\n",
    "\n",
    "\n"
   ]
  },
  {
   "cell_type": "code",
   "execution_count": 212,
   "id": "0ad9262f",
   "metadata": {},
   "outputs": [],
   "source": [
    "oe=OrdinalEncoder(handle_unknown='use_encoded_value', unknown_value=-1)\n",
    "oe.fit(train_features_oe[categorical])\n",
    "train_features_oe[categorical]=oe.transform(train_features_oe[categorical])\n",
    "test_features_oe[categorical]=oe.transform(test_features_oe[categorical])"
   ]
  },
  {
   "cell_type": "code",
   "execution_count": null,
   "id": "b6a8dcfa",
   "metadata": {},
   "outputs": [],
   "source": []
  },
  {
   "cell_type": "code",
   "execution_count": null,
   "id": "84780608",
   "metadata": {},
   "outputs": [],
   "source": []
  },
  {
   "cell_type": "code",
   "execution_count": null,
   "id": "48760a2c",
   "metadata": {},
   "outputs": [],
   "source": []
  },
  {
   "cell_type": "markdown",
   "id": "b4aa7971",
   "metadata": {},
   "source": [
    "# Подбор модели определения пола пользователя"
   ]
  },
  {
   "cell_type": "markdown",
   "id": "f4a4ca34",
   "metadata": {},
   "source": [
    "***Logistic regression***"
   ]
  },
  {
   "cell_type": "code",
   "execution_count": 213,
   "id": "4799354d",
   "metadata": {},
   "outputs": [
    {
     "name": "stderr",
     "output_type": "stream",
     "text": [
      "/home/admin/anaconda3/lib/python3.9/site-packages/sklearn/linear_model/_logistic.py:814: ConvergenceWarning: lbfgs failed to converge (status=1):\n",
      "STOP: TOTAL NO. of ITERATIONS REACHED LIMIT.\n",
      "\n",
      "Increase the number of iterations (max_iter) or scale the data as shown in:\n",
      "    https://scikit-learn.org/stable/modules/preprocessing.html\n",
      "Please also refer to the documentation for alternative solver options:\n",
      "    https://scikit-learn.org/stable/modules/linear_model.html#logistic-regression\n",
      "  n_iter_i = _check_optimize_result(\n"
     ]
    },
    {
     "name": "stdout",
     "output_type": "stream",
     "text": [
      "GINI по полу 0.673\n",
      "CPU times: user 3min 13s, sys: 13.6 s, total: 3min 26s\n",
      "Wall time: 21.8 s\n"
     ]
    }
   ],
   "source": [
    "%%time\n",
    "model = LogisticRegression(random_state=12345)\n",
    "model.fit(train_features_ohe,train_traget_is_male)\n",
    "predict_proba=model.predict_proba(test_features_ohe)[:,1]\n",
    "gini_logs_gender=2 * m.roc_auc_score(test_traget_is_male, predict_proba)\n",
    "logs_params_gender=\"\"\n",
    "print(f'GINI по полу {gini_logs_gender - 1:2.3f}')"
   ]
  },
  {
   "cell_type": "markdown",
   "id": "4fef1924",
   "metadata": {},
   "source": [
    "***CatBoost***"
   ]
  },
  {
   "cell_type": "code",
   "execution_count": 214,
   "id": "c026aabf",
   "metadata": {},
   "outputs": [],
   "source": [
    "train_features_oe[categorical]=train_features_oe[categorical].astype(str)"
   ]
  },
  {
   "cell_type": "code",
   "execution_count": 215,
   "id": "adaa6a4f",
   "metadata": {},
   "outputs": [],
   "source": [
    "test_features_oe[categorical]=test_features_oe[categorical].astype(str)"
   ]
  },
  {
   "cell_type": "code",
   "execution_count": 216,
   "id": "ed2e80bd",
   "metadata": {},
   "outputs": [
    {
     "name": "stdout",
     "output_type": "stream",
     "text": [
      "GINI по полу 0.738\n",
      "CPU times: user 25min 15s, sys: 1min 16s, total: 26min 31s\n",
      "Wall time: 2min 4s\n"
     ]
    }
   ],
   "source": [
    "%%time\n",
    "model = CatBoostClassifier()\n",
    "model.fit(train_features_oe,train_traget_is_male, verbose = False,cat_features=categorical)\n",
    "predict_proba=model.predict_proba(test_features_oe)[:,1]\n",
    "gini_CB_gender=2 * m.roc_auc_score(test_traget_is_male, predict_proba)\n",
    "CB_params_gender=\"\"\n",
    "print(f'GINI по полу {gini_CB_gender - 1:2.3f}')"
   ]
  },
  {
   "cell_type": "code",
   "execution_count": null,
   "id": "0a155af6",
   "metadata": {},
   "outputs": [],
   "source": []
  },
  {
   "cell_type": "code",
   "execution_count": null,
   "id": "0bef75f4",
   "metadata": {},
   "outputs": [],
   "source": []
  },
  {
   "cell_type": "markdown",
   "id": "132021cf",
   "metadata": {},
   "source": [
    "# Подбор модели определения возраста пользователя (bucketed)"
   ]
  },
  {
   "cell_type": "code",
   "execution_count": null,
   "id": "f6c23d32",
   "metadata": {},
   "outputs": [],
   "source": []
  },
  {
   "cell_type": "markdown",
   "id": "15e0cd55",
   "metadata": {},
   "source": [
    "***Logistic regression***"
   ]
  },
  {
   "cell_type": "code",
   "execution_count": 217,
   "id": "303dc02f",
   "metadata": {},
   "outputs": [
    {
     "name": "stderr",
     "output_type": "stream",
     "text": [
      "/home/admin/anaconda3/lib/python3.9/site-packages/sklearn/linear_model/_logistic.py:814: ConvergenceWarning: lbfgs failed to converge (status=1):\n",
      "STOP: TOTAL NO. of ITERATIONS REACHED LIMIT.\n",
      "\n",
      "Increase the number of iterations (max_iter) or scale the data as shown in:\n",
      "    https://scikit-learn.org/stable/modules/preprocessing.html\n",
      "Please also refer to the documentation for alternative solver options:\n",
      "    https://scikit-learn.org/stable/modules/linear_model.html#logistic-regression\n",
      "  n_iter_i = _check_optimize_result(\n"
     ]
    },
    {
     "data": {
      "text/plain": [
       "LogisticRegression(random_state=12345)"
      ]
     },
     "execution_count": 217,
     "metadata": {},
     "output_type": "execute_result"
    }
   ],
   "source": [
    "model = LogisticRegression(random_state=12345)\n",
    "model.fit(train_features_ohe,train_traget_age_buck)\n"
   ]
  },
  {
   "cell_type": "code",
   "execution_count": 218,
   "id": "67ce6ef9",
   "metadata": {},
   "outputs": [
    {
     "name": "stdout",
     "output_type": "stream",
     "text": [
      "              precision    recall  f1-score   support\n",
      "\n",
      "         <18       0.02      0.00      0.01       210\n",
      "       18-25       0.55      0.24      0.34      7966\n",
      "       25-34       0.46      0.63      0.53     21340\n",
      "       35-44       0.38      0.54      0.44     19093\n",
      "       45-54       0.39      0.14      0.21     10183\n",
      "       55-65       0.45      0.13      0.20      5934\n",
      "         65+       0.24      0.03      0.05      1356\n",
      "\n",
      "    accuracy                           0.42     66082\n",
      "   macro avg       0.35      0.25      0.25     66082\n",
      "weighted avg       0.43      0.42      0.39     66082\n",
      "\n"
     ]
    }
   ],
   "source": [
    "print(m.classification_report(test_traget_age_buck, model.predict(test_features_ohe), \\\n",
    "                            target_names = ['<18', '18-25','25-34', '35-44', '45-54', '55-65', '65+']))"
   ]
  },
  {
   "cell_type": "code",
   "execution_count": null,
   "id": "aa03c9fd",
   "metadata": {},
   "outputs": [],
   "source": []
  },
  {
   "cell_type": "markdown",
   "id": "40e78aa6",
   "metadata": {},
   "source": [
    "***CatBoost***"
   ]
  },
  {
   "cell_type": "code",
   "execution_count": 219,
   "id": "99291b13",
   "metadata": {},
   "outputs": [],
   "source": [
    "train_features_oe[categorical]=train_features_oe[categorical].astype(str)"
   ]
  },
  {
   "cell_type": "code",
   "execution_count": 220,
   "id": "35979bba",
   "metadata": {},
   "outputs": [],
   "source": [
    "test_features_oe[categorical]=test_features_oe[categorical].astype(str)"
   ]
  },
  {
   "cell_type": "code",
   "execution_count": 221,
   "id": "a64b9215",
   "metadata": {},
   "outputs": [
    {
     "name": "stdout",
     "output_type": "stream",
     "text": [
      "CPU times: user 3h 49s, sys: 5min 15s, total: 3h 6min 4s\n",
      "Wall time: 15min 2s\n"
     ]
    },
    {
     "data": {
      "text/plain": [
       "<catboost.core.CatBoostClassifier at 0x7f62010dd1c0>"
      ]
     },
     "execution_count": 221,
     "metadata": {},
     "output_type": "execute_result"
    }
   ],
   "source": [
    "%%time\n",
    "model = CatBoostClassifier()\n",
    "model.fit(train_features_oe,train_traget_age_buck, verbose = False,cat_features=categorical)\n"
   ]
  },
  {
   "cell_type": "code",
   "execution_count": 222,
   "id": "ea739d40",
   "metadata": {},
   "outputs": [
    {
     "name": "stdout",
     "output_type": "stream",
     "text": [
      "              precision    recall  f1-score   support\n",
      "\n",
      "         <18       0.00      0.00      0.00       210\n",
      "       18-25       0.57      0.35      0.43      7966\n",
      "       25-34       0.51      0.65      0.57     21340\n",
      "       35-44       0.42      0.54      0.47     19093\n",
      "       45-54       0.39      0.23      0.29     10183\n",
      "       55-65       0.46      0.23      0.30      5934\n",
      "         65+       0.51      0.03      0.06      1356\n",
      "\n",
      "    accuracy                           0.47     66082\n",
      "   macro avg       0.41      0.29      0.30     66082\n",
      "weighted avg       0.47      0.47      0.45     66082\n",
      "\n"
     ]
    }
   ],
   "source": [
    "print(m.classification_report(test_traget_age_buck, model.predict(test_features_oe), \\\n",
    "                            target_names = ['<18', '18-25','25-34', '35-44', '45-54', '55-65', '65+']))"
   ]
  },
  {
   "cell_type": "code",
   "execution_count": null,
   "id": "29dc3da3",
   "metadata": {},
   "outputs": [],
   "source": []
  },
  {
   "cell_type": "code",
   "execution_count": null,
   "id": "2683601f",
   "metadata": {},
   "outputs": [],
   "source": []
  },
  {
   "cell_type": "code",
   "execution_count": null,
   "id": "a329ef75",
   "metadata": {},
   "outputs": [],
   "source": []
  },
  {
   "cell_type": "markdown",
   "id": "f0e8c486",
   "metadata": {},
   "source": [
    "### 500-т кластерный вариант"
   ]
  },
  {
   "cell_type": "markdown",
   "id": "77343a20",
   "metadata": {},
   "source": [
    "### *Подготовка данных*"
   ]
  },
  {
   "cell_type": "code",
   "execution_count": 223,
   "id": "3a8683ce",
   "metadata": {},
   "outputs": [],
   "source": [
    "#usr_targets = targets.to_pandas()"
   ]
  },
  {
   "cell_type": "code",
   "execution_count": 224,
   "id": "91136cff",
   "metadata": {},
   "outputs": [],
   "source": [
    "info_user500 = info_user500.reset_index()\n",
    "df = usr_targets.merge(info_user500, how = 'inner', on = ['user_id'])\n",
    "df_train=df[df['is_male'] != 'NA']\n",
    "df_train=df_train.dropna()\n",
    "df_train['is_male'] = df_train['is_male'].astype('int')"
   ]
  },
  {
   "cell_type": "code",
   "execution_count": 225,
   "id": "b61dc642",
   "metadata": {},
   "outputs": [],
   "source": [
    "categorical = ['reg_main','cpe_manufacturer_name','cpe_type_cd','cpe_model_os_type','cpe_model_name']"
   ]
  },
  {
   "cell_type": "code",
   "execution_count": 226,
   "id": "09421007",
   "metadata": {},
   "outputs": [],
   "source": [
    "numerical = []\n",
    "for i in df_train.columns:\n",
    "    if i not in [*categorical,'age','is_male','user_id']:\n",
    "        numerical.append(i)"
   ]
  },
  {
   "cell_type": "code",
   "execution_count": null,
   "id": "4bbeb4f7",
   "metadata": {},
   "outputs": [],
   "source": []
  },
  {
   "cell_type": "markdown",
   "id": "b0f75880",
   "metadata": {},
   "source": [
    "## Подготовка выборок для дальнейшего подбора моделей"
   ]
  },
  {
   "cell_type": "code",
   "execution_count": 227,
   "id": "90f464bb",
   "metadata": {},
   "outputs": [],
   "source": [
    "\n",
    "df_train=df_train.drop(['user_id'],axis=1)"
   ]
  },
  {
   "cell_type": "code",
   "execution_count": 228,
   "id": "2a685331",
   "metadata": {},
   "outputs": [],
   "source": [
    "train, test = train_test_split(df_train,test_size = 0.25,random_state=12345)"
   ]
  },
  {
   "cell_type": "code",
   "execution_count": 229,
   "id": "5215353c",
   "metadata": {},
   "outputs": [],
   "source": [
    "train_traget_age = train['age']\n",
    "train_traget_is_male = train['is_male']\n",
    "\n",
    "test_traget_age = test['age']\n",
    "test_traget_is_male = test['is_male']\n",
    "\n",
    "train_features= train.drop(['age','is_male',],axis=1)\n",
    "test_features= test.drop(['age','is_male'],axis=1)"
   ]
  },
  {
   "cell_type": "code",
   "execution_count": null,
   "id": "f0de6556",
   "metadata": {},
   "outputs": [],
   "source": [
    "\n"
   ]
  },
  {
   "cell_type": "code",
   "execution_count": 230,
   "id": "54549929",
   "metadata": {},
   "outputs": [],
   "source": [
    "def age_bucket(x):\n",
    "    return bisect.bisect_left([18,25,35,45,55,65], x)\n",
    "train_traget_age_buck = train_traget_age.map(age_bucket)\n",
    "test_traget_age_buck = test_traget_age.map(age_bucket)"
   ]
  },
  {
   "cell_type": "code",
   "execution_count": 231,
   "id": "33907033",
   "metadata": {},
   "outputs": [],
   "source": [
    "#Данные для обучения финальной модели\n",
    "df_train_target_age=df_train['age']\n",
    "df_train_target_is_male = df_train['is_male']\n",
    "df_train_target_age_buck=df_train_target_age.map(age_bucket)\n",
    "\n",
    "df_train_features=df_train.drop(['age','is_male',],axis=1)"
   ]
  },
  {
   "cell_type": "markdown",
   "id": "70fdab6c",
   "metadata": {},
   "source": [
    "***standart scaler***"
   ]
  },
  {
   "cell_type": "code",
   "execution_count": 232,
   "id": "2849c818",
   "metadata": {},
   "outputs": [
    {
     "name": "stderr",
     "output_type": "stream",
     "text": [
      "/home/admin/anaconda3/lib/python3.9/site-packages/sklearn/utils/validation.py:624: UserWarning: pandas.DataFrame with sparse columns found.It will be converted to a dense numpy array.\n",
      "  warnings.warn(\n",
      "/home/admin/anaconda3/lib/python3.9/site-packages/sklearn/utils/validation.py:624: UserWarning: pandas.DataFrame with sparse columns found.It will be converted to a dense numpy array.\n",
      "  warnings.warn(\n",
      "/home/admin/anaconda3/lib/python3.9/site-packages/sklearn/utils/validation.py:624: UserWarning: pandas.DataFrame with sparse columns found.It will be converted to a dense numpy array.\n",
      "  warnings.warn(\n"
     ]
    }
   ],
   "source": [
    "scaler = StandardScaler()\n",
    "scaler.fit(train_features[numerical])\n",
    "train_features[numerical]=scaler.transform(train_features[numerical])\n",
    "test_features[numerical]=scaler.transform(test_features[numerical])\n",
    "\n"
   ]
  },
  {
   "cell_type": "code",
   "execution_count": null,
   "id": "47cce3fe",
   "metadata": {},
   "outputs": [],
   "source": []
  },
  {
   "cell_type": "markdown",
   "id": "3a206b0c",
   "metadata": {},
   "source": [
    "***OHE***"
   ]
  },
  {
   "cell_type": "code",
   "execution_count": 233,
   "id": "847b6bed",
   "metadata": {},
   "outputs": [],
   "source": [
    "train_features_ohe=train_features.copy()\n",
    "test_features_ohe=test_features.copy()\n",
    "df_train_features_ohe = df_train_features.copy()\n"
   ]
  },
  {
   "cell_type": "code",
   "execution_count": 234,
   "id": "c346bbec",
   "metadata": {},
   "outputs": [
    {
     "name": "stderr",
     "output_type": "stream",
     "text": [
      "/home/admin/anaconda3/lib/python3.9/site-packages/sklearn/preprocessing/_encoders.py:170: UserWarning: Found unknown categories in columns [4] during transform. These unknown categories will be encoded as all zeros\n",
      "  warnings.warn(\n"
     ]
    }
   ],
   "source": [
    "\n",
    "\n",
    "ohe=OneHotEncoder(drop='first',handle_unknown='ignore')\n",
    "ohe.fit(train_features[categorical])\n",
    "\n",
    "train_features_ohe[ohe.get_feature_names_out()]=ohe.transform(train_features_ohe[categorical]).toarray()\n",
    "train_features_ohe=train_features_ohe.drop(categorical,axis=1)\n",
    "\n",
    "\n",
    "test_features_ohe[ohe.get_feature_names_out()]=ohe.transform(test_features_ohe[categorical]).toarray()\n",
    "test_features_ohe=test_features_ohe.drop(categorical,axis=1)"
   ]
  },
  {
   "cell_type": "markdown",
   "id": "b76d77ba",
   "metadata": {},
   "source": [
    "***OE***"
   ]
  },
  {
   "cell_type": "code",
   "execution_count": null,
   "id": "16132955",
   "metadata": {},
   "outputs": [],
   "source": []
  },
  {
   "cell_type": "code",
   "execution_count": 235,
   "id": "5fdf4de0",
   "metadata": {},
   "outputs": [],
   "source": [
    "train_features_oe=train_features.copy()\n",
    "test_features_oe=test_features.copy()\n",
    "df_train_features_oe = df_train_features.copy()\n"
   ]
  },
  {
   "cell_type": "code",
   "execution_count": null,
   "id": "cd24be36",
   "metadata": {},
   "outputs": [],
   "source": [
    "\n",
    "\n",
    "\n"
   ]
  },
  {
   "cell_type": "code",
   "execution_count": 236,
   "id": "407b5bd9",
   "metadata": {},
   "outputs": [],
   "source": [
    "oe=OrdinalEncoder(handle_unknown='use_encoded_value', unknown_value=-1)\n",
    "oe.fit(train_features_oe[categorical])\n",
    "train_features_oe[categorical]=oe.transform(train_features_oe[categorical])\n",
    "test_features_oe[categorical]=oe.transform(test_features_oe[categorical])"
   ]
  },
  {
   "cell_type": "code",
   "execution_count": null,
   "id": "f53c1d20",
   "metadata": {},
   "outputs": [],
   "source": []
  },
  {
   "cell_type": "code",
   "execution_count": null,
   "id": "6458545e",
   "metadata": {},
   "outputs": [],
   "source": []
  },
  {
   "cell_type": "code",
   "execution_count": null,
   "id": "a324e713",
   "metadata": {},
   "outputs": [],
   "source": []
  },
  {
   "cell_type": "markdown",
   "id": "b1b9a110",
   "metadata": {},
   "source": [
    "# Подбор модели определения пола пользователя"
   ]
  },
  {
   "cell_type": "markdown",
   "id": "6292d0a8",
   "metadata": {},
   "source": [
    "***Logistic regression***"
   ]
  },
  {
   "cell_type": "code",
   "execution_count": 237,
   "id": "2b5353ef",
   "metadata": {},
   "outputs": [
    {
     "name": "stderr",
     "output_type": "stream",
     "text": [
      "/home/admin/anaconda3/lib/python3.9/site-packages/sklearn/linear_model/_logistic.py:814: ConvergenceWarning: lbfgs failed to converge (status=1):\n",
      "STOP: TOTAL NO. of ITERATIONS REACHED LIMIT.\n",
      "\n",
      "Increase the number of iterations (max_iter) or scale the data as shown in:\n",
      "    https://scikit-learn.org/stable/modules/preprocessing.html\n",
      "Please also refer to the documentation for alternative solver options:\n",
      "    https://scikit-learn.org/stable/modules/linear_model.html#logistic-regression\n",
      "  n_iter_i = _check_optimize_result(\n"
     ]
    },
    {
     "name": "stdout",
     "output_type": "stream",
     "text": [
      "GINI по полу 0.673\n",
      "CPU times: user 5min 32s, sys: 19.7 s, total: 5min 51s\n",
      "Wall time: 39.4 s\n"
     ]
    }
   ],
   "source": [
    "%%time\n",
    "model = LogisticRegression(random_state=12345)\n",
    "model.fit(train_features_ohe,train_traget_is_male)\n",
    "predict_proba=model.predict_proba(test_features_ohe)[:,1]\n",
    "gini_logs_gender=2 * m.roc_auc_score(test_traget_is_male, predict_proba)\n",
    "logs_params_gender=\"\"\n",
    "print(f'GINI по полу {gini_logs_gender - 1:2.3f}')"
   ]
  },
  {
   "cell_type": "markdown",
   "id": "d2505be2",
   "metadata": {},
   "source": [
    "***CatBoost***"
   ]
  },
  {
   "cell_type": "code",
   "execution_count": 238,
   "id": "2abcfac9",
   "metadata": {},
   "outputs": [],
   "source": [
    "train_features_oe[categorical]=train_features_oe[categorical].astype(str)"
   ]
  },
  {
   "cell_type": "code",
   "execution_count": 239,
   "id": "64f02f14",
   "metadata": {},
   "outputs": [],
   "source": [
    "test_features_oe[categorical]=test_features_oe[categorical].astype(str)"
   ]
  },
  {
   "cell_type": "code",
   "execution_count": 240,
   "id": "05d23a1d",
   "metadata": {},
   "outputs": [
    {
     "name": "stdout",
     "output_type": "stream",
     "text": [
      "GINI по полу 0.738\n",
      "CPU times: user 26min 5s, sys: 1min 13s, total: 27min 19s\n",
      "Wall time: 2min 15s\n"
     ]
    }
   ],
   "source": [
    "%%time\n",
    "model = CatBoostClassifier()\n",
    "model.fit(train_features_oe,train_traget_is_male, verbose = False,cat_features=categorical)\n",
    "predict_proba=model.predict_proba(test_features_oe)[:,1]\n",
    "gini_CB_gender=2 * m.roc_auc_score(test_traget_is_male, predict_proba)\n",
    "CB_params_gender=\"\"\n",
    "print(f'GINI по полу {gini_CB_gender - 1:2.3f}')"
   ]
  },
  {
   "cell_type": "code",
   "execution_count": null,
   "id": "fad02c75",
   "metadata": {},
   "outputs": [],
   "source": []
  },
  {
   "cell_type": "code",
   "execution_count": null,
   "id": "140cc0c7",
   "metadata": {},
   "outputs": [],
   "source": []
  },
  {
   "cell_type": "markdown",
   "id": "c4a5d336",
   "metadata": {},
   "source": [
    "# Подбор модели определения возраста пользователя (bucketed)"
   ]
  },
  {
   "cell_type": "code",
   "execution_count": null,
   "id": "2d79d46f",
   "metadata": {},
   "outputs": [],
   "source": []
  },
  {
   "cell_type": "markdown",
   "id": "4ef73d90",
   "metadata": {},
   "source": [
    "***Logistic regression***"
   ]
  },
  {
   "cell_type": "code",
   "execution_count": 241,
   "id": "cb9cb895",
   "metadata": {},
   "outputs": [
    {
     "name": "stderr",
     "output_type": "stream",
     "text": [
      "/home/admin/anaconda3/lib/python3.9/site-packages/sklearn/linear_model/_logistic.py:814: ConvergenceWarning: lbfgs failed to converge (status=1):\n",
      "STOP: TOTAL NO. of ITERATIONS REACHED LIMIT.\n",
      "\n",
      "Increase the number of iterations (max_iter) or scale the data as shown in:\n",
      "    https://scikit-learn.org/stable/modules/preprocessing.html\n",
      "Please also refer to the documentation for alternative solver options:\n",
      "    https://scikit-learn.org/stable/modules/linear_model.html#logistic-regression\n",
      "  n_iter_i = _check_optimize_result(\n"
     ]
    },
    {
     "data": {
      "text/plain": [
       "LogisticRegression(random_state=12345)"
      ]
     },
     "execution_count": 241,
     "metadata": {},
     "output_type": "execute_result"
    }
   ],
   "source": [
    "model = LogisticRegression(random_state=12345)\n",
    "model.fit(train_features_ohe,train_traget_age_buck)\n"
   ]
  },
  {
   "cell_type": "code",
   "execution_count": 242,
   "id": "ba977d3f",
   "metadata": {},
   "outputs": [
    {
     "name": "stdout",
     "output_type": "stream",
     "text": [
      "              precision    recall  f1-score   support\n",
      "\n",
      "         <18       0.06      0.01      0.02       210\n",
      "       18-25       0.55      0.24      0.34      7966\n",
      "       25-34       0.46      0.63      0.53     21340\n",
      "       35-44       0.37      0.55      0.44     19093\n",
      "       45-54       0.38      0.14      0.21     10183\n",
      "       55-65       0.43      0.12      0.19      5934\n",
      "         65+       0.24      0.03      0.06      1356\n",
      "\n",
      "    accuracy                           0.42     66082\n",
      "   macro avg       0.36      0.25      0.26     66082\n",
      "weighted avg       0.43      0.42      0.39     66082\n",
      "\n"
     ]
    }
   ],
   "source": [
    "print(m.classification_report(test_traget_age_buck, model.predict(test_features_ohe), \\\n",
    "                            target_names = ['<18', '18-25','25-34', '35-44', '45-54', '55-65', '65+']))"
   ]
  },
  {
   "cell_type": "code",
   "execution_count": null,
   "id": "a73201c7",
   "metadata": {},
   "outputs": [],
   "source": []
  },
  {
   "cell_type": "code",
   "execution_count": null,
   "id": "94315453",
   "metadata": {},
   "outputs": [],
   "source": []
  },
  {
   "cell_type": "code",
   "execution_count": null,
   "id": "d368c5ef",
   "metadata": {},
   "outputs": [],
   "source": []
  },
  {
   "cell_type": "markdown",
   "id": "325b1fcd",
   "metadata": {},
   "source": [
    "***CatBoost***"
   ]
  },
  {
   "cell_type": "code",
   "execution_count": 243,
   "id": "b923c6af",
   "metadata": {},
   "outputs": [],
   "source": [
    "train_features_oe[categorical]=train_features_oe[categorical].astype(str)"
   ]
  },
  {
   "cell_type": "code",
   "execution_count": 244,
   "id": "7ba6d245",
   "metadata": {},
   "outputs": [],
   "source": [
    "test_features_oe[categorical]=test_features_oe[categorical].astype(str)"
   ]
  },
  {
   "cell_type": "code",
   "execution_count": 245,
   "id": "b6f57f9f",
   "metadata": {},
   "outputs": [
    {
     "name": "stdout",
     "output_type": "stream",
     "text": [
      "CPU times: user 3h 6min 8s, sys: 5min 25s, total: 3h 11min 34s\n",
      "Wall time: 16min 30s\n"
     ]
    },
    {
     "data": {
      "text/plain": [
       "<catboost.core.CatBoostClassifier at 0x7f79d163ae20>"
      ]
     },
     "execution_count": 245,
     "metadata": {},
     "output_type": "execute_result"
    }
   ],
   "source": [
    "%%time\n",
    "model = CatBoostClassifier()\n",
    "model.fit(train_features_oe,train_traget_age_buck, verbose = False,cat_features=categorical)\n"
   ]
  },
  {
   "cell_type": "code",
   "execution_count": 246,
   "id": "cab6761a",
   "metadata": {},
   "outputs": [
    {
     "name": "stdout",
     "output_type": "stream",
     "text": [
      "              precision    recall  f1-score   support\n",
      "\n",
      "         <18       0.00      0.00      0.00       210\n",
      "       18-25       0.57      0.35      0.43      7966\n",
      "       25-34       0.51      0.66      0.57     21340\n",
      "       35-44       0.42      0.54      0.47     19093\n",
      "       45-54       0.40      0.23      0.29     10183\n",
      "       55-65       0.46      0.23      0.31      5934\n",
      "         65+       0.53      0.03      0.06      1356\n",
      "\n",
      "    accuracy                           0.47     66082\n",
      "   macro avg       0.41      0.29      0.31     66082\n",
      "weighted avg       0.47      0.47      0.45     66082\n",
      "\n"
     ]
    }
   ],
   "source": [
    "print(m.classification_report(test_traget_age_buck, model.predict(test_features_oe), \\\n",
    "                            target_names = ['<18', '18-25','25-34', '35-44', '45-54', '55-65', '65+']))"
   ]
  },
  {
   "cell_type": "code",
   "execution_count": null,
   "id": "2027a095",
   "metadata": {},
   "outputs": [],
   "source": []
  },
  {
   "cell_type": "code",
   "execution_count": null,
   "id": "e5da4f26",
   "metadata": {},
   "outputs": [],
   "source": []
  },
  {
   "cell_type": "markdown",
   "id": "7373b998",
   "metadata": {},
   "source": [
    "# ВЫВОДЫ"
   ]
  },
  {
   "cell_type": "markdown",
   "id": "8b1a4219",
   "metadata": {},
   "source": [
    "Наилучшая модель для определения пола и возраста пользователя по cooлies оказался CATBOOSTCLASSIFIER для обоих тагетов (с вариантом кластеризации сайтов в 50 кластеров так как по мере роста кол-ва классовкачесво оставалось неизменным). Далее я постараюсь улучшить показатели этих моделей подобрав оптимальные гиперпараметры. тут - MTS_ML_CUP_sibrikova_public_submition)"
   ]
  },
  {
   "cell_type": "code",
   "execution_count": null,
   "id": "91d9f635",
   "metadata": {},
   "outputs": [],
   "source": []
  },
  {
   "cell_type": "code",
   "execution_count": null,
   "id": "1fee6ceb",
   "metadata": {},
   "outputs": [],
   "source": []
  },
  {
   "cell_type": "code",
   "execution_count": null,
   "id": "e499aecc",
   "metadata": {},
   "outputs": [],
   "source": []
  },
  {
   "cell_type": "code",
   "execution_count": null,
   "id": "5b9635a3",
   "metadata": {},
   "outputs": [],
   "source": []
  },
  {
   "cell_type": "code",
   "execution_count": null,
   "id": "9bb49749",
   "metadata": {},
   "outputs": [],
   "source": []
  },
  {
   "cell_type": "code",
   "execution_count": null,
   "id": "b9ae43fe",
   "metadata": {},
   "outputs": [],
   "source": []
  },
  {
   "cell_type": "code",
   "execution_count": null,
   "id": "7c7182ca",
   "metadata": {},
   "outputs": [],
   "source": []
  },
  {
   "cell_type": "code",
   "execution_count": null,
   "id": "36104e8f",
   "metadata": {},
   "outputs": [],
   "source": []
  },
  {
   "cell_type": "code",
   "execution_count": null,
   "id": "da4f3552",
   "metadata": {},
   "outputs": [],
   "source": []
  },
  {
   "cell_type": "code",
   "execution_count": null,
   "id": "985cea2a",
   "metadata": {},
   "outputs": [],
   "source": []
  },
  {
   "cell_type": "code",
   "execution_count": null,
   "id": "50ced3f2",
   "metadata": {},
   "outputs": [],
   "source": []
  },
  {
   "cell_type": "code",
   "execution_count": null,
   "id": "4ed3afec",
   "metadata": {},
   "outputs": [],
   "source": []
  },
  {
   "cell_type": "code",
   "execution_count": null,
   "id": "e6ca0733",
   "metadata": {},
   "outputs": [],
   "source": []
  },
  {
   "cell_type": "code",
   "execution_count": null,
   "id": "2dc12b50",
   "metadata": {},
   "outputs": [],
   "source": []
  },
  {
   "cell_type": "code",
   "execution_count": null,
   "id": "0a06aea6",
   "metadata": {},
   "outputs": [],
   "source": []
  },
  {
   "cell_type": "code",
   "execution_count": null,
   "id": "d4aded13",
   "metadata": {},
   "outputs": [],
   "source": []
  },
  {
   "cell_type": "code",
   "execution_count": null,
   "id": "d99df516",
   "metadata": {},
   "outputs": [],
   "source": []
  },
  {
   "cell_type": "code",
   "execution_count": null,
   "id": "4e0e6af4",
   "metadata": {},
   "outputs": [],
   "source": []
  },
  {
   "cell_type": "code",
   "execution_count": null,
   "id": "96265932",
   "metadata": {},
   "outputs": [],
   "source": []
  },
  {
   "cell_type": "code",
   "execution_count": null,
   "id": "10c304eb",
   "metadata": {},
   "outputs": [],
   "source": []
  },
  {
   "cell_type": "code",
   "execution_count": null,
   "id": "3d18bbbf",
   "metadata": {},
   "outputs": [],
   "source": []
  },
  {
   "cell_type": "code",
   "execution_count": null,
   "id": "ecb59552",
   "metadata": {},
   "outputs": [],
   "source": []
  },
  {
   "cell_type": "code",
   "execution_count": null,
   "id": "ca191717",
   "metadata": {},
   "outputs": [],
   "source": []
  },
  {
   "cell_type": "code",
   "execution_count": null,
   "id": "b5e726ca",
   "metadata": {},
   "outputs": [],
   "source": []
  },
  {
   "cell_type": "code",
   "execution_count": null,
   "id": "36dca001",
   "metadata": {},
   "outputs": [],
   "source": []
  },
  {
   "cell_type": "code",
   "execution_count": null,
   "id": "c335f21c",
   "metadata": {},
   "outputs": [],
   "source": []
  },
  {
   "cell_type": "code",
   "execution_count": null,
   "id": "2e68c8e2",
   "metadata": {},
   "outputs": [],
   "source": []
  },
  {
   "cell_type": "code",
   "execution_count": null,
   "id": "ec82b322",
   "metadata": {},
   "outputs": [],
   "source": []
  },
  {
   "cell_type": "code",
   "execution_count": null,
   "id": "b321d8b0",
   "metadata": {},
   "outputs": [],
   "source": []
  },
  {
   "cell_type": "code",
   "execution_count": null,
   "id": "39a297f1",
   "metadata": {},
   "outputs": [],
   "source": []
  },
  {
   "cell_type": "code",
   "execution_count": null,
   "id": "ed6abc53",
   "metadata": {},
   "outputs": [],
   "source": []
  },
  {
   "cell_type": "code",
   "execution_count": null,
   "id": "ca48d8dd",
   "metadata": {},
   "outputs": [],
   "source": []
  },
  {
   "cell_type": "code",
   "execution_count": null,
   "id": "f1a11cc6",
   "metadata": {},
   "outputs": [],
   "source": []
  },
  {
   "cell_type": "code",
   "execution_count": null,
   "id": "01307e97",
   "metadata": {},
   "outputs": [],
   "source": []
  },
  {
   "cell_type": "code",
   "execution_count": null,
   "id": "21092bcc",
   "metadata": {},
   "outputs": [],
   "source": []
  },
  {
   "cell_type": "code",
   "execution_count": null,
   "id": "fc90840f",
   "metadata": {},
   "outputs": [],
   "source": []
  },
  {
   "cell_type": "code",
   "execution_count": null,
   "id": "95fca3b8",
   "metadata": {},
   "outputs": [],
   "source": []
  },
  {
   "cell_type": "code",
   "execution_count": null,
   "id": "b17cc2b0",
   "metadata": {},
   "outputs": [],
   "source": []
  },
  {
   "cell_type": "code",
   "execution_count": null,
   "id": "0c3c0339",
   "metadata": {},
   "outputs": [],
   "source": []
  },
  {
   "cell_type": "code",
   "execution_count": null,
   "id": "63c0f817",
   "metadata": {},
   "outputs": [],
   "source": []
  },
  {
   "cell_type": "code",
   "execution_count": null,
   "id": "c4175899",
   "metadata": {},
   "outputs": [],
   "source": []
  },
  {
   "cell_type": "code",
   "execution_count": null,
   "id": "0d32b322",
   "metadata": {},
   "outputs": [],
   "source": []
  },
  {
   "cell_type": "code",
   "execution_count": null,
   "id": "a664445f",
   "metadata": {},
   "outputs": [],
   "source": []
  },
  {
   "cell_type": "code",
   "execution_count": null,
   "id": "a821caf5",
   "metadata": {},
   "outputs": [],
   "source": []
  },
  {
   "cell_type": "code",
   "execution_count": null,
   "id": "7631aaa2",
   "metadata": {},
   "outputs": [],
   "source": []
  },
  {
   "cell_type": "code",
   "execution_count": null,
   "id": "f39726c9",
   "metadata": {},
   "outputs": [],
   "source": []
  },
  {
   "cell_type": "code",
   "execution_count": null,
   "id": "e1bd1b9c",
   "metadata": {},
   "outputs": [],
   "source": []
  },
  {
   "cell_type": "code",
   "execution_count": null,
   "id": "52b18cab",
   "metadata": {},
   "outputs": [],
   "source": []
  },
  {
   "cell_type": "code",
   "execution_count": null,
   "id": "781c9702",
   "metadata": {},
   "outputs": [],
   "source": []
  },
  {
   "cell_type": "code",
   "execution_count": null,
   "id": "77dddd03",
   "metadata": {},
   "outputs": [],
   "source": []
  },
  {
   "cell_type": "code",
   "execution_count": null,
   "id": "faf4f7cb",
   "metadata": {},
   "outputs": [],
   "source": []
  },
  {
   "cell_type": "code",
   "execution_count": null,
   "id": "d48b30f0",
   "metadata": {},
   "outputs": [],
   "source": []
  },
  {
   "cell_type": "code",
   "execution_count": null,
   "id": "6d99e29d",
   "metadata": {},
   "outputs": [],
   "source": []
  },
  {
   "cell_type": "code",
   "execution_count": null,
   "id": "80ce70b5",
   "metadata": {},
   "outputs": [],
   "source": []
  },
  {
   "cell_type": "code",
   "execution_count": null,
   "id": "cf872ccc",
   "metadata": {},
   "outputs": [],
   "source": []
  },
  {
   "cell_type": "code",
   "execution_count": null,
   "id": "f4f2df0b",
   "metadata": {},
   "outputs": [],
   "source": []
  },
  {
   "cell_type": "code",
   "execution_count": null,
   "id": "f8ea08e9",
   "metadata": {},
   "outputs": [],
   "source": []
  }
 ],
 "metadata": {
  "kernelspec": {
   "display_name": "Python 3 (ipykernel)",
   "language": "python",
   "name": "python3"
  },
  "language_info": {
   "codemirror_mode": {
    "name": "ipython",
    "version": 3
   },
   "file_extension": ".py",
   "mimetype": "text/x-python",
   "name": "python",
   "nbconvert_exporter": "python",
   "pygments_lexer": "ipython3",
   "version": "3.9.12"
  }
 },
 "nbformat": 4,
 "nbformat_minor": 5
}

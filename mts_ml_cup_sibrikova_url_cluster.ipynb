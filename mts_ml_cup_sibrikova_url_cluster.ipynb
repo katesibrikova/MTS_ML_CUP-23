{
 "cells": [
  {
   "cell_type": "markdown",
   "id": "e7b48940",
   "metadata": {},
   "source": [
    "# Кластеризация текстов"
   ]
  },
  {
   "cell_type": "markdown",
   "id": "4cbe82a8",
   "metadata": {},
   "source": [
    "На данном этапе работы над проектом MTScup я поставила задачу объединения имеющихся url в более крупные группы с целью минимизации потери информации (как это происходит в baseline). Для этого мне нужно было получить какую-то информацию о сайтах, имеющихся в нашей базе.\n",
    "\n",
    "В рамках работы нашей команды  была принято решение использовать метод парсинга title с имеющихся страниц. (этот этап выполнил мой коллега). После сбора данных я собрала все тайтлы в одном датасете. и предобратала их на предмет пропусков и неинформативных заголовков страниц.\n",
    "\n",
    "\"Информативные\"  url - я векторизую и кластеризую методом к-means на 50-150-300-500 кластеров. При дальнейшей работе я протестирую какой вариант являтся оптимальным для глобальной задачи\n",
    "\n",
    "Те url, по которым не удалось получить информации и с невысокой посещаемостью пользователями,  на следующем этапе я буду обрабатывать с помощью получения разреженной матрицы и снижения ее размерности.\n",
    "\n",
    "Url, без тайтлов, но с высокой посещаемостью будут обрабатываться как отедельные кластеры. \n",
    "\n",
    "Перед векторизацией я определяю язык текста и определяю язык-доминант (rus) и перевожу остальные тексты на него.\n"
   ]
  },
  {
   "cell_type": "code",
   "execution_count": 1,
   "id": "37e4a443",
   "metadata": {},
   "outputs": [
    {
     "name": "stderr",
     "output_type": "stream",
     "text": [
      "[nltk_data] Downloading package stopwords to\n",
      "[nltk_data]     /Users/makkate/nltk_data...\n",
      "[nltk_data]   Package stopwords is already up-to-date!\n"
     ]
    },
    {
     "data": {
      "text/plain": [
       "True"
      ]
     },
     "execution_count": 1,
     "metadata": {},
     "output_type": "execute_result"
    }
   ],
   "source": [
    "import pandas as pd\n",
    "\n",
    "from deep_translator import GoogleTranslator\n",
    "from tqdm import notebook \n",
    "import langid\n",
    "import re\n",
    "from pymystem3 import Mystem\n",
    "from sklearn.feature_extraction.text import CountVectorizer\n",
    "from nltk.corpus import stopwords\n",
    "import nltk \n",
    "nltk.download('stopwords')"
   ]
  },
  {
   "cell_type": "code",
   "execution_count": 2,
   "id": "dadcfc7a",
   "metadata": {},
   "outputs": [],
   "source": [
    "import fasttext\n",
    "fasttext.FastText.eprint = lambda x: None\n"
   ]
  },
  {
   "cell_type": "code",
   "execution_count": 3,
   "id": "e45ce251",
   "metadata": {},
   "outputs": [],
   "source": [
    "df = pd.read_csv('titles_sib')"
   ]
  },
  {
   "cell_type": "code",
   "execution_count": 4,
   "id": "9176e430",
   "metadata": {},
   "outputs": [
    {
     "name": "stdout",
     "output_type": "stream",
     "text": [
      "<class 'pandas.core.frame.DataFrame'>\n",
      "RangeIndex: 199682 entries, 0 to 199681\n",
      "Data columns (total 5 columns):\n",
      " #   Column      Non-Null Count   Dtype  \n",
      "---  ------      --------------   -----  \n",
      " 0   Unnamed: 0  199682 non-null  int64  \n",
      " 1   url         199682 non-null  object \n",
      " 2   us_count    199682 non-null  int64  \n",
      " 3   title       199682 non-null  object \n",
      " 4   is_parced   199682 non-null  float64\n",
      "dtypes: float64(1), int64(2), object(2)\n",
      "memory usage: 7.6+ MB\n"
     ]
    }
   ],
   "source": [
    "df.info()"
   ]
  },
  {
   "cell_type": "markdown",
   "id": "810f48b0",
   "metadata": {},
   "source": [
    "## Работа с titles (well parced)"
   ]
  },
  {
   "cell_type": "markdown",
   "id": "d148c443",
   "metadata": {},
   "source": [
    "Так как не со всех адресов удалось собрать корректно titles(где-то недоступен ресурс, где-то title был неинофрмативен или был вовсе пустой - данную предобработку можно найти в файле:) дальнейшая работа с titles мне видится следующим образом: где они собраны корректно - определеяем я"
   ]
  },
  {
   "cell_type": "markdown",
   "id": "aff81ed9",
   "metadata": {},
   "source": [
    "### Предобработка корректных titles"
   ]
  },
  {
   "cell_type": "markdown",
   "id": "eaa35db3",
   "metadata": {},
   "source": [
    "\n",
    "Обработаем строки с имеющимися title - определим язык и переведем все на русский \n"
   ]
  },
  {
   "cell_type": "code",
   "execution_count": 5,
   "id": "d38c03e0",
   "metadata": {},
   "outputs": [],
   "source": [
    "model = fasttext.load_model('lid.176.ftz')\n",
    "def detect_lang_err(x):\n",
    "    try:\n",
    "        lang = str(model.predict(x, k=1)[0][0])\n",
    "        lang = lang.replace(\"__label__\",\"\")\n",
    "        \n",
    "        proba = model.predict(x, k=1)[1]\n",
    "        return lang,proba\n",
    "    except:\n",
    "        return \"error\",'error'"
   ]
  },
  {
   "cell_type": "code",
   "execution_count": 6,
   "id": "434b693e",
   "metadata": {},
   "outputs": [
    {
     "name": "stdout",
     "output_type": "stream",
     "text": [
      "CPU times: user 8.11 s, sys: 108 ms, total: 8.22 s\n",
      "Wall time: 8.66 s\n"
     ]
    }
   ],
   "source": [
    "%%time\n",
    "language_detection=\\\n",
    "df.loc[df['is_parced']==-1]['title'].apply(lambda x: detect_lang_err(x))"
   ]
  },
  {
   "cell_type": "code",
   "execution_count": 7,
   "id": "641037a3",
   "metadata": {},
   "outputs": [],
   "source": [
    "language_detection_1=pd.DataFrame(language_detection, index = df.loc[df['is_parced']==-1]['title'].index)"
   ]
  },
  {
   "cell_type": "code",
   "execution_count": 8,
   "id": "f1746f87",
   "metadata": {},
   "outputs": [],
   "source": [
    "language_detection_1['lang'] = language_detection_1['title'].apply(lambda x: x[0])\n",
    "language_detection_1['proba'] = language_detection_1['title'].apply(lambda x: x[1])"
   ]
  },
  {
   "cell_type": "code",
   "execution_count": 9,
   "id": "ba64b0a9",
   "metadata": {},
   "outputs": [],
   "source": [
    "language_detection_1.loc[language_detection_1['title']==(\"error\",'error'),\"lang\"]=\"Nan\"\n",
    "language_detection_1.loc[language_detection_1['title']==(\"error\",'error'),\"proba\"]=\"Nan\""
   ]
  },
  {
   "cell_type": "code",
   "execution_count": 10,
   "id": "e71b3cfe",
   "metadata": {},
   "outputs": [],
   "source": [
    "language_detection_1['proba']=language_detection_1['proba'].astype('float')\n",
    "language_detection_1=language_detection_1.drop(['title'],axis=1)\n",
    "#language_detection_1"
   ]
  },
  {
   "cell_type": "code",
   "execution_count": 11,
   "id": "8c8c5beb",
   "metadata": {},
   "outputs": [],
   "source": [
    "\n",
    "df=df.join(language_detection_1)"
   ]
  },
  {
   "cell_type": "code",
   "execution_count": 12,
   "id": "d347bd10",
   "metadata": {},
   "outputs": [
    {
     "data": {
      "text/html": [
       "<div>\n",
       "<style scoped>\n",
       "    .dataframe tbody tr th:only-of-type {\n",
       "        vertical-align: middle;\n",
       "    }\n",
       "\n",
       "    .dataframe tbody tr th {\n",
       "        vertical-align: top;\n",
       "    }\n",
       "\n",
       "    .dataframe thead th {\n",
       "        text-align: right;\n",
       "    }\n",
       "</style>\n",
       "<table border=\"1\" class=\"dataframe\">\n",
       "  <thead>\n",
       "    <tr style=\"text-align: right;\">\n",
       "      <th></th>\n",
       "      <th>Unnamed: 0</th>\n",
       "      <th>url</th>\n",
       "      <th>us_count</th>\n",
       "      <th>title</th>\n",
       "      <th>is_parced</th>\n",
       "      <th>lang</th>\n",
       "      <th>proba</th>\n",
       "    </tr>\n",
       "  </thead>\n",
       "  <tbody>\n",
       "    <tr>\n",
       "      <th>0</th>\n",
       "      <td>0</td>\n",
       "      <td>googleads.g.doubleclick.net</td>\n",
       "      <td>22013466</td>\n",
       "      <td>googleads.g.doubleclick.net</td>\n",
       "      <td>-2.0</td>\n",
       "      <td>NaN</td>\n",
       "      <td>NaN</td>\n",
       "    </tr>\n",
       "    <tr>\n",
       "      <th>1</th>\n",
       "      <td>1</td>\n",
       "      <td>yandex.ru</td>\n",
       "      <td>19007657</td>\n",
       "      <td>yandex.ru</td>\n",
       "      <td>-2.0</td>\n",
       "      <td>NaN</td>\n",
       "      <td>NaN</td>\n",
       "    </tr>\n",
       "    <tr>\n",
       "      <th>2</th>\n",
       "      <td>2</td>\n",
       "      <td>i.ytimg.com</td>\n",
       "      <td>16901446</td>\n",
       "      <td>i.ytimg.com</td>\n",
       "      <td>-2.0</td>\n",
       "      <td>NaN</td>\n",
       "      <td>NaN</td>\n",
       "    </tr>\n",
       "    <tr>\n",
       "      <th>3</th>\n",
       "      <td>3</td>\n",
       "      <td>vk.com</td>\n",
       "      <td>16695251</td>\n",
       "      <td>vk.com</td>\n",
       "      <td>-2.0</td>\n",
       "      <td>NaN</td>\n",
       "      <td>NaN</td>\n",
       "    </tr>\n",
       "    <tr>\n",
       "      <th>4</th>\n",
       "      <td>4</td>\n",
       "      <td>avatars.mds.yandex.net</td>\n",
       "      <td>16212095</td>\n",
       "      <td>avatars.mds.yandex.net</td>\n",
       "      <td>-2.0</td>\n",
       "      <td>NaN</td>\n",
       "      <td>NaN</td>\n",
       "    </tr>\n",
       "    <tr>\n",
       "      <th>...</th>\n",
       "      <td>...</td>\n",
       "      <td>...</td>\n",
       "      <td>...</td>\n",
       "      <td>...</td>\n",
       "      <td>...</td>\n",
       "      <td>...</td>\n",
       "      <td>...</td>\n",
       "    </tr>\n",
       "    <tr>\n",
       "      <th>199677</th>\n",
       "      <td>199678</td>\n",
       "      <td>money.poprostomu.com</td>\n",
       "      <td>1</td>\n",
       "      <td>money.poprostomu.com</td>\n",
       "      <td>-2.0</td>\n",
       "      <td>NaN</td>\n",
       "      <td>NaN</td>\n",
       "    </tr>\n",
       "    <tr>\n",
       "      <th>199678</th>\n",
       "      <td>199679</td>\n",
       "      <td>money.irktorgnews.ru</td>\n",
       "      <td>1</td>\n",
       "      <td>Новости про деньги: личные, бизнеса и чужие - ...</td>\n",
       "      <td>-1.0</td>\n",
       "      <td>ru</td>\n",
       "      <td>0.928988</td>\n",
       "    </tr>\n",
       "    <tr>\n",
       "      <th>199679</th>\n",
       "      <td>199680</td>\n",
       "      <td>monety-10-50.blogspot.com</td>\n",
       "      <td>1</td>\n",
       "      <td>Монеты России, СССР и Империи</td>\n",
       "      <td>-1.0</td>\n",
       "      <td>ru</td>\n",
       "      <td>0.984342</td>\n",
       "    </tr>\n",
       "    <tr>\n",
       "      <th>199680</th>\n",
       "      <td>199681</td>\n",
       "      <td>monetainfo.ru</td>\n",
       "      <td>1</td>\n",
       "      <td>МонетаИнфо - Всё для нумизматов</td>\n",
       "      <td>-1.0</td>\n",
       "      <td>ru</td>\n",
       "      <td>0.985585</td>\n",
       "    </tr>\n",
       "    <tr>\n",
       "      <th>199681</th>\n",
       "      <td>199682</td>\n",
       "      <td>яркнига24.рф</td>\n",
       "      <td>1</td>\n",
       "      <td>яркнига24.рф</td>\n",
       "      <td>-2.0</td>\n",
       "      <td>NaN</td>\n",
       "      <td>NaN</td>\n",
       "    </tr>\n",
       "  </tbody>\n",
       "</table>\n",
       "<p>199682 rows × 7 columns</p>\n",
       "</div>"
      ],
      "text/plain": [
       "        Unnamed: 0                          url  us_count  \\\n",
       "0                0  googleads.g.doubleclick.net  22013466   \n",
       "1                1                    yandex.ru  19007657   \n",
       "2                2                  i.ytimg.com  16901446   \n",
       "3                3                       vk.com  16695251   \n",
       "4                4       avatars.mds.yandex.net  16212095   \n",
       "...            ...                          ...       ...   \n",
       "199677      199678         money.poprostomu.com         1   \n",
       "199678      199679         money.irktorgnews.ru         1   \n",
       "199679      199680    monety-10-50.blogspot.com         1   \n",
       "199680      199681                monetainfo.ru         1   \n",
       "199681      199682                 яркнига24.рф         1   \n",
       "\n",
       "                                                    title  is_parced lang  \\\n",
       "0                             googleads.g.doubleclick.net       -2.0  NaN   \n",
       "1                                               yandex.ru       -2.0  NaN   \n",
       "2                                             i.ytimg.com       -2.0  NaN   \n",
       "3                                                  vk.com       -2.0  NaN   \n",
       "4                                  avatars.mds.yandex.net       -2.0  NaN   \n",
       "...                                                   ...        ...  ...   \n",
       "199677                               money.poprostomu.com       -2.0  NaN   \n",
       "199678  Новости про деньги: личные, бизнеса и чужие - ...       -1.0   ru   \n",
       "199679                      Монеты России, СССР и Империи       -1.0   ru   \n",
       "199680                    МонетаИнфо - Всё для нумизматов       -1.0   ru   \n",
       "199681                                       яркнига24.рф       -2.0  NaN   \n",
       "\n",
       "           proba  \n",
       "0            NaN  \n",
       "1            NaN  \n",
       "2            NaN  \n",
       "3            NaN  \n",
       "4            NaN  \n",
       "...          ...  \n",
       "199677       NaN  \n",
       "199678  0.928988  \n",
       "199679  0.984342  \n",
       "199680  0.985585  \n",
       "199681       NaN  \n",
       "\n",
       "[199682 rows x 7 columns]"
      ]
     },
     "execution_count": 12,
     "metadata": {},
     "output_type": "execute_result"
    }
   ],
   "source": [
    "df"
   ]
  },
  {
   "cell_type": "code",
   "execution_count": 13,
   "id": "10456ac2",
   "metadata": {},
   "outputs": [],
   "source": [
    "def translate_lang_err(x):\n",
    "    try:\n",
    "        result = GoogleTranslator(source='auto', target='ru').translate(x)\n",
    "    except:\n",
    "        result ='error'\n",
    "    return result"
   ]
  },
  {
   "cell_type": "code",
   "execution_count": 14,
   "id": "a73cac42",
   "metadata": {},
   "outputs": [],
   "source": [
    "df['title_ru']=\"\""
   ]
  },
  {
   "cell_type": "code",
   "execution_count": 15,
   "id": "e11ee306",
   "metadata": {},
   "outputs": [],
   "source": [
    "#Примем уровень вероятности при определении языка, при котором мы оставляем текст неизменным 80% и более\n",
    "#сохраним для этих строк исходный title\n",
    "df.loc[(df['lang']==\"ru\")&(df['proba']>=0.8),'title_ru'] = df.loc[(df['lang']==\"ru\")&(df['proba']>=0.8),'title']"
   ]
  },
  {
   "cell_type": "code",
   "execution_count": null,
   "id": "6eec4d80",
   "metadata": {},
   "outputs": [],
   "source": []
  },
  {
   "cell_type": "code",
   "execution_count": 16,
   "id": "5f6d0eba",
   "metadata": {},
   "outputs": [],
   "source": [
    "#df.loc[((df['lang']==\"ru\")&(df['proba']<0.8))|((df['lang']!=\"ru\")&(df['is_parced']==-1))]"
   ]
  },
  {
   "cell_type": "code",
   "execution_count": 17,
   "id": "5de3eb4f",
   "metadata": {},
   "outputs": [],
   "source": [
    "#Определим длину всего массива, подлежащего переводу для дальнейшего разделения на батчи\n",
    "len_trans=len(df.loc[((df['lang']==\"ru\")&(df['proba']<0.8))|((df['lang']!=\"ru\")&(df['is_parced']==-1))])"
   ]
  },
  {
   "cell_type": "code",
   "execution_count": 18,
   "id": "8d019e30",
   "metadata": {},
   "outputs": [
    {
     "data": {
      "text/plain": [
       "30586"
      ]
     },
     "execution_count": 18,
     "metadata": {},
     "output_type": "execute_result"
    }
   ],
   "source": [
    "len_trans"
   ]
  },
  {
   "cell_type": "code",
   "execution_count": null,
   "id": "49711fa2",
   "metadata": {},
   "outputs": [
    {
     "data": {
      "application/json": {
       "ascii": false,
       "bar_format": null,
       "colour": null,
       "elapsed": 0.059782981872558594,
       "initial": 0,
       "n": 0,
       "ncols": null,
       "nrows": 24,
       "postfix": null,
       "prefix": "",
       "rate": null,
       "total": 305,
       "unit": "it",
       "unit_divisor": 1000,
       "unit_scale": false
      },
      "application/vnd.jupyter.widget-view+json": {
       "model_id": "5de5dcfe506b40b79ac3c4e9f90680be",
       "version_major": 2,
       "version_minor": 0
      },
      "text/plain": [
       "  0%|          | 0/305 [00:00<?, ?it/s]"
      ]
     },
     "metadata": {},
     "output_type": "display_data"
    }
   ],
   "source": [
    "batch_size = 100\n",
    "trans=[]\n",
    "for i in notebook.tqdm(range(len_trans // batch_size)):\n",
    "    \n",
    "    blank=df.loc[((df['lang']==\"ru\")&(df['proba']<0.8))|((df['lang']!=\"ru\")&(df['is_parced']==-1)),'title'].\\\n",
    "    iloc[batch_size*i:batch_size*(i+1)].\\\n",
    "    apply(lambda x: translate_lang_err(x))\n",
    "    trans.extend(blank)\n",
    "    #так как выполнение может прерваться по внешним причинам добавим промежуточное сохранение во внешний файл\n",
    "    x_p=pd.DataFrame(trans)\n",
    "    x_p.to_csv('check_trans')\n",
    "\n"
   ]
  },
  {
   "cell_type": "code",
   "execution_count": null,
   "id": "c3b27a7d",
   "metadata": {},
   "outputs": [],
   "source": [
    "blank=df.loc[((df['lang']==\"ru\")&(df['proba']<0.8))|((df['lang']!=\"ru\")&(df['is_parced']==-1)),'title'].\\\n",
    "    iloc[len(trans):len_trans].\\\n",
    "    apply(lambda x: translate_lang_err(x))\n",
    "trans.extend(blank)"
   ]
  },
  {
   "cell_type": "code",
   "execution_count": null,
   "id": "c9e5c866",
   "metadata": {},
   "outputs": [],
   "source": [
    "trans = pd.DataFrame(trans,index = df.loc[((df['lang']==\"ru\")&(df['proba']<0.8))|((df['lang']!=\"ru\")&(df['is_parced']==-1)),'title'].index)\n",
    "trans.columns=['title_ru_tr']"
   ]
  },
  {
   "cell_type": "code",
   "execution_count": null,
   "id": "cc865d32",
   "metadata": {},
   "outputs": [],
   "source": [
    "trans"
   ]
  },
  {
   "cell_type": "code",
   "execution_count": null,
   "id": "b20914d9",
   "metadata": {},
   "outputs": [],
   "source": [
    "df=df.join(trans)"
   ]
  },
  {
   "cell_type": "code",
   "execution_count": null,
   "id": "88664272",
   "metadata": {},
   "outputs": [],
   "source": [
    "df.loc[(df['title_ru']==\"\")&(~(df['title_ru_tr'].isna())),'title_ru']=\\\n",
    "df.loc[(df['title_ru']==\"\")&(~(df['title_ru_tr'].isna())),'title_ru_tr']\n",
    "\n"
   ]
  },
  {
   "cell_type": "code",
   "execution_count": null,
   "id": "c1dea3c9",
   "metadata": {},
   "outputs": [],
   "source": [
    "df.info()"
   ]
  },
  {
   "cell_type": "code",
   "execution_count": null,
   "id": "5d4afcef",
   "metadata": {},
   "outputs": [],
   "source": [
    "df.to_csv('titles_sib.csv')"
   ]
  },
  {
   "cell_type": "code",
   "execution_count": null,
   "id": "d02cde46",
   "metadata": {},
   "outputs": [],
   "source": [
    "df.loc[(df['is_parced']==-1),['url','title_ru']]"
   ]
  },
  {
   "cell_type": "markdown",
   "id": "dbe71512",
   "metadata": {},
   "source": [
    "### Кластеризация сайтов с валидными titles"
   ]
  },
  {
   "cell_type": "markdown",
   "id": "009b4a1a",
   "metadata": {},
   "source": [
    "С целью снижения признакового пространства и увеличения информативности малопосещаемых сайтов я хочу по имеющимся данных о тематике сайтов (информация из html title) \"укрупнить\" параметры посреством объединения их в кластеры. Близость будет изменяться между векторами, которые мы получим после векторизации строк методом Count Vectorizer."
   ]
  },
  {
   "cell_type": "code",
   "execution_count": null,
   "id": "5218e928",
   "metadata": {},
   "outputs": [],
   "source": [
    "#создадим переменную со валидными тайтлами\n",
    "df_cluster =df.loc[(df['is_parced']==-1),['url','title_ru']]"
   ]
  },
  {
   "cell_type": "code",
   "execution_count": null,
   "id": "d46530c0",
   "metadata": {},
   "outputs": [],
   "source": [
    "#задаю функцию очистки текста от неинформативынх знаков\n",
    "def clear_text(text):\n",
    "    t=re.sub(r\"[^А-Яа-яЁёA-Za-z']\", ' ', text)\n",
    "    t=\" \".join(t.split())\n",
    "    return t.lower()"
   ]
  },
  {
   "cell_type": "code",
   "execution_count": null,
   "id": "1d3ccd9c",
   "metadata": {},
   "outputs": [],
   "source": [
    "%%time\n",
    "df_cluster['clear_text']=df_cluster['title_ru'].apply(lambda x: clear_text(x))\n",
    "#очищаем тексты "
   ]
  },
  {
   "cell_type": "code",
   "execution_count": null,
   "id": "1bedcaf8",
   "metadata": {},
   "outputs": [],
   "source": [
    "#задаю функцию лемматизации текста\n",
    "m = Mystem()\n",
    "def lemmatize(text):\n",
    "    \n",
    "    \n",
    "    \n",
    "    lemm_list =m.lemmatize(text)\n",
    "    lemm_text = \" \".join(lemm_list)\n",
    "        \n",
    "    return clear_text(lemm_text)"
   ]
  },
  {
   "cell_type": "code",
   "execution_count": null,
   "id": "a6d1c7b3",
   "metadata": {},
   "outputs": [],
   "source": [
    "#пометим в исходном файле что данные сайты не информативны\n",
    "df.loc[df_cluster.loc[df_cluster['clear_text']==\"\"].index,'is_parced']=-2"
   ]
  },
  {
   "cell_type": "code",
   "execution_count": null,
   "id": "0cb8ffc6",
   "metadata": {},
   "outputs": [],
   "source": [
    "#отфильтруем неинформативные строки\n",
    "df_cluster=df_cluster.loc[df_cluster['clear_text']!=\"\"]"
   ]
  },
  {
   "cell_type": "code",
   "execution_count": null,
   "id": "c82644e6",
   "metadata": {},
   "outputs": [],
   "source": [
    "\n",
    "%%time\n",
    "df_cluster['lemm_text']=df_cluster['clear_text'].apply(lambda x: lemmatize(x))\n",
    "#лемматизируем тексты"
   ]
  },
  {
   "cell_type": "code",
   "execution_count": null,
   "id": "5c16c663",
   "metadata": {},
   "outputs": [],
   "source": [
    "#df_cluster.to_csv(\"df_cluster.csv\")"
   ]
  },
  {
   "cell_type": "code",
   "execution_count": null,
   "id": "e7eceaa0",
   "metadata": {},
   "outputs": [],
   "source": [
    "#получим мешок слов + приведем все к unicode\n",
    "%%time\n",
    "corpus = df_cluster['lemm_text'].values.astype('U')"
   ]
  },
  {
   "cell_type": "code",
   "execution_count": null,
   "id": "d6d19c9c",
   "metadata": {},
   "outputs": [],
   "source": [
    "#выгрузим список стоп-слов из библиотеки nltk\n",
    "stop_words = set(stopwords.words('russian'))"
   ]
  },
  {
   "cell_type": "code",
   "execution_count": null,
   "id": "26c52403",
   "metadata": {},
   "outputs": [],
   "source": []
  },
  {
   "cell_type": "markdown",
   "id": "ecc64727",
   "metadata": {},
   "source": [
    "Поскольку имющиеся у нс тексты имеют определенную тематику, то помимо стандартных стоп-слов я считаю необходимо дабавить и те, которые неинформативны для нашего кейса (а-ля \"страница\" \"ру\" и пр) для этого получим список всех слов в корпусе и проранжируем ихх по встречаемовти - из топ 100 в ручном режиме отбираю слова-мусор, а так же отсекаю слова, встречающиеся менее 5 раз в массиве."
   ]
  },
  {
   "cell_type": "code",
   "execution_count": null,
   "id": "115d45fc",
   "metadata": {},
   "outputs": [],
   "source": [
    "explore_stop_words=[]\n",
    "for i in corpus:\n",
    "    for j in i.split():\n",
    "        explore_stop_words.append(j)\n",
    "        \n",
    "explore_stop_words=pd.DataFrame(explore_stop_words)\n",
    "explore_stop_words=explore_stop_words[0].value_counts()\n",
    "explore_stop_words=pd.DataFrame(explore_stop_words)\n",
    "explore_stop_words=explore_stop_words.reset_index()\n",
    "explore_stop_words.columns = ['word','count']"
   ]
  },
  {
   "cell_type": "code",
   "execution_count": null,
   "id": "4ea7206e",
   "metadata": {},
   "outputs": [],
   "source": [
    "explore_stop_words=\\\n",
    "explore_stop_words.loc[~explore_stop_words['word'].isin(stop_words)]"
   ]
  },
  {
   "cell_type": "code",
   "execution_count": null,
   "id": "85014ebf",
   "metadata": {},
   "outputs": [],
   "source": []
  },
  {
   "cell_type": "code",
   "execution_count": null,
   "id": "078e43fe",
   "metadata": {},
   "outputs": [],
   "source": [
    "new_stop_words=['главный','ru','сайт','страница','г','ру','весь']\n",
    "new_stop_words.extend(explore_stop_words.loc[explore_stop_words['count']<=5,'word'])"
   ]
  },
  {
   "cell_type": "code",
   "execution_count": null,
   "id": "6a25b5e2",
   "metadata": {},
   "outputs": [],
   "source": [
    "for i in new_stop_words:\n",
    "    stop_words.add(i)"
   ]
  },
  {
   "cell_type": "code",
   "execution_count": null,
   "id": "de658dcb",
   "metadata": {},
   "outputs": [],
   "source": []
  },
  {
   "cell_type": "markdown",
   "id": "cef6c592",
   "metadata": {},
   "source": [
    "Полученный список стоп-слов использую при векторизации. Использую count-vectorizer, вместо tf-idf так как дальнешая задача стостит не в семантическом анализе, а в поиске близостей текстов."
   ]
  },
  {
   "cell_type": "code",
   "execution_count": null,
   "id": "ea96ec00",
   "metadata": {},
   "outputs": [],
   "source": [
    "count_vect = CountVectorizer(stop_words=list(stop_words))\n",
    "count_vect.fit(corpus)\n",
    "corp_vect=count_vect.transform(corpus)"
   ]
  },
  {
   "cell_type": "markdown",
   "id": "ab5f3371",
   "metadata": {},
   "source": [
    "***кластеризация текстов***"
   ]
  },
  {
   "cell_type": "markdown",
   "id": "41a0b88c",
   "metadata": {},
   "source": [
    "Поскольку заранее мне неизвестно исходное кол-во групп сайтов в которые мы хоти их объединить я буду использовать метод k-means и спрогнзирую три раза кластеризацию (на 50 тематик, на 150,на 300 и на 500) и уже при дальнейшей работе с предсказанием пола и возрата ползователей выберу вариант, обеспечивающий нас лучшими параметрами + оптимальный по времени работы. "
   ]
  },
  {
   "cell_type": "code",
   "execution_count": null,
   "id": "47137d71",
   "metadata": {},
   "outputs": [],
   "source": [
    "from sklearn.cluster import MiniBatchKMeans"
   ]
  },
  {
   "cell_type": "code",
   "execution_count": null,
   "id": "c015b14a",
   "metadata": {},
   "outputs": [],
   "source": [
    "mbk  = MiniBatchKMeans( n_clusters=50)\n",
    "mbk.fit(corp_vect)\n",
    "predict_k50=mbk.predict(corp_vect)\n",
    "predict_k50=pd.DataFrame(predict_k50,index=df_cluster.index)\n",
    "predict_k50.columns=['kmeans_50']\n",
    "df_cluster=df_cluster.join(predict_k50)\n",
    "#df_cluster.to_csv(\"df_cluster.csv\")"
   ]
  },
  {
   "cell_type": "code",
   "execution_count": null,
   "id": "b2739a20",
   "metadata": {},
   "outputs": [],
   "source": [
    "mbk  = MiniBatchKMeans( n_clusters=150)\n",
    "mbk.fit(corp_vect)\n",
    "predict_k150=mbk.predict(corp_vect)\n",
    "predict_k150=pd.DataFrame(predict_k150,index=df_cluster.index)\n",
    "predict_k150.columns=['kmeans_150']\n",
    "df_cluster=df_cluster.join(predict_k150)\n",
    "#df_cluster.to_csv(\"df_cluster.csv\")"
   ]
  },
  {
   "cell_type": "code",
   "execution_count": null,
   "id": "febeb300",
   "metadata": {},
   "outputs": [],
   "source": [
    "mbk  = MiniBatchKMeans( n_clusters=300)\n",
    "mbk.fit(corp_vect)\n",
    "predict_k300=mbk.predict(corp_vect)\n",
    "predict_k300=pd.DataFrame(predict_k300,index=df_cluster.index)\n",
    "predict_k300.columns=['kmeans_300']\n",
    "df_cluster=df_cluster.join(predict_k300)\n",
    "#df_cluster.to_csv(\"df_cluster.csv\")"
   ]
  },
  {
   "cell_type": "code",
   "execution_count": null,
   "id": "2b6502b5",
   "metadata": {},
   "outputs": [],
   "source": [
    "mbk  = MiniBatchKMeans( n_clusters=500)\n",
    "mbk.fit(corp_vect)\n",
    "predict_k500=mbk.predict(corp_vect)\n",
    "predict_k500=pd.DataFrame(predict_k500,index=df_cluster.index)\n",
    "predict_k500.columns=['kmeans_500']\n",
    "df_cluster=df_cluster.join(predict_k500)\n",
    "#df_cluster.to_csv(\"df_cluster.csv\")"
   ]
  },
  {
   "cell_type": "code",
   "execution_count": null,
   "id": "cb82fa49",
   "metadata": {},
   "outputs": [],
   "source": [
    "df_cluster=df_cluster[['lemm_text','kmeans_50','kmeans_150','kmeans_300','kmeans_500']]"
   ]
  },
  {
   "cell_type": "code",
   "execution_count": null,
   "id": "8de582a4",
   "metadata": {},
   "outputs": [],
   "source": [
    "df.loc[(df['is_parced']==-1),['url','title_ru']]"
   ]
  },
  {
   "cell_type": "code",
   "execution_count": null,
   "id": "65d509eb",
   "metadata": {},
   "outputs": [],
   "source": [
    "df=df.join(df_cluster)"
   ]
  },
  {
   "cell_type": "code",
   "execution_count": null,
   "id": "ba45cc88",
   "metadata": {},
   "outputs": [],
   "source": []
  },
  {
   "cell_type": "code",
   "execution_count": null,
   "id": "23f5a13a",
   "metadata": {},
   "outputs": [],
   "source": []
  },
  {
   "cell_type": "code",
   "execution_count": null,
   "id": "a1071ad4",
   "metadata": {},
   "outputs": [],
   "source": []
  },
  {
   "cell_type": "markdown",
   "id": "9e8fc11b",
   "metadata": {},
   "source": [
    "## Предобработка адресов, с отсутствующими title"
   ]
  },
  {
   "cell_type": "markdown",
   "id": "46751eab",
   "metadata": {},
   "source": [
    "Прежде чем кластеризовать по адресам сначала разделлим адреса, которые пользуются популярностью - их я оставлю в исходном виде(как самостоятельные), так как они сами по себе имеют большой вес для дальнейшего предсказания таргетов (пол и возраст),а вот те сайты, которые имеют мало посещений  - есть смысл объединить со схожими."
   ]
  },
  {
   "cell_type": "code",
   "execution_count": null,
   "id": "e18b6021",
   "metadata": {},
   "outputs": [],
   "source": [
    "df.loc[df['is_parced']==-2,'us_count'].describe()"
   ]
  },
  {
   "cell_type": "code",
   "execution_count": null,
   "id": "9004e9c1",
   "metadata": {},
   "outputs": [],
   "source": [
    "df.loc[df['is_parced']==-2,'us_count'].plot(kind='box');"
   ]
  },
  {
   "cell_type": "code",
   "execution_count": null,
   "id": "bf7fbf93",
   "metadata": {},
   "outputs": [],
   "source": [
    "trash = df['us_count'].sort_values(ascending=False)[500]"
   ]
  },
  {
   "cell_type": "code",
   "execution_count": null,
   "id": "b2450a39",
   "metadata": {},
   "outputs": [],
   "source": [
    "trash"
   ]
  },
  {
   "cell_type": "markdown",
   "id": "8221f12a",
   "metadata": {},
   "source": [
    "Разделим сайты на 2 группы: 1 - сайты с достаточно высокой посещаемостью 2 - c низкой посещаемостью\n",
    "примем за условный разделитель: топ 500 сайтов "
   ]
  },
  {
   "cell_type": "code",
   "execution_count": null,
   "id": "5cb7ebc1",
   "metadata": {},
   "outputs": [],
   "source": [
    "df.loc[(df['is_parced']==-2)&((df['us_count']>trash)),'us_count'].hist();"
   ]
  },
  {
   "cell_type": "code",
   "execution_count": null,
   "id": "c0c0e47e",
   "metadata": {},
   "outputs": [],
   "source": [
    "df.loc[(df['is_parced']==-2)&((df['us_count']<=trash)),\"us_count\"].hist();"
   ]
  },
  {
   "cell_type": "code",
   "execution_count": null,
   "id": "28a630ce",
   "metadata": {},
   "outputs": [],
   "source": [
    "df['unparced_url_type']=\"\""
   ]
  },
  {
   "cell_type": "code",
   "execution_count": null,
   "id": "228c58c3",
   "metadata": {},
   "outputs": [],
   "source": [
    "df.loc[(df['is_parced']==-2)&((df['us_count']<=trash)),'unparced_url_type']=\"low_usage\"\n",
    "df.loc[(df['is_parced']==-2)&((df['us_count']>trash)),'unparced_url_type']=\"high_usage\""
   ]
  },
  {
   "cell_type": "code",
   "execution_count": null,
   "id": "68d15d30",
   "metadata": {},
   "outputs": [],
   "source": [
    "df['unparced_url_type']=df['unparced_url_type'].fillna('parces_url_check_cluster')"
   ]
  },
  {
   "cell_type": "code",
   "execution_count": null,
   "id": "2dfc5340",
   "metadata": {},
   "outputs": [],
   "source": [
    "df.info()"
   ]
  },
  {
   "cell_type": "code",
   "execution_count": null,
   "id": "eec5eb96",
   "metadata": {},
   "outputs": [],
   "source": []
  },
  {
   "cell_type": "markdown",
   "id": "95d5b403",
   "metadata": {},
   "source": [
    "## Подотовка таблицы для экспорта"
   ]
  },
  {
   "cell_type": "markdown",
   "id": "82a05b31",
   "metadata": {},
   "source": [
    "Поскольку топ-500 сайтов мы будем считать за отдельные неизменыемые кластеры, то с целью дальнейшей оптимизации хочу их добавить в уже имеющиеся кластеры \"k-means...\" под споими именами. там образом в в каждом варианте кластеризации мы увеличим кол-во кластеров на 500шт."
   ]
  },
  {
   "cell_type": "code",
   "execution_count": null,
   "id": "45ca2d91",
   "metadata": {},
   "outputs": [],
   "source": []
  },
  {
   "cell_type": "code",
   "execution_count": null,
   "id": "0b7aadbe",
   "metadata": {},
   "outputs": [],
   "source": [
    "df_fin=df[['url','unparced_url_type','kmeans_50','kmeans_150','kmeans_300','kmeans_500']]\n",
    "df_fin=df_fin.set_index('url')"
   ]
  },
  {
   "cell_type": "code",
   "execution_count": null,
   "id": "a05b8b5e",
   "metadata": {},
   "outputs": [],
   "source": [
    "df_fin.loc[df_fin['unparced_url_type']==\"high_usage\",'kmeans_50']=\\\n",
    "df_fin.loc[df_fin['unparced_url_type']==\"high_usage\",'kmeans_50'].index"
   ]
  },
  {
   "cell_type": "code",
   "execution_count": null,
   "id": "050e1b00",
   "metadata": {},
   "outputs": [],
   "source": [
    "df_fin.loc[df_fin['unparced_url_type']==\"high_usage\",'kmeans_150']=\\\n",
    "df_fin.loc[df_fin['unparced_url_type']==\"high_usage\",'kmeans_150'].index"
   ]
  },
  {
   "cell_type": "code",
   "execution_count": null,
   "id": "706bfb62",
   "metadata": {},
   "outputs": [],
   "source": [
    "df_fin.loc[df_fin['unparced_url_type']==\"high_usage\",'kmeans_300']=\\\n",
    "df_fin.loc[df_fin['unparced_url_type']==\"high_usage\",'kmeans_300'].index"
   ]
  },
  {
   "cell_type": "code",
   "execution_count": null,
   "id": "cfb7e264",
   "metadata": {},
   "outputs": [],
   "source": [
    "df_fin.loc[df_fin['unparced_url_type']==\"high_usage\",'kmeans_500']=\\\n",
    "df_fin.loc[df_fin['unparced_url_type']==\"high_usage\",'kmeans_500'].index"
   ]
  },
  {
   "cell_type": "code",
   "execution_count": null,
   "id": "683aab5e",
   "metadata": {},
   "outputs": [],
   "source": [
    "df_fin.columns=['is_low_usage', 'kmeans_50', 'kmeans_150', 'kmeans_300',\n",
    "       'kmeans_500']"
   ]
  },
  {
   "cell_type": "code",
   "execution_count": null,
   "id": "d85bbf99",
   "metadata": {},
   "outputs": [],
   "source": [
    "df_fin.loc[df_fin['is_low_usage']==\"high_usage\",'is_low_usage']=False\n",
    "df_fin.loc[df_fin['is_low_usage']==\"low_usage\",'is_low_usage']=True\n",
    "df_fin.loc[df_fin['is_low_usage']==\"\",'is_low_usage']=False"
   ]
  },
  {
   "cell_type": "code",
   "execution_count": null,
   "id": "131f43ca",
   "metadata": {},
   "outputs": [],
   "source": [
    "df_fin.info()"
   ]
  },
  {
   "cell_type": "code",
   "execution_count": null,
   "id": "df5a1bbd",
   "metadata": {},
   "outputs": [],
   "source": [
    "df_fin.to_csv('url_clusters.csv')"
   ]
  },
  {
   "cell_type": "markdown",
   "id": "0901c9bd",
   "metadata": {},
   "source": [
    "# Выводы"
   ]
  },
  {
   "cell_type": "markdown",
   "id": "c8351173",
   "metadata": {},
   "source": [
    "Все задачи данного этапа выполнены:\n",
    "1. обработаны заголовки страниц и приведены в векторы\n",
    "2. произведена кластеризация в нескольких вариантах\n",
    "3. крупные сайты были выделены в отдельные кластеры\n",
    "4. мелкие сайты без валидных оглавлений были помечены для удобства дальнейшей рыботы"
   ]
  },
  {
   "cell_type": "markdown",
   "id": "42a6407b",
   "metadata": {},
   "source": [
    "## Следующий этап работы см. файл : mts_ml_cup_sibrikova_main_body.ipynb"
   ]
  },
  {
   "cell_type": "code",
   "execution_count": null,
   "id": "93c85d32",
   "metadata": {},
   "outputs": [],
   "source": []
  }
 ],
 "metadata": {
  "kernelspec": {
   "display_name": "Python 3 (ipykernel)",
   "language": "python",
   "name": "python3"
  },
  "language_info": {
   "codemirror_mode": {
    "name": "ipython",
    "version": 3
   },
   "file_extension": ".py",
   "mimetype": "text/x-python",
   "name": "python",
   "nbconvert_exporter": "python",
   "pygments_lexer": "ipython3",
   "version": "3.9.12"
  }
 },
 "nbformat": 4,
 "nbformat_minor": 5
}
